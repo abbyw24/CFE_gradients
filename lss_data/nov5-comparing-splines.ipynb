{
 "cells": [
  {
   "cell_type": "code",
   "execution_count": 1,
   "metadata": {},
   "outputs": [
    {
     "name": "stdout",
     "output_type": "stream",
     "text": [
      "20.0 16\n",
      "[ 0.68       -0.76        0.06133333  0.19709091  0.13536424 -0.06061856\n",
      " -0.28941176 -0.00527331 -0.16601307  0.10916427 -0.03308642 -0.09363985\n",
      "  0.14135747 -0.02187845 -0.05268966]\n",
      "15\n",
      "Computing amplitudes (Corrfunc/utils.py)\n",
      "Evaluating xi (Corrfunc/utils.py)\n"
     ]
    },
    {
     "ename": "NameError",
     "evalue": "name 'xi_ana_spline' is not defined",
     "output_type": "error",
     "traceback": [
      "\u001b[0;31m---------------------------------------------------------------------------\u001b[0m",
      "\u001b[0;31mNameError\u001b[0m                                 Traceback (most recent call last)",
      "\u001b[0;32m~/Physics/research-summer2020/lss_data/aug21-demo-corr-func.ipynb\u001b[0m in \u001b[0;36m<module>\u001b[0;34m\u001b[0m\n\u001b[1;32m      1\u001b[0m \u001b[0;31m# comparing all results!\u001b[0m\u001b[0;34m\u001b[0m\u001b[0;34m\u001b[0m\u001b[0;34m\u001b[0m\u001b[0m\n\u001b[1;32m      2\u001b[0m \u001b[0mplt\u001b[0m\u001b[0;34m.\u001b[0m\u001b[0mfigure\u001b[0m\u001b[0;34m(\u001b[0m\u001b[0mfigsize\u001b[0m\u001b[0;34m=\u001b[0m\u001b[0;34m(\u001b[0m\u001b[0;36m16\u001b[0m\u001b[0;34m,\u001b[0m\u001b[0;36m8\u001b[0m\u001b[0;34m)\u001b[0m\u001b[0;34m)\u001b[0m\u001b[0;34m\u001b[0m\u001b[0;34m\u001b[0m\u001b[0m\n\u001b[0;32m----> 3\u001b[0;31m \u001b[0mplt\u001b[0m\u001b[0;34m.\u001b[0m\u001b[0mplot\u001b[0m\u001b[0;34m(\u001b[0m\u001b[0mr_fine\u001b[0m\u001b[0;34m,\u001b[0m \u001b[0mxi_ana_spline\u001b[0m\u001b[0;34m,\u001b[0m \u001b[0mcolor\u001b[0m\u001b[0;34m=\u001b[0m\u001b[0;34m'red'\u001b[0m\u001b[0;34m,\u001b[0m \u001b[0mlabel\u001b[0m\u001b[0;34m=\u001b[0m\u001b[0;34m'Cubic spline basis'\u001b[0m\u001b[0;34m)\u001b[0m\u001b[0;34m\u001b[0m\u001b[0;34m\u001b[0m\u001b[0m\n\u001b[0m\u001b[1;32m      4\u001b[0m \u001b[0mplt\u001b[0m\u001b[0;34m.\u001b[0m\u001b[0mplot\u001b[0m\u001b[0;34m(\u001b[0m\u001b[0mr_fine\u001b[0m\u001b[0;34m,\u001b[0m \u001b[0mxi_proj\u001b[0m\u001b[0;34m,\u001b[0m \u001b[0mcolor\u001b[0m\u001b[0;34m=\u001b[0m\u001b[0;34m'blue'\u001b[0m\u001b[0;34m,\u001b[0m \u001b[0mlabel\u001b[0m\u001b[0;34m=\u001b[0m\u001b[0;34m'Tophat basis'\u001b[0m\u001b[0;34m)\u001b[0m\u001b[0;34m\u001b[0m\u001b[0;34m\u001b[0m\u001b[0m\n\u001b[1;32m      5\u001b[0m \u001b[0mplt\u001b[0m\u001b[0;34m.\u001b[0m\u001b[0mplot\u001b[0m\u001b[0;34m(\u001b[0m\u001b[0mr_avg\u001b[0m\u001b[0;34m,\u001b[0m \u001b[0mxi_ls\u001b[0m\u001b[0;34m,\u001b[0m \u001b[0mmarker\u001b[0m\u001b[0;34m=\u001b[0m\u001b[0;34m'o'\u001b[0m\u001b[0;34m,\u001b[0m \u001b[0mls\u001b[0m\u001b[0;34m=\u001b[0m\u001b[0;34m'None'\u001b[0m\u001b[0;34m,\u001b[0m \u001b[0mcolor\u001b[0m\u001b[0;34m=\u001b[0m\u001b[0;34m'grey'\u001b[0m\u001b[0;34m,\u001b[0m \u001b[0mlabel\u001b[0m\u001b[0;34m=\u001b[0m\u001b[0;34m'Standard estimator'\u001b[0m\u001b[0;34m)\u001b[0m\u001b[0;34m\u001b[0m\u001b[0;34m\u001b[0m\u001b[0m\n",
      "\u001b[0;31mNameError\u001b[0m: name 'xi_ana_spline' is not defined"
     ]
    }
   ],
   "source": [
    "%run aug21-demo-corr-func.ipynb"
   ]
  },
  {
   "cell_type": "code",
   "execution_count": 7,
   "metadata": {},
   "outputs": [
    {
     "name": "stdout",
     "output_type": "stream",
     "text": [
      "rmin = 0.0\n",
      "rmax = 20.0\n",
      "nthreads = 1\n",
      "bin_edges = [1.00000000e-02 1.34266667e+00 2.67533333e+00 4.00800000e+00\n",
      " 5.34066667e+00 6.67333333e+00 8.00600000e+00 9.33866667e+00\n",
      " 1.06713333e+01 1.20040000e+01 1.33366667e+01 1.46693333e+01\n",
      " 1.60020000e+01 1.73346667e+01 1.86673333e+01 2.00000000e+01]\n",
      "mumax = 1.0\n",
      "nmubins = 1\n",
      "boxsize = 20.0\n",
      "periodic = False\n"
     ]
    }
   ],
   "source": [
    "# values imported from aug21-demo-corr-func.ipynb\n",
    "print(\"rmin =\",rmin)\n",
    "print(\"rmax =\",rmax)\n",
    "print(\"nthreads =\",nthreads)\n",
    "print(\"bin_edges =\",bin_edges)\n",
    "print(\"mumax =\",mumax)\n",
    "print(\"nmubins =\",nmubins)\n",
    "print(\"boxsize =\",boxsize)\n",
    "print(\"periodic =\",periodic)"
   ]
  },
  {
   "cell_type": "markdown",
   "metadata": {},
   "source": [
    "## cubic spline"
   ]
  },
  {
   "cell_type": "code",
   "execution_count": 38,
   "metadata": {},
   "outputs": [
    {
     "data": {
      "text/plain": [
       "'spline.dat'"
      ]
     },
     "execution_count": 38,
     "metadata": {},
     "output_type": "execute_result"
    }
   ],
   "source": [
    "proj_type = 'generalr'\n",
    "kwargs = {'order': 0} \n",
    "projfn = 'spline.dat'\n",
    "nprojbins = int(nbins)\n",
    "spline.write_bases(rmin, rmax, nprojbins, projfn, ncont=1000, **kwargs)"
   ]
  },
  {
   "cell_type": "code",
   "execution_count": 39,
   "metadata": {},
   "outputs": [],
   "source": [
    "dd_res_spline0, dd_proj_spline0, _ = DDsmu(1, nthreads, bin_edges, mumax, nmubins, x, y, z,\n",
    "                                           boxsize=boxsize, periodic=periodic, proj_type=proj_type,\n",
    "                                           nprojbins=nprojbins, projfn=projfn)"
   ]
  },
  {
   "cell_type": "code",
   "execution_count": 40,
   "metadata": {},
   "outputs": [],
   "source": [
    "dr_res_spline0, dr_proj_spline0, _ = DDsmu(0, nthreads, bin_edges, mumax, nmubins, x, y, z,\n",
    "                                           X2=x_rand, Y2=y_rand, Z2=z_rand, boxsize=boxsize,\n",
    "                                           periodic=periodic, proj_type=proj_type, nprojbins=nprojbins, projfn=projfn)"
   ]
  },
  {
   "cell_type": "code",
   "execution_count": 41,
   "metadata": {},
   "outputs": [],
   "source": [
    "rr_res_spline0, rr_proj_spline0, qq_proj_spline0 = DDsmu(1, nthreads, bin_edges, mumax, nmubins,\n",
    "                                                         x_rand, y_rand, z_rand, boxsize=boxsize, periodic=periodic,\n",
    "                                                         proj_type=proj_type, nprojbins=nprojbins, projfn=projfn)"
   ]
  },
  {
   "cell_type": "code",
   "execution_count": 42,
   "metadata": {},
   "outputs": [
    {
     "name": "stdout",
     "output_type": "stream",
     "text": [
      "Computing amplitudes (Corrfunc/utils.py)\n"
     ]
    }
   ],
   "source": [
    "amps = compute_amps(nprojbins, nd, nd, nr, nr, dd_proj_spline0, dr_proj_spline0,\n",
    "                    dr_proj_spline0, rr_proj_spline0, qq_proj_spline0)"
   ]
  },
  {
   "cell_type": "code",
   "execution_count": 43,
   "metadata": {},
   "outputs": [
    {
     "name": "stdout",
     "output_type": "stream",
     "text": [
      "Evaluating xi (Corrfunc/utils.py)\n"
     ]
    }
   ],
   "source": [
    "xi_spline0 = evaluate_xi(amps, r_fine, proj_type, rbins=bin_edges, projfn=projfn)"
   ]
  },
  {
   "cell_type": "code",
   "execution_count": 47,
   "metadata": {},
   "outputs": [
    {
     "data": {
      "text/plain": [
       "array([1.00000000e-02, 1.34266667e+00, 2.67533333e+00, 4.00800000e+00,\n",
       "       5.34066667e+00, 6.67333333e+00, 8.00600000e+00, 9.33866667e+00,\n",
       "       1.06713333e+01, 1.20040000e+01, 1.33366667e+01, 1.46693333e+01,\n",
       "       1.60020000e+01, 1.73346667e+01, 1.86673333e+01, 2.00000000e+01])"
      ]
     },
     "execution_count": 47,
     "metadata": {},
     "output_type": "execute_result"
    },
    {
     "data": {
      "image/png": "[encoded data removed]",
      "text/plain": [
       "<Figure size 432x288 with 1 Axes>"
      ]
     },
     "metadata": {
      "needs_background": "light"
     },
     "output_type": "display_data"
    }
   ],
   "source": [
    "plt.plot(r_fine, xi_spline0, color='red', label='Zero-order spline basis')\n",
    "plt.plot(r_avg, xi_ls, marker='X', ls='None', color='grey', label='Standard')\n",
    "plt.xlabel(r'r')\n",
    "plt.ylabel(r'$\\xi$(r)')\n",
    "plt.title('Zero-order spline')\n",
    "plt.legend()\n",
    "bin_edges"
   ]
  },
  {
   "cell_type": "code",
   "execution_count": 9,
   "metadata": {},
   "outputs": [
    {
     "data": {
      "text/plain": [
       "[<matplotlib.lines.Line2D at 0xb30166dd0>]"
      ]
     },
     "execution_count": 9,
     "metadata": {},
     "output_type": "execute_result"
    },
    {
     "data": {
      "image/png": "[encoded data removed]",
      "text/plain": [
       "<Figure size 432x288 with 1 Axes>"
      ]
     },
     "metadata": {
      "needs_background": "light"
     },
     "output_type": "display_data"
    }
   ],
   "source": [
    "plt.plot(r_avg,dd)\n",
    "plt.plot(r_avg,dd_spline)\n",
    "plt.plot(r_avg,rr)\n",
    "plt.plot(r_avg,rr_ana_spline)"
   ]
  },
  {
   "cell_type": "code",
   "execution_count": null,
   "metadata": {},
   "outputs": [],
   "source": []
  }
 ],
 "metadata": {
  "kernelspec": {
   "display_name": "Python 3",
   "language": "python",
   "name": "python3"
  },
  "language_info": {
   "codemirror_mode": {
    "name": "ipython",
    "version": 3
   },
   "file_extension": ".py",
   "mimetype": "text/x-python",
   "name": "python",
   "nbconvert_exporter": "python",
   "pygments_lexer": "ipython3",
   "version": "3.7.4"
  }
 },
 "nbformat": 4,
 "nbformat_minor": 2
}
