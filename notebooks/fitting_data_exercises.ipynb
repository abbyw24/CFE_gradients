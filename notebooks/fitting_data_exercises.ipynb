{
 "cells": [
  {
   "cell_type": "code",
   "execution_count": 1,
   "id": "335385c6",
   "metadata": {},
   "outputs": [],
   "source": [
    "import numpy as np\n",
    "import matplotlib.pyplot as plt"
   ]
  },
  {
   "cell_type": "code",
   "execution_count": 2,
   "id": "7d5dd69c",
   "metadata": {},
   "outputs": [],
   "source": [
    "x_all = [201, 244, 47, 287, 203, 58, 210, 202, 198, 158, 165, 201, 157, 131, 166, 160, 186, 125, 218, 146]\n",
    "y_all = [592, 401, 583, 402, 495, 173, 479, 504, 510, 416, 393, 442, 317, 311, 400, 337, 423, 334, 533, 344]\n",
    "sigma_y_all = [61, 25, 38, 15, 21, 15, 27, 14, 30, 16, 14, 25, 52, 16, 34, 31, 42, 26, 16, 22]\n",
    "sigma_x_all = [9, 4, 11, 7, 5, 9, 4, 4, 11, 7, 5, 5, 5, 6, 6, 5, 9, 8, 6, 5]\n",
    "rho = [-.84, .31, .64, -.27, -.33, .67, -.02, -.05, -.84, -.69, .3, -.46, -.03, .5, .73, -.52, .9, .4, -.78, -.56]"
   ]
  },
  {
   "cell_type": "markdown",
   "id": "d65a9c36",
   "metadata": {},
   "source": [
    "### Exercise 1."
   ]
  },
  {
   "cell_type": "code",
   "execution_count": 3,
   "id": "b54261dc",
   "metadata": {},
   "outputs": [],
   "source": [
    "x, y, sigma_y = x_all[4:], y_all[4:], sigma_y_all[4:]"
   ]
  },
  {
   "cell_type": "code",
   "execution_count": 4,
   "id": "f420fae9",
   "metadata": {},
   "outputs": [],
   "source": [
    "# calculating best-fit line via least-square fit:\n",
    "Y = y\n",
    "A = np.c_[np.ones(len(x)), x]\n",
    "C = np.diag(sigma_y)\n",
    "C_inv = np.linalg.inv(C)"
   ]
  },
  {
   "cell_type": "code",
   "execution_count": 5,
   "id": "675d50d0",
   "metadata": {},
   "outputs": [],
   "source": [
    "[b, m] = X = np.linalg.inv(A.T @ C_inv @ A) @ (A.T @ C_inv @ Y)"
   ]
  },
  {
   "cell_type": "code",
   "execution_count": 6,
   "id": "1600631a",
   "metadata": {},
   "outputs": [
    {
     "name": "stdout",
     "output_type": "stream",
     "text": [
      "m = 2.221, b = 33.450\n"
     ]
    },
    {
     "data": {
      "image/png": "[encoded data removed]",
      "text/plain": [
       "<Figure size 360x360 with 1 Axes>"
      ]
     },
     "metadata": {
      "needs_background": "light"
     },
     "output_type": "display_data"
    }
   ],
   "source": [
    "# plot results\n",
    "fig, ax = plt.subplots(figsize=(5,5))\n",
    "\n",
    "ax.errorbar(x, y, yerr=sigma_y, fmt=\"k.\", lw=1, capsize=2)\n",
    "plt.plot(x, m*np.array(x) + b)\n",
    "\n",
    "ax.set_xlabel(\"x\")\n",
    "ax.set_ylabel(\"y\")\n",
    "ax.set_title(\"best-fit to data, Exercise 1.\")\n",
    "\n",
    "print(\"m = {:.3f}, b = {:.3f}\".format(m, b))"
   ]
  },
  {
   "cell_type": "code",
   "execution_count": 7,
   "id": "375ac55a",
   "metadata": {},
   "outputs": [],
   "source": [
    "# how do i calculate the standard uncertainty variance sigma_m^2 ?"
   ]
  },
  {
   "cell_type": "markdown",
   "id": "2f18885c",
   "metadata": {},
   "source": [
    "### Exercise 2."
   ]
  },
  {
   "cell_type": "code",
   "execution_count": 8,
   "id": "16a8bc76",
   "metadata": {},
   "outputs": [],
   "source": [
    "sigma_x = sigma_x_all[4:]"
   ]
  },
  {
   "cell_type": "code",
   "execution_count": null,
   "id": "2f611cdf",
   "metadata": {},
   "outputs": [],
   "source": []
  }
 ],
 "metadata": {
  "kernelspec": {
   "display_name": "Python 3",
   "language": "python",
   "name": "python3"
  },
  "language_info": {
   "codemirror_mode": {
    "name": "ipython",
    "version": 3
   },
   "file_extension": ".py",
   "mimetype": "text/x-python",
   "name": "python",
   "nbconvert_exporter": "python",
   "pygments_lexer": "ipython3",
   "version": "3.9.2"
  }
 },
 "nbformat": 4,
 "nbformat_minor": 5
}
