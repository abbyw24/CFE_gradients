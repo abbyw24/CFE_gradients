{
 "cells": [
  {
   "cell_type": "code",
   "execution_count": 1,
   "id": "30914f62",
   "metadata": {},
   "outputs": [],
   "source": [
    "import numpy as np\n",
    "import matplotlib.pyplot as plt\n",
    "import sys\n",
    "import os\n",
    "\n",
    "sys.path.insert(0, '/home/aew492/research-summer2020/code')\n",
    "from suave import cf_model"
   ]
  },
  {
   "cell_type": "code",
   "execution_count": 2,
   "id": "cf45e3dd",
   "metadata": {},
   "outputs": [],
   "source": [
    "# Y = A X\n",
    "# where Y = data vector (dependent), A = features (including IVs), X = best-fit parameters (m & b / or B^2, a1, a2, a3)\n",
    "# keep in mind, we do this fit for each mock"
   ]
  },
  {
   "cell_type": "code",
   "execution_count": 3,
   "id": "a91f16f2",
   "metadata": {},
   "outputs": [
    {
     "data": {
      "text/plain": [
       "22"
      ]
     },
     "execution_count": 3,
     "metadata": {},
     "output_type": "execute_result"
    }
   ],
   "source": [
    "# define r vector\n",
    "rmin = 20.0\n",
    "rmax = 140.0\n",
    "nbins = 22\n",
    "r_edges = np.linspace(rmin, rmax, nbins+1)\n",
    "r_avg = 0.5*(r_edges[1:]+r_edges[:-1])\n",
    "len(r_avg)"
   ]
  },
  {
   "cell_type": "markdown",
   "id": "185b26d9",
   "metadata": {},
   "source": [
    "### Y vector"
   ]
  },
  {
   "cell_type": "code",
   "execution_count": 4,
   "id": "c4d3c78b",
   "metadata": {},
   "outputs": [
    {
     "name": "stdout",
     "output_type": "stream",
     "text": [
      "(22,)\n"
     ]
    }
   ],
   "source": [
    "# results of L-S estimator on entire mock (i.e. no patches)\n",
    "# for now, arbitrary numbers\n",
    "Y = np.ones(nbins)\n",
    "print(Y.shape)"
   ]
  },
  {
   "cell_type": "markdown",
   "id": "085438fb",
   "metadata": {},
   "source": [
    "### A matrix (features)"
   ]
  },
  {
   "cell_type": "code",
   "execution_count": 5,
   "id": "17effa49",
   "metadata": {},
   "outputs": [],
   "source": [
    "# xi_mod\n",
    "alpha = 1.0\n",
    "xi_mod = cf_model(alpha*r_avg, cosmo_base=None, redshift=0.57, bias=2.0)"
   ]
  },
  {
   "cell_type": "code",
   "execution_count": 6,
   "id": "bc9a343b",
   "metadata": {},
   "outputs": [
    {
     "name": "stdout",
     "output_type": "stream",
     "text": [
      "(22, 4)\n"
     ]
    }
   ],
   "source": [
    "A = np.array([xi_mod, 1/r_avg**2, 1/r_avg, np.ones(nbins)]).T\n",
    "print(A.shape)"
   ]
  },
  {
   "cell_type": "markdown",
   "id": "d3047b67",
   "metadata": {},
   "source": [
    "### C matrix (covariance)"
   ]
  },
  {
   "cell_type": "code",
   "execution_count": 7,
   "id": "89068434",
   "metadata": {},
   "outputs": [],
   "source": [
    "# ones for now\n",
    "C = np.identity(len(Y))\n",
    "C_inv = np.linalg.inv(C)"
   ]
  },
  {
   "cell_type": "markdown",
   "id": "1e5ac7f8",
   "metadata": {},
   "source": [
    "### least squares fit: Y = A @ X"
   ]
  },
  {
   "cell_type": "code",
   "execution_count": 8,
   "id": "38729a17",
   "metadata": {},
   "outputs": [
    {
     "name": "stdout",
     "output_type": "stream",
     "text": [
      "(4,) [-1.45519152e-11  1.86264515e-09 -1.45519152e-11  1.00000000e+00]\n"
     ]
    }
   ],
   "source": [
    "X = np.linalg.inv(A.T @ C_inv @ A) @ (A.T @ C_inv @ Y)\n",
    "print(X.shape, X)"
   ]
  },
  {
   "cell_type": "code",
   "execution_count": 9,
   "id": "5646edc1",
   "metadata": {},
   "outputs": [],
   "source": [
    "# these are our best-fit parameters: B**2, a1, a2, a3"
   ]
  },
  {
   "cell_type": "code",
   "execution_count": 10,
   "id": "c5027543",
   "metadata": {},
   "outputs": [],
   "source": [
    "# next steps:\n",
    "# - gridded fit:\n",
    "#     with our best-fit parameters, we perform a chi squared fit at many intervals \\Delta\\alpha to determine \\alpha\n",
    "#     (we now have a best-fit correlation function analogous to the result of bao_iterative for suave)\n",
    "# - application to gradient:\n",
    "#     L-S in each patch, then a simultaneous fit between each bin in each patch—\n",
    "#        but using our new \\xi_fit instead of the fiducial cosmology to be more fair to the standard approach"
   ]
  },
  {
   "cell_type": "markdown",
   "id": "c0939e7f",
   "metadata": {},
   "source": [
    "# real data!"
   ]
  },
  {
   "cell_type": "markdown",
   "id": "9e91ec0a",
   "metadata": {},
   "source": [
    "### load in data"
   ]
  },
  {
   "cell_type": "code",
   "execution_count": 11,
   "id": "e4ebf90e",
   "metadata": {},
   "outputs": [],
   "source": [
    "data_fn = '/scratch/aew492/research-summer2020_output/gradient/1D'\n",
    "cat_tag = 'L750_n1e-4_z057_patchy_As2x'\n",
    "rlz = 0\n",
    "m = 1\n",
    "b = 0.5"
   ]
  },
  {
   "cell_type": "code",
   "execution_count": 12,
   "id": "b5c048f8",
   "metadata": {},
   "outputs": [
    {
     "name": "stdout",
     "output_type": "stream",
     "text": [
      "(2, 22)\n"
     ]
    }
   ],
   "source": [
    "# results of L-S estimator on entire mock (i.e. no patches)\n",
    "xi_ls = np.load(os.path.join(data_fn, f'ls/{cat_tag}/xi_ls_3x_cat_{cat_tag}_lognormal_rlz{rlz}_m-{m}.000-L_b-{b}00.npy'), allow_pickle=True)\n",
    "print(xi_ls.shape)"
   ]
  },
  {
   "cell_type": "code",
   "execution_count": 13,
   "id": "2dc857f5",
   "metadata": {},
   "outputs": [],
   "source": [
    "r_avg = xi_ls[0]"
   ]
  },
  {
   "cell_type": "markdown",
   "id": "6c8950fe",
   "metadata": {},
   "source": [
    "### Landy-Szalay results (Y vector)"
   ]
  },
  {
   "cell_type": "code",
   "execution_count": 14,
   "id": "86f4c60f",
   "metadata": {},
   "outputs": [
    {
     "name": "stdout",
     "output_type": "stream",
     "text": [
      "(22,)\n"
     ]
    }
   ],
   "source": [
    "Y = xi_ls[1]\n",
    "print(Y.shape)"
   ]
  },
  {
   "cell_type": "markdown",
   "id": "4012d375",
   "metadata": {},
   "source": [
    "### feature (A) matrix"
   ]
  },
  {
   "cell_type": "code",
   "execution_count": 15,
   "id": "86f947ae",
   "metadata": {},
   "outputs": [],
   "source": [
    "# xi_mod\n",
    "alpha = 1.0\n",
    "xi_mod = cf_model(alpha*r_avg, cosmo_base=None, redshift=0.57, bias=2.0)"
   ]
  },
  {
   "cell_type": "code",
   "execution_count": 16,
   "id": "97d0a435",
   "metadata": {},
   "outputs": [
    {
     "name": "stdout",
     "output_type": "stream",
     "text": [
      "(22, 4)\n"
     ]
    }
   ],
   "source": [
    "A = np.array([xi_mod, 1/r_avg**2, 1/r_avg, np.ones(nbins)]).T\n",
    "print(A.shape)"
   ]
  },
  {
   "cell_type": "markdown",
   "id": "2d1b7ccb",
   "metadata": {},
   "source": [
    "### covariance (C) matrix"
   ]
  },
  {
   "cell_type": "code",
   "execution_count": 17,
   "id": "5da0ad3b",
   "metadata": {},
   "outputs": [],
   "source": [
    "# ones for now\n",
    "C = np.identity(len(Y))\n",
    "C_inv = np.linalg.inv(C)"
   ]
  },
  {
   "cell_type": "markdown",
   "id": "10628dea",
   "metadata": {},
   "source": [
    "### performing the fit: finding best-fit parameters for given alpha"
   ]
  },
  {
   "cell_type": "code",
   "execution_count": 18,
   "id": "503e7d35",
   "metadata": {},
   "outputs": [
    {
     "name": "stdout",
     "output_type": "stream",
     "text": [
      "(4,) [ 1.55802589e+00 -5.60190730e+01  5.40573662e-01 -1.30789137e-03]\n"
     ]
    }
   ],
   "source": [
    "X = np.linalg.inv(A.T @ C_inv @ A) @ (A.T @ C_inv @ Y)\n",
    "B_sq, a1, a2, a3 = X\n",
    "print(X.shape, X)"
   ]
  },
  {
   "cell_type": "code",
   "execution_count": 19,
   "id": "4a3d0c51",
   "metadata": {},
   "outputs": [
    {
     "data": {
      "text/plain": [
       "(1001,)"
      ]
     },
     "execution_count": 19,
     "metadata": {},
     "output_type": "execute_result"
    }
   ],
   "source": [
    "# putting X values back into equation for xi_fit— but we'll use a finer r grid for a smoother plot\n",
    "ncont = 1000\n",
    "r_avg_fine = np.linspace(rmin, rmax, ncont+1)\n",
    "xi_mod_fine = cf_model(alpha*r_avg_fine, cosmo_base=None, redshift=0.57, bias=2.0)\n",
    "\n",
    "xi_fit = B_sq*xi_mod_fine + a1/r_avg_fine**2 + a2/r_avg_fine + a3\n",
    "xi_fit.shape"
   ]
  },
  {
   "cell_type": "code",
   "execution_count": 20,
   "id": "0d033d2f",
   "metadata": {},
   "outputs": [
    {
     "data": {
      "text/plain": [
       "<matplotlib.legend.Legend at 0x150c80b16970>"
      ]
     },
     "execution_count": 20,
     "metadata": {},
     "output_type": "execute_result"
    },
    {
     "data": {
      "image/png": "[encoded data removed]",
      "text/plain": [
       "<Figure size 864x648 with 1 Axes>"
      ]
     },
     "metadata": {
      "needs_background": "light"
     },
     "output_type": "display_data"
    }
   ],
   "source": [
    "# visualization\n",
    "fig, ax = plt.subplots(figsize=(12,9))\n",
    "\n",
    "plt.plot(r_avg, Y, marker='o', linestyle='None', label='Landy-Szalay')\n",
    "plt.plot(r_avg_fine, xi_mod_fine, label='xi model')\n",
    "plt.plot(r_avg_fine, xi_fit, label='xi fit')\n",
    "\n",
    "ax.set_xlim(20, 140)\n",
    "ax.set_ylim(-.01, 0.04)\n",
    "plt.axhline(0, color=\"k\", alpha=0.5, lw=1)\n",
    "ax.set_xlabel(r'separation $r$ ($h^{-1}\\,$Mpc)')\n",
    "ax.set_ylabel(r'correlation function $\\xi$(r)')\n",
    "ax.set_title(f'Least squares fit, {cat_tag}, m={m}, b={b}, alpha={alpha}')\n",
    "plt.legend()"
   ]
  },
  {
   "cell_type": "markdown",
   "id": "421d279d",
   "metadata": {},
   "source": [
    "## functions + multiple alpha values"
   ]
  },
  {
   "cell_type": "code",
   "execution_count": 21,
   "id": "0efac36f",
   "metadata": {},
   "outputs": [],
   "source": [
    "# we do this for a bunch of different alpha values:\n",
    "def lst_sq_fit(alpha, xi_ls, cov=None):\n",
    "    r_avg = xi_ls[0]\n",
    "    nbins = len(r_avg)\n",
    "    Y = xi_ls[1]\n",
    "    xi_mod = cf_model(alpha*r_avg, cosmo_base=None, redshift=0.57, bias=2.0)\n",
    "    A = np.array([xi_mod, 1/r_avg**2, 1/r_avg, np.ones(nbins)]).T\n",
    "    \n",
    "    if cov==None:\n",
    "        C = np.identity(len(Y))\n",
    "        C_inv = np.linalg.inv(C)\n",
    "    else:\n",
    "        assert False, \"covs must be 1 for now\"\n",
    "    \n",
    "    X = np.linalg.inv(A.T @ C_inv @ A) @ (A.T @ C_inv @ Y)\n",
    "    B_sq, a1, a2, a3 = X\n",
    "    \n",
    "    xi_fit = B_sq*xi_mod + a1/r_avg**2 + a2/r_avg + a3\n",
    "    \n",
    "    return xi_fit"
   ]
  },
  {
   "cell_type": "code",
   "execution_count": 22,
   "id": "54e41a29",
   "metadata": {},
   "outputs": [],
   "source": [
    "xi_fit = lst_sq_fit(1.0, xi_ls)"
   ]
  },
  {
   "cell_type": "code",
   "execution_count": 23,
   "id": "b7cdbe9b",
   "metadata": {},
   "outputs": [],
   "source": [
    "alpha_grid = np.linspace(0.75, 1.25, 51)\n",
    "nalphas = len(alpha_grid)"
   ]
  },
  {
   "cell_type": "code",
   "execution_count": 24,
   "id": "50bb3d54",
   "metadata": {},
   "outputs": [
    {
     "data": {
      "text/plain": [
       "array([0.75, 0.76, 0.77, 0.78, 0.79, 0.8 , 0.81, 0.82, 0.83, 0.84, 0.85,\n",
       "       0.86, 0.87, 0.88, 0.89, 0.9 , 0.91, 0.92, 0.93, 0.94, 0.95, 0.96,\n",
       "       0.97, 0.98, 0.99, 1.  , 1.01, 1.02, 1.03, 1.04, 1.05, 1.06, 1.07,\n",
       "       1.08, 1.09, 1.1 , 1.11, 1.12, 1.13, 1.14, 1.15, 1.16, 1.17, 1.18,\n",
       "       1.19, 1.2 , 1.21, 1.22, 1.23, 1.24, 1.25])"
      ]
     },
     "execution_count": 24,
     "metadata": {},
     "output_type": "execute_result"
    }
   ],
   "source": [
    "alpha_grid"
   ]
  },
  {
   "cell_type": "code",
   "execution_count": 25,
   "id": "373f3f09",
   "metadata": {},
   "outputs": [],
   "source": [
    "data_fn = '/scratch/aew492/research-summer2020_output/gradient/1D'\n",
    "cat_tag = 'L750_n1e-4_z057_patchy_As2x'\n",
    "rlz = 0\n",
    "m = 1\n",
    "b = 0.5\n",
    "xi_ls = np.load(os.path.join(data_fn, f'ls/{cat_tag}/xi_ls_3x_cat_{cat_tag}_lognormal_rlz{rlz}_m-{m}.000-L_b-{b}00.npy'), allow_pickle=True)\n",
    "nbins = len(xi_ls[0])"
   ]
  },
  {
   "cell_type": "code",
   "execution_count": 26,
   "id": "1bf2866f",
   "metadata": {},
   "outputs": [],
   "source": [
    "xi_fits = np.empty((nalphas, nbins))\n",
    "for i in range(nalphas):\n",
    "    xi_fit = lst_sq_fit(alpha_grid[i], xi_ls)\n",
    "    xi_fits[i] = xi_fit"
   ]
  },
  {
   "cell_type": "code",
   "execution_count": 27,
   "id": "2587bfa3",
   "metadata": {},
   "outputs": [
    {
     "data": {
      "text/plain": [
       "((51, 22), 22)"
      ]
     },
     "execution_count": 27,
     "metadata": {},
     "output_type": "execute_result"
    }
   ],
   "source": [
    "xi_fits.shape, len(xi_fits[0])"
   ]
  },
  {
   "cell_type": "code",
   "execution_count": 28,
   "id": "afcbf4fa",
   "metadata": {},
   "outputs": [],
   "source": [
    "# chi-squared test: find the alpha which minimizes chi-squared\n",
    "chi_squared = np.sum((xi_ls[1] - xi_fits[0])**2 / xi_fits[0])"
   ]
  },
  {
   "cell_type": "code",
   "execution_count": 29,
   "id": "a4d0a2ca",
   "metadata": {},
   "outputs": [
    {
     "data": {
      "text/plain": [
       "-4.978696155846698"
      ]
     },
     "execution_count": 29,
     "metadata": {},
     "output_type": "execute_result"
    }
   ],
   "source": [
    "chi_squared"
   ]
  },
  {
   "cell_type": "code",
   "execution_count": 30,
   "id": "a1430896",
   "metadata": {},
   "outputs": [],
   "source": [
    "chi_squareds = np.ones(nalphas)\n",
    "for i in range(nalphas):\n",
    "    diff = xi_ls[1] - xi_fits[i]\n",
    "    chi_squared = np.dot(diff, np.linalg.solve(C, diff)) #***\n",
    "    chi_squareds[i] = chi_squared"
   ]
  },
  {
   "cell_type": "code",
   "execution_count": 31,
   "id": "111ed7f0",
   "metadata": {},
   "outputs": [
    {
     "data": {
      "text/plain": [
       "array([1.80404978e-04, 1.80516860e-04, 1.80578506e-04, 1.80602915e-04,\n",
       "       1.80605068e-04, 1.80600761e-04, 1.80601567e-04, 1.80605858e-04,\n",
       "       1.80588614e-04, 1.80490690e-04, 1.80219224e-04, 1.79653547e-04,\n",
       "       1.78643464e-04, 1.77015918e-04, 1.74607297e-04, 1.71283890e-04,\n",
       "       1.66957492e-04, 1.61609615e-04, 1.55329373e-04, 1.48284824e-04,\n",
       "       1.40648452e-04, 1.32629087e-04, 1.24509681e-04, 1.16619444e-04,\n",
       "       1.09204044e-04, 1.02433207e-04, 9.64106045e-05, 9.12264893e-05,\n",
       "       8.70043572e-05, 8.38293487e-05, 8.17142644e-05, 8.05934073e-05,\n",
       "       8.03346285e-05, 8.08167049e-05, 8.20072994e-05, 8.38891564e-05,\n",
       "       8.64221606e-05, 8.95361087e-05, 9.31338839e-05, 9.71254237e-05,\n",
       "       1.01480218e-04, 1.06170107e-04, 1.11141551e-04, 1.16319722e-04,\n",
       "       1.21613798e-04, 1.26926067e-04, 1.32179886e-04, 1.37327599e-04,\n",
       "       1.42326456e-04, 1.47121313e-04, 1.51649701e-04])"
      ]
     },
     "execution_count": 31,
     "metadata": {},
     "output_type": "execute_result"
    }
   ],
   "source": [
    "chi_squareds"
   ]
  },
  {
   "cell_type": "code",
   "execution_count": 32,
   "id": "4e9f45b0",
   "metadata": {},
   "outputs": [
    {
     "data": {
      "text/plain": [
       "Text(0.5, 1.0, 'Chi-squared, L750_n1e-4_z057_patchy_As2x, m=1, b=0.5, range of alphas')"
      ]
     },
     "execution_count": 32,
     "metadata": {},
     "output_type": "execute_result"
    },
    {
     "data": {
      "image/png": "[encoded data removed]",
      "text/plain": [
       "<Figure size 432x288 with 1 Axes>"
      ]
     },
     "metadata": {
      "needs_background": "light"
     },
     "output_type": "display_data"
    }
   ],
   "source": [
    "fig, ax = plt.subplots()\n",
    "\n",
    "plt.plot(alpha_grid, chi_squareds)\n",
    "\n",
    "ax.set_xlabel(r'$\\alpha$')\n",
    "ax.set_ylabel(r'$\\chi^2$')\n",
    "ax.set_title(f'Chi-squared, {cat_tag}, m={m}, b={b}, range of alphas')"
   ]
  },
  {
   "cell_type": "code",
   "execution_count": null,
   "id": "5f08c89c",
   "metadata": {},
   "outputs": [],
   "source": []
  }
 ],
 "metadata": {
  "kernelspec": {
   "display_name": "Python 3",
   "language": "python",
   "name": "python3"
  },
  "language_info": {
   "codemirror_mode": {
    "name": "ipython",
    "version": 3
   },
   "file_extension": ".py",
   "mimetype": "text/x-python",
   "name": "python",
   "nbconvert_exporter": "python",
   "pygments_lexer": "ipython3",
   "version": "3.9.2"
  }
 },
 "nbformat": 4,
 "nbformat_minor": 5
}
