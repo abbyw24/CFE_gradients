{
 "cells": [
  {
   "cell_type": "code",
   "execution_count": 1,
   "metadata": {},
   "outputs": [],
   "source": [
    "import numpy as np\n",
    "import matplotlib.pyplot as plt"
   ]
  },
  {
   "cell_type": "code",
   "execution_count": 10,
   "metadata": {},
   "outputs": [],
   "source": [
    "def tau_squared(x, omega, L, m=1, b=0.5):\n",
    "    # x is a vector of the point position\n",
    "    omega_hat = omega/np.linalg.norm(omega)\n",
    "    \n",
    "    eta = np.dot(omega_hat, x)  # returns a scalar\n",
    "    \n",
    "    tau_sq = (m/L)*eta + b\n",
    "    return tau_sq"
   ]
  },
  {
   "cell_type": "code",
   "execution_count": 27,
   "metadata": {},
   "outputs": [],
   "source": [
    "def tau_squared1(x, omega, L, m=1, b=0.5):\n",
    "    # x is a vector of the point position\n",
    "    \n",
    "    eta = np.dot(omega, x)  # returns a scalar\n",
    "    \n",
    "    tau_sq = b*eta + b\n",
    "    return tau_sq"
   ]
  },
  {
   "cell_type": "code",
   "execution_count": 39,
   "metadata": {},
   "outputs": [],
   "source": [
    "def omega_input(m, b, L, omega_hat):\n",
    "    omega_hat /= np.linalg.norm(omega_hat)\n",
    "    \n",
    "    return (m/(b*L*np.sqrt(2)))*omega_hat"
   ]
  },
  {
   "cell_type": "code",
   "execution_count": 40,
   "metadata": {},
   "outputs": [],
   "source": [
    "# create a grid of points\n",
    "\n",
    "L = 1000\n",
    "N = 1000\n",
    "\n",
    "x = np.linspace(-L/2, L/2, N)\n",
    "y = np.linspace(-L/2, L/2, N)\n",
    "\n",
    "# x_grid, y_grid = np.meshgrid(x, y)"
   ]
  },
  {
   "cell_type": "code",
   "execution_count": 56,
   "metadata": {},
   "outputs": [],
   "source": [
    "w = omega_input(m=1, b=0.5, L=L, omega_hat=[np.sqrt(3),1])"
   ]
  },
  {
   "cell_type": "code",
   "execution_count": 57,
   "metadata": {},
   "outputs": [
    {
     "data": {
      "text/plain": [
       "array([0.00122474, 0.00070711])"
      ]
     },
     "execution_count": 57,
     "metadata": {},
     "output_type": "execute_result"
    }
   ],
   "source": [
    "w"
   ]
  },
  {
   "cell_type": "code",
   "execution_count": 58,
   "metadata": {},
   "outputs": [],
   "source": [
    "threshold_sq = np.empty((N,N))\n",
    "for i, y_val in enumerate(y):\n",
    "    for j, x_val in enumerate(x):\n",
    "        threshold_sq[i,j] = tau_squared1([x_val, y_val], w, L)"
   ]
  },
  {
   "cell_type": "code",
   "execution_count": 59,
   "metadata": {},
   "outputs": [
    {
     "data": {
      "text/plain": [
       "<matplotlib.colorbar.Colorbar at 0x1479306e0370>"
      ]
     },
     "execution_count": 59,
     "metadata": {},
     "output_type": "execute_result"
    },
    {
     "data": {
      "image/png": "[encoded data removed]",
      "text/plain": [
       "<Figure size 432x288 with 2 Axes>"
      ]
     },
     "metadata": {
      "needs_background": "light"
     },
     "output_type": "display_data"
    }
   ],
   "source": [
    "plt.imshow(threshold_sq, origin='lower', cmap='BuPu', extent=[min(x), max(x), min(y), max(y)])\n",
    "plt.colorbar()"
   ]
  },
  {
   "cell_type": "code",
   "execution_count": 60,
   "metadata": {},
   "outputs": [
    {
     "data": {
      "text/plain": [
       "(0.01703708685546579, 0.9829629131445342)"
      ]
     },
     "execution_count": 60,
     "metadata": {},
     "output_type": "execute_result"
    }
   ],
   "source": [
    "np.amin(threshold_sq), np.amax(threshold_sq)"
   ]
  },
  {
   "cell_type": "code",
   "execution_count": 66,
   "metadata": {},
   "outputs": [
    {
     "data": {
      "text/plain": [
       "30.000000000000004"
      ]
     },
     "execution_count": 66,
     "metadata": {},
     "output_type": "execute_result"
    }
   ],
   "source": [
    "np.arctan(1/np.sqrt(3))*180/np.pi"
   ]
  },
  {
   "cell_type": "code",
   "execution_count": null,
   "metadata": {},
   "outputs": [],
   "source": []
  }
 ],
 "metadata": {
  "kernelspec": {
   "display_name": "Python 3",
   "language": "python",
   "name": "python3"
  },
  "language_info": {
   "codemirror_mode": {
    "name": "ipython",
    "version": 3
   },
   "file_extension": ".py",
   "mimetype": "text/x-python",
   "name": "python",
   "nbconvert_exporter": "python",
   "pygments_lexer": "ipython3",
   "version": "3.8.6"
  }
 },
 "nbformat": 4,
 "nbformat_minor": 4
}
