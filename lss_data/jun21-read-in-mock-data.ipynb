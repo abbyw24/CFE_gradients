{
 "cells": [
  {
   "cell_type": "code",
   "execution_count": 1,
   "metadata": {},
   "outputs": [],
   "source": [
    "import read_lognormal"
   ]
  },
  {
   "cell_type": "code",
   "execution_count": 8,
   "metadata": {},
   "outputs": [],
   "source": [
    "Lx, Ly, Lz, N, data = read_lognormal.read('lognormal_mocks/cat_L750_n3e-4_lognormal_rlz0.bin')\n",
    "x, y, z, vx, vy, vz = data.T"
   ]
  },
  {
   "cell_type": "code",
   "execution_count": 9,
   "metadata": {},
   "outputs": [
    {
     "data": {
      "text/plain": [
       "750.0"
      ]
     },
     "execution_count": 9,
     "metadata": {},
     "output_type": "execute_result"
    }
   ],
   "source": [
    "Lx"
   ]
  },
  {
   "cell_type": "code",
   "execution_count": 10,
   "metadata": {},
   "outputs": [
    {
     "data": {
      "text/plain": [
       "750.0"
      ]
     },
     "execution_count": 10,
     "metadata": {},
     "output_type": "execute_result"
    }
   ],
   "source": [
    "Ly"
   ]
  },
  {
   "cell_type": "code",
   "execution_count": 11,
   "metadata": {},
   "outputs": [
    {
     "data": {
      "text/plain": [
       "750.0"
      ]
     },
     "execution_count": 11,
     "metadata": {},
     "output_type": "execute_result"
    }
   ],
   "source": [
    "Lz"
   ]
  },
  {
   "cell_type": "code",
   "execution_count": 12,
   "metadata": {},
   "outputs": [
    {
     "data": {
      "text/plain": [
       "125342"
      ]
     },
     "execution_count": 12,
     "metadata": {},
     "output_type": "execute_result"
    }
   ],
   "source": [
    "N"
   ]
  },
  {
   "cell_type": "code",
   "execution_count": 13,
   "metadata": {},
   "outputs": [
    {
     "data": {
      "text/plain": [
       "array([[ 1.13136184e+00,  7.93881798e+00,  1.90051804e+01,\n",
       "         4.30209167e+02,  6.77292099e+01,  5.21449524e+02],\n",
       "       [ 4.30035293e-01,  1.03867426e+01,  6.12314186e+01,\n",
       "        -2.44356522e+02,  1.67915802e+02, -3.50078156e+02],\n",
       "       [ 2.08324015e-01,  1.32198906e+01,  5.46779663e+02,\n",
       "         2.68192749e+02, -4.39827545e+02,  8.79677868e+00],\n",
       "       ...,\n",
       "       [ 7.49666077e+02,  7.45453125e+02,  5.34135010e+02,\n",
       "         6.04300171e+02, -1.32243665e+03,  1.93120132e+02],\n",
       "       [ 7.49922791e+02,  7.46243896e+02,  4.06699486e+01,\n",
       "         3.84808411e+02,  2.71097198e+02, -8.28572388e+01],\n",
       "       [ 7.49938477e+02,  7.48443909e+02,  1.38223709e+02,\n",
       "         8.26262360e+01,  2.47058182e+02, -3.08923859e+02]])"
      ]
     },
     "execution_count": 13,
     "metadata": {},
     "output_type": "execute_result"
    }
   ],
   "source": [
    "data"
   ]
  },
  {
   "cell_type": "code",
   "execution_count": 14,
   "metadata": {},
   "outputs": [
    {
     "data": {
      "text/plain": [
       "array([1.13136184e+00, 4.30035293e-01, 2.08324015e-01, ...,\n",
       "       7.49666077e+02, 7.49922791e+02, 7.49938477e+02])"
      ]
     },
     "execution_count": 14,
     "metadata": {},
     "output_type": "execute_result"
    }
   ],
   "source": [
    "x"
   ]
  },
  {
   "cell_type": "code",
   "execution_count": 15,
   "metadata": {},
   "outputs": [
    {
     "data": {
      "text/plain": [
       "array([  7.93881798,  10.38674259,  13.21989059, ..., 745.453125  ,\n",
       "       746.24389648, 748.44390869])"
      ]
     },
     "execution_count": 15,
     "metadata": {},
     "output_type": "execute_result"
    }
   ],
   "source": [
    "y"
   ]
  },
  {
   "cell_type": "code",
   "execution_count": 16,
   "metadata": {},
   "outputs": [
    {
     "data": {
      "text/plain": [
       "array([ 19.00518036,  61.23141861, 546.77966309, ..., 534.13500977,\n",
       "        40.66994858, 138.22370911])"
      ]
     },
     "execution_count": 16,
     "metadata": {},
     "output_type": "execute_result"
    }
   ],
   "source": [
    "z"
   ]
  },
  {
   "cell_type": "code",
   "execution_count": 17,
   "metadata": {},
   "outputs": [
    {
     "data": {
      "text/plain": [
       "array([ 430.20916748, -244.35652161,  268.19274902, ...,  604.3001709 ,\n",
       "        384.80841064,   82.62623596])"
      ]
     },
     "execution_count": 17,
     "metadata": {},
     "output_type": "execute_result"
    }
   ],
   "source": [
    "vx"
   ]
  },
  {
   "cell_type": "code",
   "execution_count": null,
   "metadata": {},
   "outputs": [],
   "source": []
  }
 ],
 "metadata": {
  "kernelspec": {
   "display_name": "Python 3",
   "language": "python",
   "name": "python3"
  },
  "language_info": {
   "codemirror_mode": {
    "name": "ipython",
    "version": 3
   },
   "file_extension": ".py",
   "mimetype": "text/x-python",
   "name": "python",
   "nbconvert_exporter": "python",
   "pygments_lexer": "ipython3",
   "version": "3.7.4"
  }
 },
 "nbformat": 4,
 "nbformat_minor": 2
}
