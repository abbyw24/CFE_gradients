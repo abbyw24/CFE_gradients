{
 "cells": [
  {
   "cell_type": "code",
   "execution_count": 2,
   "metadata": {},
   "outputs": [],
   "source": [
    "%load_ext autoreload\n",
    "%autoreload 2"
   ]
  },
  {
   "cell_type": "code",
   "execution_count": 3,
   "metadata": {},
   "outputs": [],
   "source": [
    "import numpy as np\n",
    "import matplotlib.pyplot as plt\n",
    "import matplotlib\n",
    "import sys\n",
    "import os\n",
    "\n",
    "sys.path.insert(0, '/home/aew492/CFE_gradients')\n",
    "import grad_load_tools\n",
    "import generate_mock_list\n",
    "import globals\n",
    "globals.initialize_vals()"
   ]
  },
  {
   "cell_type": "code",
   "execution_count": 2,
   "metadata": {},
   "outputs": [],
   "source": [
    "L = 750\n",
    "n = '2e-4'\n",
    "rlzs = 1000\n",
    "mock_set = generate_mock_list.MockSet(L, n, rlzs=rlzs)"
   ]
  },
  {
   "cell_type": "code",
   "execution_count": 3,
   "metadata": {},
   "outputs": [],
   "source": [
    "grad_dim = 2\n",
    "m = 0.5\n",
    "b = 0.5\n",
    "mock_set.add_gradient(grad_dim, m, b, same_dir=True)"
   ]
  },
  {
   "cell_type": "code",
   "execution_count": 9,
   "metadata": {},
   "outputs": [
    {
     "data": {
      "text/plain": [
       "{'mock_file_name': 'L750_n2e-4_z057_patchy_As2x_rlz0_m-0.500-L_b-0.500',\n",
       " 'cat_tag': 'L750_n2e-4_z057_patchy_As2x',\n",
       " 'lognormal_rlz': 'L750_n2e-4_z057_patchy_As2x_rlz0_lognormal',\n",
       " 'grad_input': array([0.00066667, 0.0003849 , 0.        ]),\n",
       " 'w_hat': array([0.8660254, 0.5      , 0.       ]),\n",
       " 'm': 0.5,\n",
       " 'b': 0.5,\n",
       " 'N': 86364,\n",
       " 'L': 750.0,\n",
       " 'rand_set': array([[-123.01258079,  102.26685244,  -78.25479593, ..., -301.03955639,\n",
       "         -148.61619174,  151.52229832],\n",
       "        [  94.49804916,  135.62236228, -342.08297301, ..., -347.11330843,\n",
       "          126.15566694,  -70.57891412],\n",
       "        [ 185.91510086,   90.68468889,  229.06256922, ..., -124.46141642,\n",
       "          230.76046172, -282.86388501]]),\n",
       " 'clust_set': array([[-373.86863816, -364.13149452, -312.04950714],\n",
       "        [-373.76050961, -351.45124817,  -83.88769531],\n",
       "        [-374.73888966, -335.14736938, -278.32016754],\n",
       "        ...,\n",
       "        [ 374.69873047,  362.18664551,  229.05230713],\n",
       "        [ 374.57434082,  364.79071045,  167.51312256],\n",
       "        [ 373.90258789,  370.09112549,   79.39419556]]),\n",
       " 'unclust_set': array([[  53.35062947,    2.64284521, -177.8664285 ],\n",
       "        [-177.27735856,  195.11777136, -246.16933222],\n",
       "        [ 198.2454153 ,  198.90922531,  230.57685237],\n",
       "        ...,\n",
       "        [ -37.97051709,  -10.37164114,  292.54999701],\n",
       "        [ 322.43059748, -231.53201245, -224.35797718],\n",
       "        [ 151.52229832,  -70.57891412, -282.86388501]]),\n",
       " 'data': array([[-373.86863816, -364.13149452, -312.04950714],\n",
       "        [-373.76050961, -351.45124817,  -83.88769531],\n",
       "        [-374.73888966, -335.14736938, -278.32016754],\n",
       "        ...,\n",
       "        [ -37.97051709,  -10.37164114,  292.54999701],\n",
       "        [ 322.43059748, -231.53201245, -224.35797718],\n",
       "        [ 151.52229832,  -70.57891412, -282.86388501]])}"
      ]
     },
     "execution_count": 9,
     "metadata": {},
     "output_type": "execute_result"
    }
   ],
   "source": [
    "# load in a few rlzs to check input omega\n",
    "mock_set.load_rlz(0)"
   ]
  },
  {
   "cell_type": "code",
   "execution_count": null,
   "metadata": {},
   "outputs": [],
   "source": []
  }
 ],
 "metadata": {
  "kernelspec": {
   "display_name": "my_env",
   "language": "python",
   "name": "my_env"
  },
  "language_info": {
   "codemirror_mode": {
    "name": "ipython",
    "version": 3
   },
   "file_extension": ".py",
   "mimetype": "text/x-python",
   "name": "python",
   "nbconvert_exporter": "python",
   "pygments_lexer": "ipython3",
   "version": "3.10.9"
  }
 },
 "nbformat": 4,
 "nbformat_minor": 5
}
