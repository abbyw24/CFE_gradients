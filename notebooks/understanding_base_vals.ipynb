{
 "cells": [
  {
   "cell_type": "code",
   "execution_count": 2,
   "metadata": {},
   "outputs": [],
   "source": [
    "import numpy as np\n",
    "import matplotlib.pyplot as plt\n",
    "import matplotlib\n",
    "import sys\n",
    "import os\n",
    "\n",
    "sys.path.insert(0, \"/home/aew492/research-summer2020/code\")\n",
    "# from suave import cf_model, cosmo_bases\n",
    "import recover_amps\n",
    "import generate_mock_list\n",
    "import globals\n",
    "globals.initialize_vals()\n",
    "num_den = globals.lognormal_density\n",
    "cat_tag = globals.cat_tag"
   ]
  },
  {
   "cell_type": "code",
   "execution_count": 3,
   "metadata": {},
   "outputs": [
    {
     "name": "stdout",
     "output_type": "stream",
     "text": [
      "750 1e-4 2 401 1m\n"
     ]
    }
   ],
   "source": [
    "L = 750 #globals.boxsize\n",
    "num_den = '1e-4' #globals.lognormal_density\n",
    "As = 2 #globals.As\n",
    "n_mocks = 401 #globals.n_mocks\n",
    "mock_type = '1m'\n",
    "cat_tag_2x = f'L{L}_n{num_den}_z057_patchy_As2x'\n",
    "cat_tag_1x = f'L{L}_n{num_den}_z057_patchy'\n",
    "print(L, num_den, As, n_mocks, mock_type)"
   ]
  },
  {
   "cell_type": "markdown",
   "metadata": {},
   "source": [
    "### true correlation function"
   ]
  },
  {
   "cell_type": "code",
   "execution_count": 4,
   "metadata": {},
   "outputs": [],
   "source": [
    "r_t, cf_t_As2x = np.loadtxt(f\"/scratch/ksf293/mocks/lognormal/inputs/cat_{cat_tag_2x}_Rh_xi.txt\", unpack=True)"
   ]
  },
  {
   "cell_type": "code",
   "execution_count": 5,
   "metadata": {},
   "outputs": [],
   "source": [
    "r_t, cf_t_As1x = np.loadtxt(f\"/scratch/ksf293/mocks/lognormal/inputs/cat_{cat_tag_1x}_Rh_xi.txt\", unpack=True)"
   ]
  },
  {
   "cell_type": "code",
   "execution_count": 6,
   "metadata": {},
   "outputs": [
    {
     "data": {
      "text/plain": [
       "<matplotlib.legend.Legend at 0x149371c09310>"
      ]
     },
     "execution_count": 6,
     "metadata": {},
     "output_type": "execute_result"
    },
    {
     "data": {
      "image/png": "[encoded data removed]",
      "text/plain": [
       "<Figure size 576x432 with 1 Axes>"
      ]
     },
     "metadata": {
      "needs_background": "light"
     },
     "output_type": "display_data"
    }
   ],
   "source": [
    "fig, ax = plt.subplots(figsize=(8,6))\n",
    "plt.plot(r_t, cf_t_As2x, label=\"True CF (As2x)\")\n",
    "plt.plot(r_t, cf_t_As1x, label=\"True CF (As1x)\")\n",
    "\n",
    "ax.set_xlim(20, 140)\n",
    "ax.set_ylim(-.005, 0.03)\n",
    "plt.axhline(0, color=\"k\", alpha=0.5, lw=1)\n",
    "ax.set_xlabel(r'separation $r$ ($h^{-1}\\,$Mpc)')\n",
    "ax.set_ylabel(r'correlation function $\\xi$(r)')\n",
    "plt.legend()"
   ]
  },
  {
   "cell_type": "markdown",
   "metadata": {},
   "source": [
    "### basis functions"
   ]
  },
  {
   "cell_type": "code",
   "execution_count": 6,
   "metadata": {},
   "outputs": [],
   "source": [
    "projfn = 'cosmo_basis.dat'"
   ]
  },
  {
   "cell_type": "code",
   "execution_count": 7,
   "metadata": {},
   "outputs": [
    {
     "ename": "NameError",
     "evalue": "name 'cosmo_bases' is not defined",
     "output_type": "error",
     "traceback": [
      "\u001b[0;31m---------------------------------------------------------------------------\u001b[0m",
      "\u001b[0;31mNameError\u001b[0m                                 Traceback (most recent call last)",
      "\u001b[0;32m<ipython-input-7-f6b1b6d02a9a>\u001b[0m in \u001b[0;36m<module>\u001b[0;34m\u001b[0m\n\u001b[1;32m      1\u001b[0m \u001b[0;31m# redshift 0.0, bias 1.0\u001b[0m\u001b[0;34m\u001b[0m\u001b[0;34m\u001b[0m\u001b[0;34m\u001b[0m\u001b[0m\n\u001b[0;32m----> 2\u001b[0;31m \u001b[0mbases_0\u001b[0m \u001b[0;34m=\u001b[0m \u001b[0mcosmo_bases\u001b[0m\u001b[0;34m(\u001b[0m\u001b[0mglobals\u001b[0m\u001b[0;34m.\u001b[0m\u001b[0mrmin\u001b[0m\u001b[0;34m,\u001b[0m \u001b[0mglobals\u001b[0m\u001b[0;34m.\u001b[0m\u001b[0mrmax\u001b[0m\u001b[0;34m,\u001b[0m \u001b[0mprojfn\u001b[0m\u001b[0;34m,\u001b[0m \u001b[0mredshift\u001b[0m\u001b[0;34m=\u001b[0m\u001b[0;36m0.0\u001b[0m\u001b[0;34m,\u001b[0m \u001b[0mbias\u001b[0m\u001b[0;34m=\u001b[0m\u001b[0;36m1.0\u001b[0m\u001b[0;34m)\u001b[0m\u001b[0;34m\u001b[0m\u001b[0;34m\u001b[0m\u001b[0m\n\u001b[0m\u001b[1;32m      3\u001b[0m \u001b[0mncomponents\u001b[0m \u001b[0;34m=\u001b[0m \u001b[0;36m4\u001b[0m\u001b[0;34m*\u001b[0m\u001b[0;34m(\u001b[0m\u001b[0mbases_0\u001b[0m\u001b[0;34m.\u001b[0m\u001b[0mshape\u001b[0m\u001b[0;34m[\u001b[0m\u001b[0;36m1\u001b[0m\u001b[0;34m]\u001b[0m\u001b[0;34m-\u001b[0m\u001b[0;36m1\u001b[0m\u001b[0;34m)\u001b[0m\u001b[0;34m\u001b[0m\u001b[0;34m\u001b[0m\u001b[0m\n\u001b[1;32m      4\u001b[0m \u001b[0mr_base\u001b[0m \u001b[0;34m=\u001b[0m \u001b[0mbases_0\u001b[0m\u001b[0;34m[\u001b[0m\u001b[0;34m:\u001b[0m\u001b[0;34m,\u001b[0m\u001b[0;36m0\u001b[0m\u001b[0;34m]\u001b[0m\u001b[0;34m\u001b[0m\u001b[0;34m\u001b[0m\u001b[0m\n\u001b[1;32m      5\u001b[0m \u001b[0mbase_vals_z0_b1\u001b[0m \u001b[0;34m=\u001b[0m \u001b[0mbases_0\u001b[0m\u001b[0;34m[\u001b[0m\u001b[0;34m:\u001b[0m\u001b[0;34m,\u001b[0m\u001b[0;36m1\u001b[0m\u001b[0;34m]\u001b[0m\u001b[0;34m\u001b[0m\u001b[0;34m\u001b[0m\u001b[0m\n",
      "\u001b[0;31mNameError\u001b[0m: name 'cosmo_bases' is not defined"
     ]
    }
   ],
   "source": [
    "# redshift 0.0, bias 1.0\n",
    "bases_0 = cosmo_bases(globals.rmin, globals.rmax, projfn, redshift=0.0, bias=1.0)\n",
    "ncomponents = 4*(bases_0.shape[1]-1)\n",
    "r_base = bases_0[:,0]\n",
    "base_vals_z0_b1 = bases_0[:,1]"
   ]
  },
  {
   "cell_type": "code",
   "execution_count": null,
   "metadata": {},
   "outputs": [],
   "source": [
    "# redshift 0.57, bias 1.0\n",
    "bases_1 = cosmo_bases(globals.rmin, globals.rmax, projfn, redshift=0.57, bias=1.0)\n",
    "ncomponents = 4*(bases_1.shape[1]-1)\n",
    "r_base = bases_1[:,0]\n",
    "base_vals_z057_b1 = bases_1[:,1]"
   ]
  },
  {
   "cell_type": "code",
   "execution_count": null,
   "metadata": {},
   "outputs": [],
   "source": [
    "# redshift 0.0, bias 2.0\n",
    "bases_2 = cosmo_bases(globals.rmin, globals.rmax, projfn, redshift=0.0, bias=2.0)\n",
    "ncomponents = 4*(bases_2.shape[1]-1)\n",
    "r_base = bases_2[:,0]\n",
    "base_vals_z0_b2 = bases_2[:,1]"
   ]
  },
  {
   "cell_type": "code",
   "execution_count": null,
   "metadata": {},
   "outputs": [],
   "source": [
    "# redshift 0.57, bias 2.0\n",
    "bases_3 = cosmo_bases(globals.rmin, globals.rmax, projfn, redshift=0.57, bias=2.0)\n",
    "ncomponents = 4*(bases_3.shape[1]-1)\n",
    "r_base = bases_3[:,0]\n",
    "base_vals_z057_b2 = bases_3[:,1]"
   ]
  },
  {
   "cell_type": "code",
   "execution_count": null,
   "metadata": {},
   "outputs": [],
   "source": [
    "fig, ax = plt.subplots(figsize=(8,6))\n",
    "\n",
    "plt.plot(r_base, base_vals_z0_b1, color=\"b\", ls=\"--\", label=\"z=0.0, bias=1.0\")\n",
    "plt.plot(r_base, base_vals_z057_b1, color=\"b\", ls=\"dashdot\", label=\"z=0.57, bias=1.0\")\n",
    "plt.plot(r_base, base_vals_z0_b2, color=\"g\", ls=\"--\", label=\"z=0.0, bias=2.0\")\n",
    "plt.plot(r_base, base_vals_z057_b2, color=\"g\", ls=\"dashdot\", label=\"z=0.57, bias=2.0\")\n",
    "\n",
    "ax.set_xlim(20, 140)\n",
    "ax.set_ylim(-.005, 0.03)\n",
    "plt.axhline(0, color=\"k\", alpha=0.5, lw=1)\n",
    "ax.set_xlabel(r'separation $r$ ($h^{-1}\\,$Mpc)')\n",
    "ax.set_ylabel(r'correlation function $\\xi$(r)')\n",
    "plt.legend()"
   ]
  },
  {
   "cell_type": "markdown",
   "metadata": {},
   "source": [
    "### comparing base vals to true CF"
   ]
  },
  {
   "cell_type": "code",
   "execution_count": null,
   "metadata": {},
   "outputs": [],
   "source": [
    "fig, ax = plt.subplots(figsize=(12,9))\n",
    "\n",
    "plt.plot(r_t, cf_t_As2x, color=\"k\", alpha=1, ls=\"-\", lw=2, label=\"True CF\")\n",
    "\n",
    "plt.plot(r_t, 0.5*cf_t_As2x, color=\"k\", alpha=0.3, ls=\"-\", lw=2, label=\"0.5 * True CF\")\n",
    "plt.plot(r_t, 2*cf_t_As2x, color=\"k\", alpha=0.7, ls=\"-\", lw=2, label=\"2 * True CF\")\n",
    "plt.plot(r_t, 4*cf_t_As2x, color=\"k\", alpha=0.5, ls=\"-\", lw=2, label=\"4 * True CF\")\n",
    "\n",
    "a = 0.5\n",
    "plt.plot(r_base, base_vals_z0_b1, color=\"b\", ls=\"--\", alpha=a, label=\"z=0.0, bias=1.0\")\n",
    "plt.plot(r_base, base_vals_z057_b1, color=\"b\", ls=\"dashdot\", alpha=a, label=\"z=0.57, bias=1.0\")\n",
    "plt.plot(r_base, base_vals_z0_b2, color=\"g\", ls=\"--\", alpha=a, label=\"z=0.0, bias=2.0\")\n",
    "plt.plot(r_base, base_vals_z057_b2, color=\"g\", ls=\"dashdot\", alpha=a, label=\"z=0.57, bias=2.0\")\n",
    "\n",
    "ax.set_xlim(20, 140)\n",
    "ax.set_ylim(-.005, 0.03)\n",
    "plt.axhline(0, color=\"k\", alpha=0.5, lw=1)\n",
    "ax.set_xlabel(r'separation $r$ ($h^{-1}\\,$Mpc)')\n",
    "ax.set_ylabel(r'correlation function $\\xi$(r)')\n",
    "plt.legend()"
   ]
  },
  {
   "cell_type": "code",
   "execution_count": null,
   "metadata": {},
   "outputs": [],
   "source": [
    "# since our True CF is double amplitude (As2x) and redshift z=0.57, it makes sense that\n",
    "#    2*True CF matches up with base vals z=0.57, bias=2.0"
   ]
  },
  {
   "cell_type": "markdown",
   "metadata": {},
   "source": [
    "### function: mean xi in each bin + error regions"
   ]
  },
  {
   "cell_type": "code",
   "execution_count": 7,
   "metadata": {},
   "outputs": [],
   "source": [
    "def get_cfarr_vals(cf_arr):\n",
    "    arr_len = len(cf_arr[0])\n",
    "    cfs_mean = np.zeros(arr_len)\n",
    "    stds = np.zeros(arr_len)\n",
    "    error_regions = np.empty((arr_len, 2))\n",
    "    for i in range(arr_len):\n",
    "        mean, std = np.mean(cf_arr[:,i]), np.std(cf_arr[:,i])\n",
    "        cfs_mean[i] = mean\n",
    "        stds[i] = std\n",
    "        error_regions[i] = [mean-std, mean+std]\n",
    "    return cfs_mean, stds, error_regions"
   ]
  },
  {
   "cell_type": "code",
   "execution_count": 8,
   "metadata": {},
   "outputs": [],
   "source": [
    "# new standard binned fit\n",
    "def f_bases_nograd(r):\n",
    "    xi_mod = cf_model(r, redshift=0.57, bias=2.0)\n",
    "    return 2*xi_mod\n",
    "\n",
    "def fit_to_bases(rlz, r_avg, xi_full_patches):\n",
    "    X = np.zeros((len(r_avg), 1))\n",
    "    xi = np.zeros((len(r_avg), 1))\n",
    "    for nbin in range(len(r_avg)):\n",
    "        X_bin = f_bases_nograd(r_avg[nbin])\n",
    "        xi_bin = xi_full_patches[rlz, nbin]\n",
    "        X[nbin] = X_bin\n",
    "        xi[nbin] = xi_bin\n",
    "    C = np.identity(len(xi))\n",
    "    C_inv = np.linalg.inv(C)\n",
    "    theta = np.linalg.inv(X.T @ C_inv @ X) @ (X.T @ C_inv @ xi)\n",
    "    return theta, xi\n",
    "    # theta basically gives us the best fit amplitude to f_bases"
   ]
  },
  {
   "cell_type": "markdown",
   "metadata": {},
   "source": [
    "### results from clustered mocks, straight Corrfunc"
   ]
  },
  {
   "cell_type": "code",
   "execution_count": 9,
   "metadata": {},
   "outputs": [],
   "source": [
    "# mock_vals = generate_mock_list.generate_mock_list(As=1, extra=True)\n",
    "# mock_file_list = mock_vals['lognorm_file_list']\n",
    "# xi_arr_nograd = np.empty((len(mock_file_list), globals.nbins)) \n",
    "# for i in range(len(mock_file_list)):\n",
    "#     r_avg, xi = np.load(f'/scratch/aew492/research-summer2020_output/lognormal/xi/{num_den}/xi_{mock_file_list[i]}.npy')\n",
    "#     xi_arr_nograd[i] = xi\n",
    "\n",
    "# cfs_mean_nograd, stds_nograd, _ = get_cfarr_vals(xi_arr_nograd)\n",
    "\n",
    "cat_tag = f'L{L}_n{num_den}_z057_patchy_As2x'\n",
    "mock_vals_2x = generate_mock_list.generate_mock_list(cat_tag=cat_tag,\n",
    "                                                     mock_type=mock_type,\n",
    "                                                     nmocks=n_mocks,\n",
    "                                                     extra=True)\n",
    "mock_file_list_2x = mock_vals_2x['lognorm_file_list']\n",
    "xi_arr_nograd_2x = np.empty((len(mock_file_list_2x), globals.nbins)) \n",
    "for i in range(len(mock_file_list_2x)):\n",
    "    r_avg, xi = np.load(f'/scratch/aew492/research-summer2020_output/lognormal/xi/ls/{cat_tag_2x}/xi_ls_3x_{mock_file_list_2x[i]}.npy')\n",
    "    xi_arr_nograd_2x[i] = xi\n",
    "\n",
    "cfs_mean_nograd_2x, stds_nograd_2x, _ = get_cfarr_vals(xi_arr_nograd_2x)"
   ]
  },
  {
   "cell_type": "markdown",
   "metadata": {},
   "source": [
    "### check xi results against true CF"
   ]
  },
  {
   "cell_type": "code",
   "execution_count": 10,
   "metadata": {},
   "outputs": [
    {
     "data": {
      "text/plain": [
       "<matplotlib.legend.Legend at 0x14937236de80>"
      ]
     },
     "execution_count": 10,
     "metadata": {},
     "output_type": "execute_result"
    },
    {
     "data": {
      "image/png": "[encoded data removed]",
      "text/plain": [
       "<Figure size 864x648 with 1 Axes>"
      ]
     },
     "metadata": {
      "needs_background": "light"
     },
     "output_type": "display_data"
    }
   ],
   "source": [
    "fig, ax = plt.subplots(figsize=(12,9))\n",
    "\n",
    "# plt.plot(r_t, cf_t_As2x, color=\"k\", alpha=0.6, ls=\"-\", lw=2, label=\"True CF (As2x)\")\n",
    "plt.plot(r_t, 4*cf_t_As2x, color=\"k\", alpha=0.6, ls=\"--\", lw=2, label=r\"$b_1^2$ * True CF (As2x)\")\n",
    "\n",
    "# plt.plot(r_t, cf_t_As1x, color=\"mediumblue\", alpha=0.6, ls=\"-\", lw=2, label=\"True CF (As1x)\")\n",
    "# plt.plot(r_t, 4*cf_t_As1x, color=\"mediumblue\", alpha=0.6, ls=\"--\", lw=2, label=r\"$b_1^2$ * True CF (As1x)\")\n",
    "\n",
    "# ax.errorbar(r_avg, cfs_mean_nograd, yerr=stds_nograd, color='r', alpha=0.8, fmt='o', capsize=3, label=f'Straight Corrfunc (As1x)')\n",
    "ax.errorbar(r_avg, cfs_mean_nograd_2x, yerr=stds_nograd_2x, color='orange', alpha=0.8, fmt='o', capsize=3, label=f'L-S lognormal (As2x)')\n",
    "\n",
    "ax.set_xlim(20, 140)\n",
    "ax.set_ylim(-.005, 0.03)\n",
    "plt.axhline(0, color=\"k\", alpha=0.5, lw=1)\n",
    "ax.set_xlabel(r'separation $r$ ($h^{-1}\\,$Mpc)')\n",
    "ax.set_ylabel(r'correlation function $\\xi$(r)')\n",
    "ax.set_title(f'Recovered Correlation Functions \\n L{L}, n{num_den}, {n_mocks} mocks')\n",
    "plt.legend()"
   ]
  },
  {
   "cell_type": "code",
   "execution_count": null,
   "metadata": {},
   "outputs": [],
   "source": []
  },
  {
   "cell_type": "code",
   "execution_count": 17,
   "metadata": {},
   "outputs": [],
   "source": [
    "# we can see that for both As1x and As2x, b_1**2 * the true CF, aka 4* the true CF, matches the xi results"
   ]
  },
  {
   "cell_type": "markdown",
   "metadata": {},
   "source": [
    "### comparing patches and suave results"
   ]
  },
  {
   "cell_type": "code",
   "execution_count": 11,
   "metadata": {},
   "outputs": [
    {
     "ename": "TypeError",
     "evalue": "generate_mock_list() got an unexpected keyword argument 'boxsize'",
     "output_type": "error",
     "traceback": [
      "\u001b[0;31m---------------------------------------------------------------------------\u001b[0m",
      "\u001b[0;31mTypeError\u001b[0m                                 Traceback (most recent call last)",
      "\u001b[0;32m<ipython-input-11-036335e6a47e>\u001b[0m in \u001b[0;36m<module>\u001b[0;34m\u001b[0m\n\u001b[1;32m      1\u001b[0m \u001b[0;31m# recover amplitudes\u001b[0m\u001b[0;34m\u001b[0m\u001b[0;34m\u001b[0m\u001b[0;34m\u001b[0m\u001b[0m\n\u001b[0;32m----> 2\u001b[0;31m mock_file_name_list = generate_mock_list.generate_mock_list(boxsize=L,\n\u001b[0m\u001b[1;32m      3\u001b[0m                                                      \u001b[0mlognormal_density\u001b[0m\u001b[0;34m=\u001b[0m\u001b[0mnum_den\u001b[0m\u001b[0;34m,\u001b[0m\u001b[0;34m\u001b[0m\u001b[0;34m\u001b[0m\u001b[0m\n\u001b[1;32m      4\u001b[0m                                                      \u001b[0mmock_type\u001b[0m\u001b[0;34m=\u001b[0m\u001b[0mmock_type\u001b[0m\u001b[0;34m,\u001b[0m\u001b[0;34m\u001b[0m\u001b[0;34m\u001b[0m\u001b[0m\n\u001b[1;32m      5\u001b[0m                                                      \u001b[0mn_mocks\u001b[0m\u001b[0;34m=\u001b[0m\u001b[0mn_mocks\u001b[0m\u001b[0;34m,\u001b[0m\u001b[0;34m\u001b[0m\u001b[0;34m\u001b[0m\u001b[0m\n",
      "\u001b[0;31mTypeError\u001b[0m: generate_mock_list() got an unexpected keyword argument 'boxsize'"
     ]
    }
   ],
   "source": [
    "# recover amplitudes\n",
    "mock_file_name_list = generate_mock_list.generate_mock_list(boxsize=L,\n",
    "                                                     lognormal_density=num_den,\n",
    "                                                     mock_type=mock_type,\n",
    "                                                     n_mocks=n_mocks,\n",
    "                                                     As=2)\n",
    "amps_suave = recover_amps.recover_amps(mock_file_name_list, cat_tag, method=\"suave\", basis=\"bao_iterative\")\n",
    "# amps_patches, xi_full_patches = recover_amps.recover_amps(mock_file_name_list, cat_tag, method=\"patches\", n_patches=8)\n",
    "a_0s_s = amps_suave[:,0]"
   ]
  },
  {
   "cell_type": "code",
   "execution_count": null,
   "metadata": {},
   "outputs": [],
   "source": [
    "# suave\n",
    "cf_arr_s = np.empty((len(a_0s_s), len(base_vals_z057_b2)))\n",
    "for i in range(len(a_0s_s)):\n",
    "    cf_arr_s[i] = a_0s_s[i] * base_vals_z057_b2\n",
    "        \n",
    "cfs_mean_s, _, error_regions_s = get_cfarr_vals(cf_arr_s)"
   ]
  },
  {
   "cell_type": "code",
   "execution_count": null,
   "metadata": {},
   "outputs": [],
   "source": [
    "# patches\n",
    "r_edges = np.linspace(globals.rmin, globals.rmax, globals.nbins+1)\n",
    "r_avg = 0.5*(r_edges[1:]+r_edges[:-1])\n",
    "\n",
    "xi_patches = np.array(xi_full_patches)\n",
    "\n",
    "cfs_mean_p, stds_p, _ = get_cfarr_vals(xi_patches)"
   ]
  },
  {
   "cell_type": "code",
   "execution_count": null,
   "metadata": {},
   "outputs": [],
   "source": [
    "# fit for all 401 mocks\n",
    "nmocks = globals.n_mocks\n",
    "thetas = np.zeros(nmocks)\n",
    "for rlz in range(0, nmocks):\n",
    "    theta, _ = fit_to_bases(rlz, r_avg, xi_full_patches)\n",
    "    thetas[rlz] = theta\n",
    "\n",
    "mean_theta = np.mean(thetas)\n",
    "std_theta = np.std(thetas)\n",
    "\n",
    "mean_fit = mean_theta*f_bases_nograd(r_base)\n",
    "std_fit = std_theta*f_bases_nograd(r_base)"
   ]
  },
  {
   "cell_type": "code",
   "execution_count": null,
   "metadata": {},
   "outputs": [],
   "source": [
    "fig, ax = plt.subplots(figsize=(12,9))\n",
    "\n",
    "# b_1^2 * True CF\n",
    "plt.plot(r_t, 4*cf_t_As2x, color=\"k\", alpha=0.5, ls=\"--\", lw=1.5, zorder=100, label=r\"$b_1^2$ * True CF (As2x)\")\n",
    "plt.plot(r_t, 4*cf_t_As1x, color=\"k\", alpha=0.8, ls=\"--\", lw=2, zorder=100, label=r\"$b_1^2$ * True CF (As1x)\")\n",
    "\n",
    "# # \"old\" method\n",
    "# # patches\n",
    "# ax.errorbar(r_avg, cfs_mean_p, yerr=stds_p, color='b', alpha=0.8, fmt='o', capsize=3, label=f'recovered xi')\n",
    "#     # does not rely on cf_model() because we're only taking xi_full\n",
    "\n",
    "# new standard binned fit\n",
    "# plt.plot(r_base, mean_fit, color=\"b\", lw=2, label=\"new standard binned fit\")\n",
    "# ax.fill_between(r_base, mean_fit+std_fit, mean_fit-std_fit, color=\"b\", alpha=0.2)\n",
    "\n",
    "# suave\n",
    "ax.plot(r_base, cfs_mean_s, color='g', label=f'suave: $a_0 * $ BAO base')\n",
    "ax.fill_between(r_base, error_regions_s[:,0], error_regions_s[:,1], color='green', alpha=0.2)\n",
    "    # does rely on cf_model because we're taking the fitted amplitudes\n",
    "\n",
    "ax.set_xlim(20, 140)\n",
    "ax.set_ylim(-.005, 0.03)\n",
    "plt.axhline(0, color=\"k\", alpha=0.5, lw=1)\n",
    "ax.set_xlabel(r'separation $r$ ($h^{-1}\\,$Mpc)')\n",
    "ax.set_ylabel(r'correlation function $\\xi$(r)')\n",
    "ax.set_title(f'Recovered Correlation Functions \\n m=0, L{L}, n{num_den}, {n_mocks} mocks, As{globals.As}x')\n",
    "plt.legend()"
   ]
  },
  {
   "cell_type": "code",
   "execution_count": null,
   "metadata": {},
   "outputs": [],
   "source": [
    "# i think this makes sense– this is for mocks As2x but since m=0 b=0.5, we effectively half the amplitude when\n",
    "#    we run the clustered mocks through the gradient generating script. this is why both the suave and 'patches'\n",
    "#    results line up with the As1x True CF * bias multiplier"
   ]
  }
 ],
 "metadata": {
  "kernelspec": {
   "display_name": "Python 3",
   "language": "python",
   "name": "python3"
  },
  "language_info": {
   "codemirror_mode": {
    "name": "ipython",
    "version": 3
   },
   "file_extension": ".py",
   "mimetype": "text/x-python",
   "name": "python",
   "nbconvert_exporter": "python",
   "pygments_lexer": "ipython3",
   "version": "3.8.6"
  }
 },
 "nbformat": 4,
 "nbformat_minor": 5
}
