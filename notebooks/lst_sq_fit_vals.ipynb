{
 "cells": [
  {
   "cell_type": "code",
   "execution_count": 1,
   "metadata": {},
   "outputs": [],
   "source": [
    "import numpy as np\n",
    "import matplotlib.pyplot as plt\n",
    "import matplotlib\n",
    "import sys\n",
    "import os"
   ]
  },
  {
   "cell_type": "code",
   "execution_count": 2,
   "metadata": {},
   "outputs": [],
   "source": [
    "cat_tag = 'L750_n1e-4_z057_patchy_As2x'\n",
    "npatches = 8\n",
    "testing = True\n",
    "test_dir = 'test_dir' if testing else ''"
   ]
  },
  {
   "cell_type": "code",
   "execution_count": 3,
   "metadata": {},
   "outputs": [],
   "source": [
    "patch_dir = f'/scratch/aew492/research-summer2020_output/gradient/1D/patch_data/{cat_tag}/{npatches}patches/{test_dir}'"
   ]
  },
  {
   "cell_type": "code",
   "execution_count": 4,
   "metadata": {},
   "outputs": [],
   "source": [
    "# this only applies to gradients in the x-direction\n",
    "def get_fit_vals(cat_tag, L, rlz, m, b=0.5, testing=True):\n",
    "    \n",
    "    test_dir = 'test_dir' if testing else ''\n",
    "    patch_dir = f'/scratch/aew492/research-summer2020_output/gradient/1D/patch_data/{cat_tag}/{npatches}patches/{test_dir}'\n",
    "    patch_info = np.load(os.path.join(patch_dir, f'{cat_tag}_rlz{rlz}_m-{m:.3f}-L_b-{b:.3f}.npy'), allow_pickle=True).item()\n",
    "    \n",
    "    r_avg = patch_info['r_avg']\n",
    "    theta = patch_info['theta']\n",
    "    \n",
    "    grad_rec = theta[1:]/theta[0]\n",
    "    \n",
    "    grad_exp = np.array([m /(b*L), 0, 0])\n",
    "    \n",
    "    fit_vals = {\n",
    "        \"r_avg\" : r_avg,\n",
    "        'theta' : theta,\n",
    "        'grad_rec' : grad_rec,\n",
    "        'grad_exp' : grad_exp,\n",
    "    }\n",
    "    \n",
    "    return fit_vals"
   ]
  },
  {
   "cell_type": "code",
   "execution_count": 5,
   "metadata": {},
   "outputs": [],
   "source": [
    "def plot_lst_sq_fit(patch_info, mock_info, bin_cutoff=11, ylim=0.015):\n",
    "    r_avg = patch_info[\"r_avg\"]\n",
    "    bestfit_vals = patch_info[\"bestfit_vals\"]\n",
    "    m_fit = patch_info[\"m_fit\"]\n",
    "    b_fit = patch_info[\"b_fit\"]\n",
    "    grad_expected = mock_info[\"grad_expected\"]\n",
    "    \n",
    "    x_vals = bestfit_vals[0]\n",
    "    x_rec_mean = np.mean(x_vals[:bin_cutoff])\n",
    "    x_rec_med = np.median(x_vals[:bin_cutoff])\n",
    "    # print different values\n",
    "    print(\"expected value = {:.6f}\".format(grad_expected[0]))\n",
    "    print(\"mean bin value = {:.6f}\".format(x_rec_mean))\n",
    "    print(\"median bin value = {:.6f}\".format(x_rec_med))\n",
    "    \n",
    "    fig, ax = plt.subplots()\n",
    "    ## zero line\n",
    "    #plt.axhline(color=\"black\", alpha=0.5)\n",
    "    # expected x value\n",
    "    ax.axhline(grad_expected[0], color=\"red\", alpha=0.5, label=\"expected\")\n",
    "    # recovered x value\n",
    "    ax.axhline(x_rec_mean, color=\"darkgreen\", alpha=0.5, label=\"mean bin value\")\n",
    "    ax.axhline(x_rec_med, color=\"darkblue\", alpha=0.5, label=\"median bin value\")\n",
    "    # x value in each bin\n",
    "    plt.plot(r_avg[:bin_cutoff], x_vals[:bin_cutoff], color=\"purple\", marker=\".\", label=\"m_fit_x/b_fit in bins\")\n",
    "    #plt.plot(r_avg, bestfit_vals[1], color=\"blue\", marker=\".\", alpha=0.4, label=\"y fit\")\n",
    "    #plt.plot(r_avg, bestfit_vals[2], color=\"green\", marker=\".\", alpha=0.4, label=\"z fit\")\n",
    "\n",
    "    ax.set_ylim((-ylim, ylim))\n",
    "    ax.set_xlabel(r\"Separation $r$ ($h^{-1}\\,$Mpc)\")\n",
    "    ax.set_ylabel(r\"Gradient Value ($h\\,$Mpc$^{-1}$)\")\n",
    "    plt.legend()"
   ]
  },
  {
   "cell_type": "markdown",
   "metadata": {},
   "source": [
    "### recovered gradient values: L750 n1e-4, m=1"
   ]
  },
  {
   "cell_type": "code",
   "execution_count": null,
   "metadata": {},
   "outputs": [],
   "source": [
    "nmocks = 401\n",
    "m = 1\n",
    "b = 0.5"
   ]
  },
  {
   "cell_type": "markdown",
   "metadata": {},
   "source": [
    "#### individual amplitudes"
   ]
  },
  {
   "cell_type": "code",
   "execution_count": 16,
   "metadata": {},
   "outputs": [],
   "source": [
    "thetas = np.empty((nmocks, 4))\n",
    "for rlz in range(nmocks):\n",
    "    fit_vals = get_fit_vals(cat_tag, 750, rlz, m=m, b=b)\n",
    "    thetas[rlz] = fit_vals['theta'].flatten()"
   ]
  },
  {
   "cell_type": "code",
   "execution_count": 18,
   "metadata": {},
   "outputs": [
    {
     "data": {
      "text/plain": [
       "array([0.06235869, 0.00041949, 0.00050483, 0.00050534])"
      ]
     },
     "execution_count": 18,
     "metadata": {},
     "output_type": "execute_result"
    }
   ],
   "source": [
    "# standard deviations\n",
    "stds_theta = np.std(thetas, axis=0)\n",
    "stds_theta"
   ]
  },
  {
   "cell_type": "markdown",
   "metadata": {},
   "source": [
    "^^ Standard deviations for $\\theta = [ a_0, a_1, a_2, a_3 ]$ , 401 rlzs of L750, n1e-4, m=1, b=0.5"
   ]
  },
  {
   "cell_type": "markdown",
   "metadata": {},
   "source": [
    "Compare to standard deviations recovered from CFE (for same mock parameters):"
   ]
  },
  {
   "cell_type": "code",
   "execution_count": 19,
   "metadata": {},
   "outputs": [
    {
     "data": {
      "text/plain": [
       "array([0.05016015, 0.00034224, 0.00045429, 0.00047649])"
      ]
     },
     "execution_count": 19,
     "metadata": {},
     "output_type": "execute_result"
    }
   ],
   "source": [
    "stds_cfe = np.array([0.05016015, 0.00034224, 0.00045429, 0.00047649])\n",
    "stds_cfe"
   ]
  },
  {
   "cell_type": "code",
   "execution_count": 20,
   "metadata": {},
   "outputs": [
    {
     "data": {
      "text/plain": [
       "array([1.21985376e-02, 7.72533930e-05, 5.05436518e-05, 2.88501822e-05])"
      ]
     },
     "execution_count": 20,
     "metadata": {},
     "output_type": "execute_result"
    }
   ],
   "source": [
    "stds_theta - stds_cfe"
   ]
  },
  {
   "cell_type": "markdown",
   "metadata": {},
   "source": [
    "#### combined amplitudes => gradient value"
   ]
  },
  {
   "cell_type": "code",
   "execution_count": 7,
   "metadata": {},
   "outputs": [],
   "source": [
    "grads_rec = np.empty((nmocks,3))\n",
    "grads_exp = np.empty((nmocks,3))\n",
    "for rlz in range(nmocks):\n",
    "    fit_vals = get_fit_vals(cat_tag, 750, rlz, m=m, b=b)\n",
    "    grads_rec[rlz] = fit_vals['grad_rec'].flatten()\n",
    "    grads_exp[rlz] = fit_vals['grad_exp']"
   ]
  },
  {
   "cell_type": "code",
   "execution_count": 8,
   "metadata": {},
   "outputs": [
    {
     "data": {
      "text/plain": [
       "<matplotlib.legend.Legend at 0x14ddf32c3d90>"
      ]
     },
     "execution_count": 8,
     "metadata": {},
     "output_type": "execute_result"
    },
    {
     "data": {
      "image/png": "[encoded data removed]",
      "text/plain": [
       "<Figure size 432x288 with 1 Axes>"
      ]
     },
     "metadata": {
      "needs_background": "light"
     },
     "output_type": "display_data"
    }
   ],
   "source": [
    "alpha = 0.5\n",
    "plt.hist(grads_rec[:,1] - grads_exp[:,1], color='C1', alpha=alpha, label='y')\n",
    "plt.hist(grads_rec[:,2] - grads_exp[:,2], color='C2', alpha=alpha, label='z')\n",
    "plt.hist(grads_rec[:,0] - grads_exp[:,0], color='C0', alpha=alpha, label='x')\n",
    "\n",
    "plt.title(r'Recovered - Expected gradient values ($\\vec{a}/a_0$)')\n",
    "plt.xlabel('Rec. - Exp. (units?)')\n",
    "plt.ylabel('# mocks')\n",
    "plt.legend()"
   ]
  },
  {
   "cell_type": "code",
   "execution_count": 9,
   "metadata": {},
   "outputs": [
    {
     "data": {
      "text/plain": [
       "(3,)"
      ]
     },
     "execution_count": 9,
     "metadata": {},
     "output_type": "execute_result"
    }
   ],
   "source": [
    "stds = np.std(grads_rec, axis=0)\n",
    "stds.shape"
   ]
  },
  {
   "cell_type": "code",
   "execution_count": 10,
   "metadata": {},
   "outputs": [
    {
     "data": {
      "text/plain": [
       "<matplotlib.legend.Legend at 0x14ddf2974a60>"
      ]
     },
     "execution_count": 10,
     "metadata": {},
     "output_type": "execute_result"
    },
    {
     "data": {
      "image/png": "[encoded data removed]",
      "text/plain": [
       "<Figure size 864x576 with 1 Axes>"
      ]
     },
     "metadata": {
      "needs_background": "light"
     },
     "output_type": "display_data"
    }
   ],
   "source": [
    "fig, ax = plt.subplots(figsize=(12,8))\n",
    "\n",
    "# x = np.linspace(0, nmocks, 2)\n",
    "# ax.plot(x, x)\n",
    "ax.plot(grads_rec[:,0], ls='None', marker='.', label='x')\n",
    "plt.axhline(grads_exp[0,0])\n",
    "\n",
    "ax.plot(grads_rec[:,1], ls='None', marker='.', label='y')\n",
    "plt.axhline(grads_exp[0,1], alpha=0.5, color='k')\n",
    "\n",
    "ax.plot(grads_rec[:,2], ls='None', marker='.', label='z')\n",
    "plt.axhline(grads_exp[0,2], alpha=0.5, color='k')\n",
    "\n",
    "ax.set_title(f'Recovered Gradients, Patches Fit, {cat_tag} m={m:.3f} b={b:.3f}')\n",
    "ax.set_xlabel('Mock')\n",
    "ax.set_ylabel(r'Gradient value ($\\vec{a}/a_0$)')\n",
    "plt.legend()"
   ]
  },
  {
   "cell_type": "code",
   "execution_count": 11,
   "metadata": {},
   "outputs": [
    {
     "data": {
      "text/plain": [
       "array([0.0004265 , 0.00053195, 0.00053311])"
      ]
     },
     "execution_count": 11,
     "metadata": {},
     "output_type": "execute_result"
    }
   ],
   "source": [
    "stds"
   ]
  }
 ],
 "metadata": {
  "kernelspec": {
   "display_name": "Python 3",
   "language": "python",
   "name": "python3"
  },
  "language_info": {
   "codemirror_mode": {
    "name": "ipython",
    "version": 3
   },
   "file_extension": ".py",
   "mimetype": "text/x-python",
   "name": "python",
   "nbconvert_exporter": "python",
   "pygments_lexer": "ipython3",
   "version": "3.8.6"
  }
 },
 "nbformat": 4,
 "nbformat_minor": 5
}
