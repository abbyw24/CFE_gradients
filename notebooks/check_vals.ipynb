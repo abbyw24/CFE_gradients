{
 "cells": [
  {
   "cell_type": "code",
   "execution_count": 1,
   "metadata": {},
   "outputs": [],
   "source": [
    "import numpy as np\n",
    "import matplotlib.pyplot as plt\n",
    "import matplotlib\n",
    "import sys\n",
    "import os"
   ]
  },
  {
   "cell_type": "code",
   "execution_count": 2,
   "metadata": {},
   "outputs": [],
   "source": [
    "abs_path = '/scratch/aew492/research-summer2020_output/'\n",
    "mock_path = os.path.join(abs_path, 'gradient/1D/mock_data')"
   ]
  },
  {
   "cell_type": "code",
   "execution_count": 3,
   "metadata": {},
   "outputs": [],
   "source": [
    "def load_dict(path, file):\n",
    "    info = np.load(os.path.join(path, file), allow_pickle=True).item()\n",
    "    return info\n",
    "\n",
    "def mock_file(L, n, nx, rlz, m, b):\n",
    "    if nx == 2:\n",
    "        As_str = '_As2x'\n",
    "    elif nx == 1:\n",
    "        As_str = ''\n",
    "    \n",
    "    cat_tag = f'L{L}_n{n}_z057_patchy{As_str}'\n",
    "        \n",
    "    file = '{}/L{}_n{}_z057_patchy{}_rlz{}_m-{:.3f}-L_b-{:.3f}.npy'.format(cat_tag, L, n, As_str, rlz, m, b)\n",
    "    return file"
   ]
  },
  {
   "cell_type": "code",
   "execution_count": 4,
   "metadata": {},
   "outputs": [
    {
     "name": "stdout",
     "output_type": "stream",
     "text": [
      "dict_keys(['mock_file_name', 'cat_tag', 'lognorm_rlz', 'w_hat', 'm', 'b', 'N', 'boxsize', 'grad_expected', 'lognorm_set', 'velocities', 'rand_set', 'clust_set', 'unclust_set', 'grad_set'])\n"
     ]
    }
   ],
   "source": [
    "file = mock_file(750, '1e-4', 2, 0, 1.0, 0.5)\n",
    "info = load_dict(mock_path, file)\n",
    "print(info.keys())"
   ]
  },
  {
   "cell_type": "code",
   "execution_count": 5,
   "metadata": {},
   "outputs": [],
   "source": [
    "# suave plot function\n",
    "def plot_suave(suave_fn, L, suave_dir='/scratch/aew492/research-summer2020_output/gradient/1D/suave_data'):\n",
    "    suave_info = load_dict(suave_dir, suave_fn)\n",
    "    amps = suave_info[\"amps\"]\n",
    "    r_fine = suave_info[\"r_fine\"]\n",
    "    xi_locs = suave_info[\"xi_locs\"]\n",
    "    \n",
    "    v_min = -L/2.\n",
    "    v_max = L/2.\n",
    "    vs_norm = matplotlib.colors.Normalize(vmin=v_min, vmax=v_max)\n",
    "    nvs = 50\n",
    "    vs = np.linspace(v_min, v_max, nvs)\n",
    "\n",
    "    cmap = plt.cm.get_cmap(\"cool\")\n",
    "    \n",
    "    fig, ax = plt.subplots(figsize=(6,6))\n",
    "\n",
    "    ax.axhline(0, color='grey', lw=0.5)\n",
    "\n",
    "    for i, v in enumerate(vs):\n",
    "        plt.plot(r_fine, xi_locs[i], color=cmap(vs_norm(v)), lw=0.5)\n",
    "\n",
    "    sm = plt.cm.ScalarMappable(cmap=cmap, norm=vs_norm)\n",
    "    cbar = plt.colorbar(sm, orientation=\"horizontal\", location=\"top\")\n",
    "    cbar.set_label(r'$x$-displacement from the box center ($h^{-1}\\,$Mpc)', labelpad=12)\n",
    "    #cbar.set_label(r'$v \\,\\, (\\mathbf{x} = v\\hat{e}_\\mathrm{gradient} + \\mathbf{x}_\\mathrm{pivot})$', rotation=0, labelpad=12)\n",
    "    ax.set_ylim((-0.01, 0.12))\n",
    "    ax.set_xlabel(r'separation $r$ ($h^{-1}\\,$Mpc)')\n",
    "    ax.set_ylabel(r'correlation function $\\xi(r)$')\n",
    "    ax.set_title(suave_fn)"
   ]
  },
  {
   "cell_type": "code",
   "execution_count": 6,
   "metadata": {},
   "outputs": [
    {
     "name": "stdout",
     "output_type": "stream",
     "text": [
      "dict_keys(['mock_file_name', 'cat_tag', 'lognorm_rlz', 'w_hat', 'm', 'b', 'N', 'boxsize', 'grad_expected', 'lognorm_set', 'velocities', 'rand_set', 'clust_set', 'unclust_set', 'grad_set'])\n"
     ]
    }
   ],
   "source": [
    "data = load_dict(mock_path, f'L1000_n4e-4_z057_patchy_As2x/L1000_n4e-4_z057_patchy_As2x_rlz0_m-0.635-L_b-0.500.npy')\n",
    "print(data.keys())"
   ]
  },
  {
   "cell_type": "code",
   "execution_count": 7,
   "metadata": {},
   "outputs": [],
   "source": [
    "cat_tag = 'L750_n1e-4_z057_patchy_As2x'"
   ]
  },
  {
   "cell_type": "code",
   "execution_count": 8,
   "metadata": {},
   "outputs": [],
   "source": [
    "rand_sets = [load_dict(mock_path, f'{cat_tag}/{cat_tag}_rlz{i}_m-1.000-L_b-0.500.npy')['rand_set'] for i in range(10)]"
   ]
  },
  {
   "cell_type": "code",
   "execution_count": 9,
   "metadata": {},
   "outputs": [
    {
     "data": {
      "text/plain": [
       "((43212, 3), (43167, 3))"
      ]
     },
     "execution_count": 9,
     "metadata": {},
     "output_type": "execute_result"
    }
   ],
   "source": [
    "rand1 = rand_sets[0].T\n",
    "rand2 = rand_sets[1].T\n",
    "rand1.shape, rand2.shape"
   ]
  },
  {
   "cell_type": "code",
   "execution_count": 10,
   "metadata": {},
   "outputs": [
    {
     "data": {
      "text/plain": [
       "(array([[-315.54416596,  174.45408437,  -51.77763361],\n",
       "        [ 114.09686852,  -42.71666897,  218.9316578 ],\n",
       "        [ 177.02416263,   56.02667312, -216.16823989],\n",
       "        ...,\n",
       "        [-153.12841742,  131.36247727,  114.82697563],\n",
       "        [-154.69595878,   33.54394883,  223.68691451],\n",
       "        [ 209.57306789,  182.47685527,  316.29502309]]),\n",
       " array([[ 333.23446312, -105.14770844,   59.33992723],\n",
       "        [ 348.42023647, -161.43746906, -346.91341504],\n",
       "        [-126.02664876, -132.26710247,   48.30079706],\n",
       "        ...,\n",
       "        [ 360.72987746,  130.64711204,  122.89848513],\n",
       "        [ 371.64745518, -238.10188598, -327.26435999],\n",
       "        [ 180.11128507,  332.02880561, -363.56611713]]))"
      ]
     },
     "execution_count": 10,
     "metadata": {},
     "output_type": "execute_result"
    }
   ],
   "source": [
    "rand1, rand2"
   ]
  },
  {
   "cell_type": "code",
   "execution_count": 11,
   "metadata": {
    "scrolled": true
   },
   "outputs": [
    {
     "data": {
      "text/plain": [
       "((1457, 3), (1444, 3))"
      ]
     },
     "execution_count": 11,
     "metadata": {},
     "output_type": "execute_result"
    }
   ],
   "source": [
    "# super thin slice\n",
    "rand1_sl = rand1[np.where(rand1[:,2]<-350)]\n",
    "rand2_sl = rand2[np.where(rand2[:,2]<-350)]\n",
    "rand1_sl.shape, rand2_sl.shape"
   ]
  },
  {
   "cell_type": "code",
   "execution_count": 12,
   "metadata": {},
   "outputs": [
    {
     "data": {
      "text/plain": [
       "[<matplotlib.lines.Line2D at 0x15026bf89f10>]"
      ]
     },
     "execution_count": 12,
     "metadata": {},
     "output_type": "execute_result"
    },
    {
     "data": {
      "image/png": "[encoded data removed]",
      "text/plain": [
       "<Figure size 432x288 with 1 Axes>"
      ]
     },
     "metadata": {
      "needs_background": "light"
     },
     "output_type": "display_data"
    }
   ],
   "source": [
    "plt.plot(rand1_sl[:,0], rand1_sl[:,1], ls='None', marker=',')\n",
    "plt.plot(rand2_sl[:,0], rand2_sl[:,1], ls='None', marker=',')"
   ]
  }
 ],
 "metadata": {
  "kernelspec": {
   "display_name": "Python 3",
   "language": "python",
   "name": "python3"
  },
  "language_info": {
   "codemirror_mode": {
    "name": "ipython",
    "version": 3
   },
   "file_extension": ".py",
   "mimetype": "text/x-python",
   "name": "python",
   "nbconvert_exporter": "python",
   "pygments_lexer": "ipython3",
   "version": "3.8.6"
  }
 },
 "nbformat": 4,
 "nbformat_minor": 5
}
