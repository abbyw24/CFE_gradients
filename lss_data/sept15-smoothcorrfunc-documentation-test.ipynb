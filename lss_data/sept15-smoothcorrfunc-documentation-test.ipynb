{
 "cells": [
  {
   "cell_type": "code",
   "execution_count": 1,
   "metadata": {},
   "outputs": [],
   "source": [
    "import numpy as np\n",
    "import matplotlib.pyplot as plt\n",
    "import Corrfunc\n",
    "from Corrfunc.io import read_lognormal_catalog\n",
    "from Corrfunc.theory.DDsmu import DDsmu\n",
    "from Corrfunc.theory.DD import DD\n",
    "from Corrfunc.theory.xi import xi\n",
    "from Corrfunc.utils import compute_amps\n",
    "from Corrfunc.utils import evaluate_xi\n",
    "from Corrfunc.utils import qq_analytic\n",
    "from Corrfunc.bases import spline"
   ]
  },
  {
   "cell_type": "code",
   "execution_count": 2,
   "metadata": {},
   "outputs": [],
   "source": [
    "boxsize = 750.0\n",
    "x, y, z = read_lognormal_catalog(n='1e-4')\n",
    "nd = len(x)\n",
    "nr = 3*nd\n",
    "x_rand = np.random.uniform(0, boxsize, nr)\n",
    "y_rand = np.random.uniform(0, boxsize, nr)\n",
    "z_rand = np.random.uniform(0, boxsize, nr)"
   ]
  },
  {
   "cell_type": "code",
   "execution_count": 3,
   "metadata": {},
   "outputs": [],
   "source": [
    "proj_type = 'tophat'\n",
    "rmin, rmax, nprojbins = 40.0, 150.0, 22\n",
    "r_edges = np.linspace(rmin, rmax, nprojbins+1)\n",
    "nmubins = 1\n",
    "mumax = 1.0\n",
    "periodic = True\n",
    "nthreads = 1"
   ]
  },
  {
   "cell_type": "code",
   "execution_count": 4,
   "metadata": {},
   "outputs": [],
   "source": [
    "dd_res, dd_proj, _ = DDsmu(1, nthreads, r_edges, mumax, nmubins,\n",
    "                           x, y, z, boxsize=boxsize, periodic=periodic,\n",
    "                           proj_type=proj_type, nprojbins=nprojbins)\n",
    "dr_res, dr_proj, _ = DDsmu(0, nthreads, r_edges, mumax, nmubins,\n",
    "                           x, y, z, X2=x_rand, Y2=y_rand, Z2=z_rand,\n",
    "                           boxsize=boxsize, periodic=periodic,\n",
    "                           proj_type=proj_type, nprojbins=nprojbins)\n",
    "rr_res, rr_proj, qq_proj = DDsmu(1, nthreads, r_edges, mumax, nmubins,\n",
    "                                 x_rand, y_rand, z_rand, boxsize=boxsize,\n",
    "                                 periodic=periodic, proj_type=proj_type,\n",
    "                                 nprojbins=nprojbins)"
   ]
  },
  {
   "cell_type": "code",
   "execution_count": 5,
   "metadata": {},
   "outputs": [
    {
     "name": "stdout",
     "output_type": "stream",
     "text": [
      "Computing amplitudes (Corrfunc/utils.py)\n",
      "Evaluating xi (Corrfunc/utils.py)\n"
     ]
    }
   ],
   "source": [
    "amps = compute_amps(nprojbins, nd, nd, nr, nr, dd_proj, dr_proj, dr_proj, rr_proj, qq_proj)\n",
    "r_fine = np.linspace(rmin, rmax, 2000)\n",
    "xi = evaluate_xi(amps, r_fine, proj_type, rbins=r_edges)"
   ]
  },
  {
   "cell_type": "code",
   "execution_count": null,
   "metadata": {},
   "outputs": [],
   "source": []
  }
 ],
 "metadata": {
  "kernelspec": {
   "display_name": "Python 3",
   "language": "python",
   "name": "python3"
  },
  "language_info": {
   "codemirror_mode": {
    "name": "ipython",
    "version": 3
   },
   "file_extension": ".py",
   "mimetype": "text/x-python",
   "name": "python",
   "nbconvert_exporter": "python",
   "pygments_lexer": "ipython3",
   "version": "3.7.4"
  }
 },
 "nbformat": 4,
 "nbformat_minor": 2
}
