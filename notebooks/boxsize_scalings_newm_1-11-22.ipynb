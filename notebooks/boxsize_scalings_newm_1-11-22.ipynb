{
 "cells": [
  {
   "cell_type": "code",
   "execution_count": 1,
   "metadata": {},
   "outputs": [],
   "source": [
    "%load_ext autoreload\n",
    "%autoreload 2"
   ]
  },
  {
   "cell_type": "code",
   "execution_count": 2,
   "metadata": {},
   "outputs": [],
   "source": [
    "import numpy as np\n",
    "import matplotlib.pyplot as plt\n",
    "import os\n",
    "import sys\n",
    "\n",
    "sys.path.insert(0, '/home/aew492/CFE_gradients/code')\n",
    "import load_tools"
   ]
  },
  {
   "cell_type": "code",
   "execution_count": 3,
   "metadata": {},
   "outputs": [],
   "source": [
    "\"\"\"given volume, number density, and representative power spectrum value,\n",
    "    return the expected precision of the CF estimation: equation from Weinberg OSU\"\"\"\n",
    "def std_grad(V, n, P):\n",
    "    std = P * (V**(-.5) * (1 + (n*P)**(-1))) * (V**(-1/3))  # last factor is from position dependence across box\n",
    "    return std"
   ]
  },
  {
   "cell_type": "code",
   "execution_count": 4,
   "metadata": {},
   "outputs": [],
   "source": [
    "# find corresponding k, and P_G(k), for some input separation r\n",
    "def get_PkG(r, PkG_fn='/scratch/ksf293/mocks/lognormal/inputs/cat_L750_n2e-4_z057_patchy_As2x_pkG.dat'):\n",
    "    kG, PkG = np.loadtxt(PkG_fn).T\n",
    "    \n",
    "    k = min(kG, key=lambda x:abs(x-1/r))  # closest k value to 1/r\n",
    "    P = PkG[np.where(kG==k)][0]\n",
    "    return k, P"
   ]
  },
  {
   "cell_type": "code",
   "execution_count": 5,
   "metadata": {},
   "outputs": [
    {
     "data": {
      "text/plain": [
       "(0.02511886432, 76730.64364)"
      ]
     },
     "execution_count": 5,
     "metadata": {},
     "output_type": "execute_result"
    }
   ],
   "source": [
    "# from the expected_precision notebook, we've decided to use PkG at r=40 as our representative value:\n",
    "k_rep, P_rep = get_PkG(40)\n",
    "k_rep, P_rep"
   ]
  },
  {
   "cell_type": "markdown",
   "metadata": {},
   "source": [
    "#### precision scalings with boxsize*\n",
    "\\* m values adjusted so that these all have equal \"physical\" spatial gradients"
   ]
  },
  {
   "cell_type": "code",
   "execution_count": 6,
   "metadata": {},
   "outputs": [],
   "source": [
    "sets = np.array([[500, 0.333],\n",
    "        [750, 0.5],\n",
    "        [1000, 0.667],\n",
    "        [1500, 1]])\n",
    "\n",
    "n = '1e-4'\n",
    "b = 0.5\n",
    "nmocks = 142"
   ]
  },
  {
   "cell_type": "code",
   "execution_count": 7,
   "metadata": {},
   "outputs": [],
   "source": [
    "amp_arr = np.empty((len(sets), nmocks, 4))\n",
    "\n",
    "for i, (L, m) in enumerate(sets):\n",
    "    amp_arr[i] = load_tools.load_suave_amps(L=L, n=n, grad_dim=2, m=m, b=b, nmocks=nmocks)"
   ]
  },
  {
   "cell_type": "code",
   "execution_count": 8,
   "metadata": {},
   "outputs": [],
   "source": [
    "# compress the amplitudes along the realizations to get the spread for each amplitude for each boxsize\n",
    "amp_stds_L = np.std(amp_arr, axis=1)  # (4,4) array"
   ]
  },
  {
   "cell_type": "code",
   "execution_count": 9,
   "metadata": {},
   "outputs": [],
   "source": [
    "Ls = sets[:,0]\n",
    "Ls_cont = np.linspace(min(Ls), max(Ls), 100)\n",
    "expected_scalings = std_grad(Ls_cont**3, float(n), P_rep)"
   ]
  },
  {
   "cell_type": "code",
   "execution_count": 14,
   "metadata": {},
   "outputs": [
    {
     "data": {
      "text/plain": [
       "<matplotlib.legend.Legend at 0x1504b5661be0>"
      ]
     },
     "execution_count": 14,
     "metadata": {},
     "output_type": "execute_result"
    },
    {
     "data": {
      "image/png": "[encoded data removed]",
      "text/plain": [
       "<Figure size 576x432 with 1 Axes>"
      ]
     },
     "metadata": {
      "needs_background": "light"
     },
     "output_type": "display_data"
    }
   ],
   "source": [
    "fig, ax = plt.subplots(figsize=(8,6))\n",
    "\n",
    "ax.plot(Ls, amp_stds_L[:,1], marker='o', ls='--', lw=1, color='k', label='$a_x$ , n1e-4')\n",
    "ax.plot(Ls_cont, expected_scalings*10**-1, label='predicted')\n",
    "\n",
    "ax.set_xlabel('Boxsize ($h^{-1}Mpc$)')\n",
    "ax.set_ylabel('$\\sigma$')\n",
    "ax.set_title('Precision scalings with boxsize')\n",
    "\n",
    "ax.set_xscale('log')\n",
    "ax.set_yscale('log')\n",
    "ax.legend()"
   ]
  },
  {
   "cell_type": "code",
   "execution_count": null,
   "metadata": {},
   "outputs": [],
   "source": []
  }
 ],
 "metadata": {
  "kernelspec": {
   "display_name": "Python 3",
   "language": "python",
   "name": "python3"
  },
  "language_info": {
   "codemirror_mode": {
    "name": "ipython",
    "version": 3
   },
   "file_extension": ".py",
   "mimetype": "text/x-python",
   "name": "python",
   "nbconvert_exporter": "python",
   "pygments_lexer": "ipython3",
   "version": "3.8.6"
  }
 },
 "nbformat": 4,
 "nbformat_minor": 4
}
