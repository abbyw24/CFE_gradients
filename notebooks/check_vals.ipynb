{
 "cells": [
  {
   "cell_type": "code",
   "execution_count": 1,
   "id": "f6fcf5d4",
   "metadata": {},
   "outputs": [],
   "source": [
    "import numpy as np\n",
    "import matplotlib.pyplot as plt\n",
    "import matplotlib\n",
    "import sys\n",
    "import os"
   ]
  },
  {
   "cell_type": "code",
   "execution_count": 2,
   "id": "6d291696",
   "metadata": {},
   "outputs": [],
   "source": [
    "abs_path = '/scratch/aew492/research-summer2020_output/gradient/1D/mock_data'"
   ]
  },
  {
   "cell_type": "code",
   "execution_count": 3,
   "id": "0aea10c2",
   "metadata": {},
   "outputs": [],
   "source": [
    "def load_dict(abs_path, file):\n",
    "    info = np.load(os.path.join(abs_path, file), allow_pickle=True).item()\n",
    "    return info\n",
    "\n",
    "def mock_file(L, n, nx, rlz, m, b):\n",
    "    if nx == 2:\n",
    "        As_str = '_As2x'\n",
    "    elif nx == 1:\n",
    "        As_str = ''\n",
    "    \n",
    "    cat_tag = f'L{L}_n{n}_z057_patchy{As_str}'\n",
    "        \n",
    "    file = '{}/L{}_n{}_z057_patchy{}_rlz{}_m-{:.3f}-L_b-{:.3f}.npy'.format(cat_tag, L, n, As_str, rlz, m, b)\n",
    "    return file"
   ]
  },
  {
   "cell_type": "code",
   "execution_count": 5,
   "id": "add29696",
   "metadata": {},
   "outputs": [
    {
     "name": "stdout",
     "output_type": "stream",
     "text": [
      "dict_keys(['mock_file_name', 'cat_tag', 'lognorm_rlz', 'w_hat', 'm', 'b', 'lognorm_density', 'N', 'boxsize', 'grad_expected', 'lognorm_set', 'velocities', 'rand_set', 'clust_set', 'unclust_set', 'grad_set'])\n"
     ]
    }
   ],
   "source": [
    "file = mock_file(750, '1e-4', 2, 0, 1.0, 0.5)\n",
    "info = load_dict(abs_path, file)\n",
    "print(info.keys())"
   ]
  },
  {
   "cell_type": "code",
   "execution_count": null,
   "id": "4eb521bb",
   "metadata": {},
   "outputs": [],
   "source": [
    "mock1 = np.load('/scratch/aew492/research-summer2020_output/catalogs/gradient/L750_n1e-4_z057_patchy_As2x/cat_L750_n1e-4_z057_patchy_As2x_lognormal_rlz0_m-0.000-L_b-0.500.npy', allow_pickle=True)\n",
    "mock1_tag = 'rlz0_m-0.000-L_b-0.500'\n",
    "print(mock1.shape)\n",
    "print(len(mock1))"
   ]
  },
  {
   "cell_type": "code",
   "execution_count": null,
   "id": "aacac6fc",
   "metadata": {},
   "outputs": [],
   "source": [
    "mock2 = np.load('/scratch/aew492/research-summer2020_output/catalogs/gradient/L750_n1e-4_z057_patchy_As2x/cat_L750_n1e-4_z057_patchy_As2x_lognormal_rlz0_m-10.000-L_b-0.500.npy', allow_pickle=True)\n",
    "mock2_tag = 'rlz0_m-10.000-L_b-0.500'\n",
    "print(mock2.shape)\n",
    "print(len(mock2))"
   ]
  },
  {
   "cell_type": "code",
   "execution_count": null,
   "id": "caad8c5e",
   "metadata": {},
   "outputs": [],
   "source": [
    "x, y, z = mock1.T\n",
    "x, y, z"
   ]
  },
  {
   "cell_type": "code",
   "execution_count": null,
   "id": "6c932848",
   "metadata": {},
   "outputs": [],
   "source": [
    "fig, (ax1, ax2) = plt.subplots(1, 2, figsize=(14,10))\n",
    "\n",
    "z_max = 100\n",
    "\n",
    "# plot all points in same color\n",
    "xy_slice1 = mock1[np.where(mock1[:,2] < z_max)] # select rows where z < z_max\n",
    "xy_slice2 = mock2[np.where(mock2[:,2] < z_max)]\n",
    "\n",
    "ax1.plot(xy_slice1[:,0], xy_slice1[:,1],',')   # plot scatter xy-slice\n",
    "ax2.plot(xy_slice2[:,0], xy_slice2[:,1],',')   # plot scatter xy-slice\n",
    "for ax in [ax1, ax2]:\n",
    "    ax.set_aspect('equal')      # square aspect ratio\n",
    "    ax.set_xlabel(\"x (Mpc/h)\")\n",
    "ax1.set_ylabel(\"y (Mpc/h)\")\n",
    "ax1.set_title(mock1_tag)\n",
    "ax2.set_title(mock2_tag)"
   ]
  },
  {
   "cell_type": "code",
   "execution_count": null,
   "id": "d63f7d43",
   "metadata": {},
   "outputs": [],
   "source": [
    "# left mock is the same as the lognormal input mock\n",
    "# right mock, we can see the gradient visually from left (less clustered) to right (more clustered)"
   ]
  },
  {
   "cell_type": "code",
   "execution_count": null,
   "id": "9d961bb1",
   "metadata": {},
   "outputs": [],
   "source": [
    "# compare data\n",
    "abs_path = '/scratch/aew492/research-summer2020_output/gradient/1D/mock_data/'\n",
    "data_fn = 'L750_n1e-4_z057_patchy_As2x/L750_n1e-4_z057_patchy_As2x_rlz0_m-0.000-L_b-0.500.npy'\n",
    "mock_info = load_dict(abs_path, data_fn)\n",
    "L, N, data1 = mock_info['boxsize'], mock_info['N'], mock_info['grad_set']\n",
    "x1, y1, z1 = data1.T"
   ]
  },
  {
   "cell_type": "code",
   "execution_count": null,
   "id": "76bac6f8",
   "metadata": {},
   "outputs": [],
   "source": [
    "# suave plot function\n",
    "def plot_suave(suave_fn, L, suave_dir='/scratch/aew492/research-summer2020_output/gradient/1D/suave_data'):\n",
    "    suave_info = load_dict(suave_dir, suave_fn)\n",
    "    amps = suave_info[\"amps\"]\n",
    "    r_fine = suave_info[\"r_fine\"]\n",
    "    xi_locs = suave_info[\"xi_locs\"]\n",
    "    \n",
    "    v_min = -L/2.\n",
    "    v_max = L/2.\n",
    "    vs_norm = matplotlib.colors.Normalize(vmin=v_min, vmax=v_max)\n",
    "    nvs = 50\n",
    "    vs = np.linspace(v_min, v_max, nvs)\n",
    "\n",
    "    cmap = plt.cm.get_cmap(\"cool\")\n",
    "    \n",
    "    fig, ax = plt.subplots(figsize=(6,6))\n",
    "\n",
    "    ax.axhline(0, color='grey', lw=0.5)\n",
    "\n",
    "    for i, v in enumerate(vs):\n",
    "        plt.plot(r_fine, xi_locs[i], color=cmap(vs_norm(v)), lw=0.5)\n",
    "\n",
    "    sm = plt.cm.ScalarMappable(cmap=cmap, norm=vs_norm)\n",
    "    cbar = plt.colorbar(sm, orientation=\"horizontal\", location=\"top\")\n",
    "    cbar.set_label(r'$x$-displacement from the box center ($h^{-1}\\,$Mpc)', labelpad=12)\n",
    "    #cbar.set_label(r'$v \\,\\, (\\mathbf{x} = v\\hat{e}_\\mathrm{gradient} + \\mathbf{x}_\\mathrm{pivot})$', rotation=0, labelpad=12)\n",
    "    ax.set_ylim((-0.01, 0.12))\n",
    "    ax.set_xlabel(r'separation $r$ ($h^{-1}\\,$Mpc)')\n",
    "    ax.set_ylabel(r'correlation function $\\xi(r)$')\n",
    "    ax.set_title(suave_fn)"
   ]
  },
  {
   "cell_type": "code",
   "execution_count": null,
   "id": "71183ca1",
   "metadata": {},
   "outputs": [],
   "source": [
    "cat_tag = 'L750_n1e-4_z057_patchy_As2x'\n",
    "rlz = 0\n",
    "suave_L750_n1 = f'{cat_tag}/bao_iterative/{cat_tag}_rlz{rlz}_m-1.000-L_b-0.500.npy'\n",
    "plot_suave(suave_L750_n1, 750)\n",
    "\n",
    "cat_tag = 'L500_n1e-4_z057_patchy_As2x'\n",
    "rlz = 0\n",
    "suave_L500_n1 = f'{cat_tag}/bao_iterative/{cat_tag}_rlz{rlz}_m-1.000-L_b-0.500.npy'\n",
    "plot_suave(suave_L500_n1, 500)\n",
    "\n",
    "cat_tag = 'L500_n2e-4_z057_patchy_As2x'\n",
    "rlz = 0\n",
    "suave_L500_n2 = f'{cat_tag}/bao_iterative/{cat_tag}_rlz{rlz}_m-1.000-L_b-0.500.npy'\n",
    "plot_suave(suave_L500_n2, 500)"
   ]
  },
  {
   "cell_type": "code",
   "execution_count": 6,
   "id": "25e3978d",
   "metadata": {},
   "outputs": [],
   "source": [
    "ln_path = '/scratch/aew492/research-summer2020_output/catalogs/lognormal'"
   ]
  },
  {
   "cell_type": "code",
   "execution_count": 7,
   "id": "6a0985fe",
   "metadata": {},
   "outputs": [],
   "source": [
    "ln_file = 'L750_n4e-4_z057_patchy_As2x/L750_n4e-4_z057_patchy_As2x_rlz0_lognormal.npy'"
   ]
  },
  {
   "cell_type": "code",
   "execution_count": 8,
   "id": "15e54dcc",
   "metadata": {},
   "outputs": [
    {
     "data": {
      "text/plain": [
       "dict_keys(['data', 'L', 'N'])"
      ]
     },
     "execution_count": 8,
     "metadata": {},
     "output_type": "execute_result"
    }
   ],
   "source": [
    "info = load_dict(ln_path, ln_file)\n",
    "info.keys()"
   ]
  },
  {
   "cell_type": "code",
   "execution_count": 9,
   "id": "0f083dde",
   "metadata": {},
   "outputs": [
    {
     "data": {
      "text/plain": [
       "169218"
      ]
     },
     "execution_count": 9,
     "metadata": {},
     "output_type": "execute_result"
    }
   ],
   "source": [
    "info['N']"
   ]
  },
  {
   "cell_type": "code",
   "execution_count": null,
   "id": "ccbd3623",
   "metadata": {},
   "outputs": [],
   "source": []
  }
 ],
 "metadata": {
  "kernelspec": {
   "display_name": "Python 3",
   "language": "python",
   "name": "python3"
  },
  "language_info": {
   "codemirror_mode": {
    "name": "ipython",
    "version": 3
   },
   "file_extension": ".py",
   "mimetype": "text/x-python",
   "name": "python",
   "nbconvert_exporter": "python",
   "pygments_lexer": "ipython3",
   "version": "3.9.2"
  }
 },
 "nbformat": 4,
 "nbformat_minor": 5
}
