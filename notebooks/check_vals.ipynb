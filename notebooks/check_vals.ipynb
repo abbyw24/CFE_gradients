{
 "cells": [
  {
   "cell_type": "code",
   "execution_count": 1,
   "metadata": {},
   "outputs": [],
   "source": [
    "import numpy as np\n",
    "import matplotlib.pyplot as plt\n",
    "import matplotlib\n",
    "import sys\n",
    "import os"
   ]
  },
  {
   "cell_type": "code",
   "execution_count": 2,
   "metadata": {},
   "outputs": [],
   "source": [
    "abs_path = '/scratch/aew492/research-summer2020_output/gradient/1D/mock_data'"
   ]
  },
  {
   "cell_type": "code",
   "execution_count": 3,
   "metadata": {},
   "outputs": [],
   "source": [
    "def load_dict(abs_path, file):\n",
    "    info = np.load(os.path.join(abs_path, file), allow_pickle=True).item()\n",
    "    return info\n",
    "\n",
    "def mock_file(L, n, nx, rlz, m, b):\n",
    "    if nx == 2:\n",
    "        As_str = '_As2x'\n",
    "    elif nx == 1:\n",
    "        As_str = ''\n",
    "    \n",
    "    cat_tag = f'L{L}_n{n}_z057_patchy{As_str}'\n",
    "        \n",
    "    file = '{}/L{}_n{}_z057_patchy{}_rlz{}_m-{:.3f}-L_b-{:.3f}.npy'.format(cat_tag, L, n, As_str, rlz, m, b)\n",
    "    return file"
   ]
  },
  {
   "cell_type": "code",
   "execution_count": 4,
   "metadata": {},
   "outputs": [
    {
     "name": "stdout",
     "output_type": "stream",
     "text": [
      "dict_keys(['mock_file_name', 'cat_tag', 'lognorm_rlz', 'w_hat', 'm', 'b', 'N', 'boxsize', 'grad_expected', 'lognorm_set', 'velocities', 'rand_set', 'clust_set', 'unclust_set', 'grad_set'])\n"
     ]
    }
   ],
   "source": [
    "file = mock_file(750, '1e-4', 2, 0, 1.0, 0.5)\n",
    "info = load_dict(abs_path, file)\n",
    "print(info.keys())"
   ]
  },
  {
   "cell_type": "code",
   "execution_count": 5,
   "metadata": {},
   "outputs": [],
   "source": [
    "# suave plot function\n",
    "def plot_suave(suave_fn, L, suave_dir='/scratch/aew492/research-summer2020_output/gradient/1D/suave_data'):\n",
    "    suave_info = load_dict(suave_dir, suave_fn)\n",
    "    amps = suave_info[\"amps\"]\n",
    "    r_fine = suave_info[\"r_fine\"]\n",
    "    xi_locs = suave_info[\"xi_locs\"]\n",
    "    \n",
    "    v_min = -L/2.\n",
    "    v_max = L/2.\n",
    "    vs_norm = matplotlib.colors.Normalize(vmin=v_min, vmax=v_max)\n",
    "    nvs = 50\n",
    "    vs = np.linspace(v_min, v_max, nvs)\n",
    "\n",
    "    cmap = plt.cm.get_cmap(\"cool\")\n",
    "    \n",
    "    fig, ax = plt.subplots(figsize=(6,6))\n",
    "\n",
    "    ax.axhline(0, color='grey', lw=0.5)\n",
    "\n",
    "    for i, v in enumerate(vs):\n",
    "        plt.plot(r_fine, xi_locs[i], color=cmap(vs_norm(v)), lw=0.5)\n",
    "\n",
    "    sm = plt.cm.ScalarMappable(cmap=cmap, norm=vs_norm)\n",
    "    cbar = plt.colorbar(sm, orientation=\"horizontal\", location=\"top\")\n",
    "    cbar.set_label(r'$x$-displacement from the box center ($h^{-1}\\,$Mpc)', labelpad=12)\n",
    "    #cbar.set_label(r'$v \\,\\, (\\mathbf{x} = v\\hat{e}_\\mathrm{gradient} + \\mathbf{x}_\\mathrm{pivot})$', rotation=0, labelpad=12)\n",
    "    ax.set_ylim((-0.01, 0.12))\n",
    "    ax.set_xlabel(r'separation $r$ ($h^{-1}\\,$Mpc)')\n",
    "    ax.set_ylabel(r'correlation function $\\xi(r)$')\n",
    "    ax.set_title(suave_fn)"
   ]
  },
  {
   "cell_type": "code",
   "execution_count": 6,
   "metadata": {},
   "outputs": [
    {
     "name": "stdout",
     "output_type": "stream",
     "text": [
      "dict_keys(['mock_file_name', 'cat_tag', 'lognorm_rlz', 'w_hat', 'm', 'b', 'N', 'boxsize', 'grad_expected', 'lognorm_set', 'velocities', 'rand_set', 'clust_set', 'unclust_set', 'grad_set'])\n"
     ]
    }
   ],
   "source": [
    "data = load_dict(abs_path, f'L1000_n4e-4_z057_patchy_As2x/L1000_n4e-4_z057_patchy_As2x_rlz0_m-0.635-L_b-0.500.npy')\n",
    "print(data.keys())"
   ]
  },
  {
   "cell_type": "code",
   "execution_count": 7,
   "metadata": {},
   "outputs": [],
   "source": [
    "# patches_lstsqfit testing"
   ]
  },
  {
   "cell_type": "code",
   "execution_count": 8,
   "metadata": {},
   "outputs": [],
   "source": [
    "nbins = 22\n",
    "npatches = 8\n",
    "r = np.ones(nbins)\n",
    "patch_centers = np.ones((npatches,3))"
   ]
  },
  {
   "cell_type": "code",
   "execution_count": 9,
   "metadata": {},
   "outputs": [],
   "source": [
    "cov = np.ones((nbins,nbins))  # the normal covariance matrix calculated using full L-S results"
   ]
  },
  {
   "cell_type": "code",
   "execution_count": 10,
   "metadata": {},
   "outputs": [],
   "source": [
    "X = np.empty((nbins*npatches, 4))  # 4 corresponds to the position dependence: [1,x,y,z]\n",
    "xi = np.empty((nbins*npatches, 1))  # our \"unrolled\" L-S results in each bin in each patch"
   ]
  },
  {
   "cell_type": "code",
   "execution_count": 39,
   "metadata": {},
   "outputs": [],
   "source": [
    "# 'tile' the covariance matrix into shape (nbins*npatches,nbins*npatches) instead of (nbins,nbins)"
   ]
  },
  {
   "cell_type": "code",
   "execution_count": 40,
   "metadata": {},
   "outputs": [],
   "source": [
    "npatches = 8\n",
    "nbins = 2\n",
    "a = np.array([[1,2],[3,4]])"
   ]
  },
  {
   "cell_type": "code",
   "execution_count": 51,
   "metadata": {},
   "outputs": [
    {
     "name": "stdout",
     "output_type": "stream",
     "text": [
      "(16, 16)\n"
     ]
    }
   ],
   "source": [
    "a_tiled = np.tile(a, (npatches,npatches))\n",
    "print(a_tiled.shape)"
   ]
  },
  {
   "cell_type": "code",
   "execution_count": 52,
   "metadata": {},
   "outputs": [
    {
     "data": {
      "text/plain": [
       "array([[1, 2, 1, 2, 1, 2, 1, 2, 1, 2, 1, 2, 1, 2, 1, 2],\n",
       "       [3, 4, 3, 4, 3, 4, 3, 4, 3, 4, 3, 4, 3, 4, 3, 4],\n",
       "       [1, 2, 1, 2, 1, 2, 1, 2, 1, 2, 1, 2, 1, 2, 1, 2],\n",
       "       [3, 4, 3, 4, 3, 4, 3, 4, 3, 4, 3, 4, 3, 4, 3, 4],\n",
       "       [1, 2, 1, 2, 1, 2, 1, 2, 1, 2, 1, 2, 1, 2, 1, 2],\n",
       "       [3, 4, 3, 4, 3, 4, 3, 4, 3, 4, 3, 4, 3, 4, 3, 4],\n",
       "       [1, 2, 1, 2, 1, 2, 1, 2, 1, 2, 1, 2, 1, 2, 1, 2],\n",
       "       [3, 4, 3, 4, 3, 4, 3, 4, 3, 4, 3, 4, 3, 4, 3, 4],\n",
       "       [1, 2, 1, 2, 1, 2, 1, 2, 1, 2, 1, 2, 1, 2, 1, 2],\n",
       "       [3, 4, 3, 4, 3, 4, 3, 4, 3, 4, 3, 4, 3, 4, 3, 4],\n",
       "       [1, 2, 1, 2, 1, 2, 1, 2, 1, 2, 1, 2, 1, 2, 1, 2],\n",
       "       [3, 4, 3, 4, 3, 4, 3, 4, 3, 4, 3, 4, 3, 4, 3, 4],\n",
       "       [1, 2, 1, 2, 1, 2, 1, 2, 1, 2, 1, 2, 1, 2, 1, 2],\n",
       "       [3, 4, 3, 4, 3, 4, 3, 4, 3, 4, 3, 4, 3, 4, 3, 4],\n",
       "       [1, 2, 1, 2, 1, 2, 1, 2, 1, 2, 1, 2, 1, 2, 1, 2],\n",
       "       [3, 4, 3, 4, 3, 4, 3, 4, 3, 4, 3, 4, 3, 4, 3, 4]])"
      ]
     },
     "execution_count": 52,
     "metadata": {},
     "output_type": "execute_result"
    }
   ],
   "source": [
    "a_tiled"
   ]
  },
  {
   "cell_type": "code",
   "execution_count": 60,
   "metadata": {},
   "outputs": [],
   "source": [
    "a_diags = np.diag(a_tiled)"
   ]
  },
  {
   "cell_type": "code",
   "execution_count": null,
   "metadata": {},
   "outputs": [],
   "source": [
    "a_big = np.zeros(a_tiled.shape)\n",
    "for i in range(len(a_diags)):\n",
    "    a_big[i,i]"
   ]
  },
  {
   "cell_type": "code",
   "execution_count": 61,
   "metadata": {},
   "outputs": [
    {
     "name": "stdout",
     "output_type": "stream",
     "text": [
      "(16, 16)\n"
     ]
    }
   ],
   "source": [
    "a_big = np.zeros(a_tiled.shape)\n",
    "print(a_big.shape)\n",
    "np.fill_diagonal(a_big, np.diag(a_tiled))"
   ]
  },
  {
   "cell_type": "code",
   "execution_count": 62,
   "metadata": {},
   "outputs": [
    {
     "data": {
      "text/plain": [
       "array([[1., 0., 0., 0., 0., 0., 0., 0., 0., 0., 0., 0., 0., 0., 0., 0.],\n",
       "       [0., 4., 0., 0., 0., 0., 0., 0., 0., 0., 0., 0., 0., 0., 0., 0.],\n",
       "       [0., 0., 1., 0., 0., 0., 0., 0., 0., 0., 0., 0., 0., 0., 0., 0.],\n",
       "       [0., 0., 0., 4., 0., 0., 0., 0., 0., 0., 0., 0., 0., 0., 0., 0.],\n",
       "       [0., 0., 0., 0., 1., 0., 0., 0., 0., 0., 0., 0., 0., 0., 0., 0.],\n",
       "       [0., 0., 0., 0., 0., 4., 0., 0., 0., 0., 0., 0., 0., 0., 0., 0.],\n",
       "       [0., 0., 0., 0., 0., 0., 1., 0., 0., 0., 0., 0., 0., 0., 0., 0.],\n",
       "       [0., 0., 0., 0., 0., 0., 0., 4., 0., 0., 0., 0., 0., 0., 0., 0.],\n",
       "       [0., 0., 0., 0., 0., 0., 0., 0., 1., 0., 0., 0., 0., 0., 0., 0.],\n",
       "       [0., 0., 0., 0., 0., 0., 0., 0., 0., 4., 0., 0., 0., 0., 0., 0.],\n",
       "       [0., 0., 0., 0., 0., 0., 0., 0., 0., 0., 1., 0., 0., 0., 0., 0.],\n",
       "       [0., 0., 0., 0., 0., 0., 0., 0., 0., 0., 0., 4., 0., 0., 0., 0.],\n",
       "       [0., 0., 0., 0., 0., 0., 0., 0., 0., 0., 0., 0., 1., 0., 0., 0.],\n",
       "       [0., 0., 0., 0., 0., 0., 0., 0., 0., 0., 0., 0., 0., 4., 0., 0.],\n",
       "       [0., 0., 0., 0., 0., 0., 0., 0., 0., 0., 0., 0., 0., 0., 1., 0.],\n",
       "       [0., 0., 0., 0., 0., 0., 0., 0., 0., 0., 0., 0., 0., 0., 0., 4.]])"
      ]
     },
     "execution_count": 62,
     "metadata": {},
     "output_type": "execute_result"
    }
   ],
   "source": [
    "a_big"
   ]
  },
  {
   "cell_type": "code",
   "execution_count": 57,
   "metadata": {},
   "outputs": [],
   "source": [
    "a = np.zeros((3, 3), int)\n",
    "np.fill_diagonal(a, 5)"
   ]
  },
  {
   "cell_type": "code",
   "execution_count": null,
   "metadata": {},
   "outputs": [],
   "source": []
  }
 ],
 "metadata": {
  "kernelspec": {
   "display_name": "Python 3",
   "language": "python",
   "name": "python3"
  },
  "language_info": {
   "codemirror_mode": {
    "name": "ipython",
    "version": 3
   },
   "file_extension": ".py",
   "mimetype": "text/x-python",
   "name": "python",
   "nbconvert_exporter": "python",
   "pygments_lexer": "ipython3",
   "version": "3.8.6"
  }
 },
 "nbformat": 4,
 "nbformat_minor": 5
}
