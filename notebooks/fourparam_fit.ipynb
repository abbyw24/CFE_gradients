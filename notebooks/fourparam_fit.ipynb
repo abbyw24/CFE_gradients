{
 "cells": [
  {
   "cell_type": "code",
   "execution_count": 1,
   "id": "30914f62",
   "metadata": {},
   "outputs": [],
   "source": [
    "import numpy as np\n",
    "import matplotlib.pyplot as plt\n",
    "import sys\n",
    "import os\n",
    "\n",
    "sys.path.insert(0, '/home/aew492/research-summer2020/code')\n",
    "from suave import cf_model\n",
    "from fourparam_fit import xi_bestfit"
   ]
  },
  {
   "cell_type": "code",
   "execution_count": 2,
   "id": "cf45e3dd",
   "metadata": {},
   "outputs": [],
   "source": [
    "# Y = A M\n",
    "# where Y = data vector (dependent), A = features (including IVs), M = best-fit parameters (m & b / or B^2, a1, a2, a3)\n",
    "# keep in mind, we do this fit for each mock"
   ]
  },
  {
   "cell_type": "code",
   "execution_count": 3,
   "id": "a91f16f2",
   "metadata": {},
   "outputs": [
    {
     "data": {
      "text/plain": [
       "22"
      ]
     },
     "execution_count": 3,
     "metadata": {},
     "output_type": "execute_result"
    }
   ],
   "source": [
    "# define r vector\n",
    "rmin = 20.0\n",
    "rmax = 140.0\n",
    "nbins = 22\n",
    "r_edges = np.linspace(rmin, rmax, nbins+1)\n",
    "r_avg = 0.5*(r_edges[1:]+r_edges[:-1])\n",
    "len(r_avg)"
   ]
  },
  {
   "cell_type": "markdown",
   "id": "185b26d9",
   "metadata": {},
   "source": [
    "### Y vector"
   ]
  },
  {
   "cell_type": "code",
   "execution_count": 4,
   "id": "c4d3c78b",
   "metadata": {},
   "outputs": [
    {
     "name": "stdout",
     "output_type": "stream",
     "text": [
      "(22,)\n"
     ]
    }
   ],
   "source": [
    "# results of L-S estimator on entire mock (i.e. no patches)\n",
    "# for now, arbitrary numbers\n",
    "Y = np.ones(nbins)\n",
    "print(Y.shape)"
   ]
  },
  {
   "cell_type": "markdown",
   "id": "085438fb",
   "metadata": {},
   "source": [
    "### A matrix (features)"
   ]
  },
  {
   "cell_type": "code",
   "execution_count": 5,
   "id": "17effa49",
   "metadata": {},
   "outputs": [],
   "source": [
    "# xi_mod\n",
    "alpha = 1.0\n",
    "xi_mod = cf_model(alpha*r_avg, cosmo_base=None, redshift=0.57, bias=2.0)"
   ]
  },
  {
   "cell_type": "code",
   "execution_count": 6,
   "id": "bc9a343b",
   "metadata": {},
   "outputs": [
    {
     "name": "stdout",
     "output_type": "stream",
     "text": [
      "(22, 4)\n"
     ]
    }
   ],
   "source": [
    "A = np.array([xi_mod, 1/r_avg**2, 1/r_avg, np.ones(nbins)]).T\n",
    "print(A.shape)"
   ]
  },
  {
   "cell_type": "markdown",
   "id": "d3047b67",
   "metadata": {},
   "source": [
    "### C matrix (covariance)"
   ]
  },
  {
   "cell_type": "code",
   "execution_count": 7,
   "id": "89068434",
   "metadata": {},
   "outputs": [],
   "source": [
    "# ones for now\n",
    "C = np.identity(len(Y))\n",
    "C_inv = np.linalg.inv(C)"
   ]
  },
  {
   "cell_type": "markdown",
   "id": "1e5ac7f8",
   "metadata": {},
   "source": [
    "### least squares fit: Y = A @ X"
   ]
  },
  {
   "cell_type": "code",
   "execution_count": 8,
   "id": "38729a17",
   "metadata": {},
   "outputs": [
    {
     "name": "stdout",
     "output_type": "stream",
     "text": [
      "(4,) [-1.45519152e-11  1.86264515e-09 -1.45519152e-11  1.00000000e+00]\n"
     ]
    }
   ],
   "source": [
    "M = np.linalg.inv(A.T @ C_inv @ A) @ (A.T @ C_inv @ Y)\n",
    "print(M.shape, M)"
   ]
  },
  {
   "cell_type": "code",
   "execution_count": 9,
   "id": "5646edc1",
   "metadata": {},
   "outputs": [],
   "source": [
    "# these are our best-fit parameters: B**2, a1, a2, a3"
   ]
  },
  {
   "cell_type": "markdown",
   "id": "c0939e7f",
   "metadata": {},
   "source": [
    "# real data!"
   ]
  },
  {
   "cell_type": "markdown",
   "id": "9e91ec0a",
   "metadata": {},
   "source": [
    "### load in data"
   ]
  },
  {
   "cell_type": "code",
   "execution_count": 10,
   "id": "e4ebf90e",
   "metadata": {},
   "outputs": [],
   "source": [
    "data_dir = '/scratch/aew492/research-summer2020_output'\n",
    "cat_tag = 'L750_n1e-4_z057_patchy_As2x'\n",
    "rlz = 0\n",
    "m = 1\n",
    "b = 0.5\n",
    "mock_name = f'{cat_tag}_rlz{rlz}_lognormal'"
   ]
  },
  {
   "cell_type": "code",
   "execution_count": 11,
   "id": "b5c048f8",
   "metadata": {},
   "outputs": [
    {
     "name": "stdout",
     "output_type": "stream",
     "text": [
      "(2, 22)\n"
     ]
    }
   ],
   "source": [
    "# results of L-S estimator on entire mock (i.e. no patches)\n",
    "# xi_ls = np.load(os.path.join(data_dir, f'gradient/1D/ls/{cat_tag}/xi_ls_3x_{cat_tag}_rlz{rlz}_m-{m}.000-L_b-{b}00.npy'), allow_pickle=True)\n",
    "xi_ls = np.load(os.path.join(data_dir, f'lognormal/xi/ls/{cat_tag}/xi_ls_3x_{mock_name}.npy'), allow_pickle=True)\n",
    "print(xi_ls.shape)"
   ]
  },
  {
   "cell_type": "code",
   "execution_count": 12,
   "id": "2dc857f5",
   "metadata": {},
   "outputs": [],
   "source": [
    "r_avg = xi_ls[0]"
   ]
  },
  {
   "cell_type": "markdown",
   "id": "6c8950fe",
   "metadata": {},
   "source": [
    "### Landy-Szalay results (Y vector)"
   ]
  },
  {
   "cell_type": "code",
   "execution_count": 13,
   "id": "86f4c60f",
   "metadata": {},
   "outputs": [
    {
     "name": "stdout",
     "output_type": "stream",
     "text": [
      "(22,)\n"
     ]
    }
   ],
   "source": [
    "Y = xi_ls[1]\n",
    "print(Y.shape)"
   ]
  },
  {
   "cell_type": "markdown",
   "id": "4012d375",
   "metadata": {},
   "source": [
    "### feature (A) matrix"
   ]
  },
  {
   "cell_type": "code",
   "execution_count": 14,
   "id": "86f947ae",
   "metadata": {},
   "outputs": [],
   "source": [
    "# xi_mod\n",
    "alpha = 1.0\n",
    "xi_mod = cf_model(alpha*r_avg, cosmo_base=None, redshift=0.57, bias=2.0)"
   ]
  },
  {
   "cell_type": "code",
   "execution_count": 15,
   "id": "97d0a435",
   "metadata": {},
   "outputs": [
    {
     "name": "stdout",
     "output_type": "stream",
     "text": [
      "(22, 4)\n"
     ]
    }
   ],
   "source": [
    "A = np.array([xi_mod, 1/r_avg**2, 1/r_avg, np.ones(nbins)]).T\n",
    "print(A.shape)"
   ]
  },
  {
   "cell_type": "markdown",
   "id": "2d1b7ccb",
   "metadata": {},
   "source": [
    "### covariance (C) matrix"
   ]
  },
  {
   "cell_type": "code",
   "execution_count": 16,
   "id": "5da0ad3b",
   "metadata": {},
   "outputs": [],
   "source": [
    "# ones for now\n",
    "C = np.identity(len(Y))\n",
    "C_inv = np.linalg.inv(C)"
   ]
  },
  {
   "cell_type": "markdown",
   "id": "10628dea",
   "metadata": {},
   "source": [
    "### performing the fit: finding best-fit parameters for given alpha"
   ]
  },
  {
   "cell_type": "code",
   "execution_count": 17,
   "id": "503e7d35",
   "metadata": {},
   "outputs": [
    {
     "name": "stdout",
     "output_type": "stream",
     "text": [
      "(4,) [ 2.85051664e+00 -1.15992819e+02  1.95415146e+00 -9.11522662e-03]\n"
     ]
    }
   ],
   "source": [
    "X = np.linalg.inv(A.T @ C_inv @ A) @ (A.T @ C_inv @ Y)\n",
    "B_sq, a1, a2, a3 = X\n",
    "print(X.shape, X)"
   ]
  },
  {
   "cell_type": "code",
   "execution_count": 18,
   "id": "4a3d0c51",
   "metadata": {},
   "outputs": [
    {
     "data": {
      "text/plain": [
       "(1001,)"
      ]
     },
     "execution_count": 18,
     "metadata": {},
     "output_type": "execute_result"
    }
   ],
   "source": [
    "# putting X values back into equation for xi_fit— but we'll use a finer r grid for a smoother plot\n",
    "ncont = 1000\n",
    "r_avg_fine = np.linspace(rmin, rmax, ncont+1)\n",
    "xi_mod_fine = cf_model(alpha*r_avg_fine, cosmo_base=None, redshift=0.57, bias=2.0)\n",
    "\n",
    "xi_fit = B_sq*xi_mod_fine + a1/r_avg_fine**2 + a2/r_avg_fine + a3\n",
    "xi_fit.shape"
   ]
  },
  {
   "cell_type": "code",
   "execution_count": 19,
   "id": "0d033d2f",
   "metadata": {},
   "outputs": [
    {
     "data": {
      "text/plain": [
       "<matplotlib.legend.Legend at 0x15126bb1a730>"
      ]
     },
     "execution_count": 19,
     "metadata": {},
     "output_type": "execute_result"
    },
    {
     "data": {
      "image/png": "[encoded data removed]",
      "text/plain": [
       "<Figure size 864x648 with 1 Axes>"
      ]
     },
     "metadata": {
      "needs_background": "light"
     },
     "output_type": "display_data"
    }
   ],
   "source": [
    "# visualization\n",
    "fig, ax = plt.subplots(figsize=(12,9))\n",
    "\n",
    "plt.plot(r_avg, Y, marker='o', linestyle='None', label='Landy-Szalay')\n",
    "plt.plot(r_avg_fine, xi_mod_fine, label='xi model')\n",
    "plt.plot(r_avg_fine, xi_fit, label='xi fit')\n",
    "\n",
    "ax.set_xlim(20, 140)\n",
    "ax.set_ylim(-.01, 0.04)\n",
    "plt.axhline(0, color=\"k\", alpha=0.5, lw=1)\n",
    "ax.set_xlabel(r'separation $r$ ($h^{-1}\\,$Mpc)')\n",
    "ax.set_ylabel(r'correlation function $\\xi$(r)')\n",
    "ax.set_title(f'Least squares fit, {cat_tag}, m={m}, b={b}, alpha={alpha}')\n",
    "plt.legend()"
   ]
  },
  {
   "cell_type": "markdown",
   "id": "421d279d",
   "metadata": {},
   "source": [
    "## functions + multiple alpha values"
   ]
  },
  {
   "cell_type": "code",
   "execution_count": 20,
   "id": "0efac36f",
   "metadata": {},
   "outputs": [],
   "source": [
    "# we do this for a bunch of different alpha values:\n",
    "def lst_sq_fit(alpha, xi_ls, cov=None):\n",
    "    r_avg = xi_ls[0]\n",
    "    nbins = len(r_avg)\n",
    "    Y = xi_ls[1]\n",
    "    xi_mod = cf_model(alpha*r_avg, cosmo_base=None, redshift=0.57, bias=2.0)\n",
    "    A = np.array([xi_mod, 1/r_avg**2, 1/r_avg, np.ones(nbins)]).T\n",
    "    \n",
    "    if cov==None:\n",
    "        C = np.identity(len(Y))\n",
    "        C_inv = np.linalg.inv(C)\n",
    "    else:\n",
    "        assert False, \"covs must be 1 for now\"\n",
    "    \n",
    "    X = np.linalg.inv(A.T @ C_inv @ A) @ (A.T @ C_inv @ Y)\n",
    "    B_sq, a1, a2, a3 = X\n",
    "    \n",
    "    xi_fit = B_sq*xi_mod + a1/r_avg**2 + a2/r_avg + a3\n",
    "    \n",
    "    return xi_fit"
   ]
  },
  {
   "cell_type": "code",
   "execution_count": 21,
   "id": "54e41a29",
   "metadata": {},
   "outputs": [],
   "source": [
    "xi_fit = lst_sq_fit(1.0, xi_ls)"
   ]
  },
  {
   "cell_type": "code",
   "execution_count": 22,
   "id": "b7cdbe9b",
   "metadata": {},
   "outputs": [],
   "source": [
    "alpha_grid = np.linspace(0.75, 1.25, 51)\n",
    "nalphas = len(alpha_grid)"
   ]
  },
  {
   "cell_type": "code",
   "execution_count": 23,
   "id": "50bb3d54",
   "metadata": {},
   "outputs": [
    {
     "data": {
      "text/plain": [
       "array([0.75, 0.76, 0.77, 0.78, 0.79, 0.8 , 0.81, 0.82, 0.83, 0.84, 0.85,\n",
       "       0.86, 0.87, 0.88, 0.89, 0.9 , 0.91, 0.92, 0.93, 0.94, 0.95, 0.96,\n",
       "       0.97, 0.98, 0.99, 1.  , 1.01, 1.02, 1.03, 1.04, 1.05, 1.06, 1.07,\n",
       "       1.08, 1.09, 1.1 , 1.11, 1.12, 1.13, 1.14, 1.15, 1.16, 1.17, 1.18,\n",
       "       1.19, 1.2 , 1.21, 1.22, 1.23, 1.24, 1.25])"
      ]
     },
     "execution_count": 23,
     "metadata": {},
     "output_type": "execute_result"
    }
   ],
   "source": [
    "alpha_grid"
   ]
  },
  {
   "cell_type": "code",
   "execution_count": 24,
   "id": "373f3f09",
   "metadata": {},
   "outputs": [],
   "source": [
    "data_dir = '/scratch/aew492/research-summer2020_output'\n",
    "cat_tag = 'L750_n1e-4_z057_patchy_As2x'\n",
    "rlz = 0\n",
    "m = 1\n",
    "b = 0.5\n",
    "xi_ls = np.load(os.path.join(data_dir, f'gradient/1D/ls/{cat_tag}/xi_ls_3x_{cat_tag}_rlz{rlz}_m-{m}.000-L_b-{b}00.npy'), allow_pickle=True)\n",
    "nbins = len(xi_ls[0])"
   ]
  },
  {
   "cell_type": "code",
   "execution_count": 25,
   "id": "1bf2866f",
   "metadata": {},
   "outputs": [],
   "source": [
    "xi_fits = np.empty((nalphas, nbins))\n",
    "for i in range(nalphas):\n",
    "    xi_fit = lst_sq_fit(alpha_grid[i], xi_ls)\n",
    "    xi_fits[i] = xi_fit"
   ]
  },
  {
   "cell_type": "code",
   "execution_count": 26,
   "id": "2587bfa3",
   "metadata": {},
   "outputs": [
    {
     "data": {
      "text/plain": [
       "((51, 22), 22)"
      ]
     },
     "execution_count": 26,
     "metadata": {},
     "output_type": "execute_result"
    }
   ],
   "source": [
    "xi_fits.shape, len(xi_fits[0])"
   ]
  },
  {
   "cell_type": "code",
   "execution_count": 27,
   "id": "afcbf4fa",
   "metadata": {},
   "outputs": [],
   "source": [
    "# chi-squared test: find the alpha which minimizes chi-squared\n",
    "chi_squared = np.sum((xi_ls[1] - xi_fits[0])**2 / xi_fits[0])"
   ]
  },
  {
   "cell_type": "code",
   "execution_count": 28,
   "id": "a4d0a2ca",
   "metadata": {},
   "outputs": [
    {
     "data": {
      "text/plain": [
       "-4.978696155846698"
      ]
     },
     "execution_count": 28,
     "metadata": {},
     "output_type": "execute_result"
    }
   ],
   "source": [
    "chi_squared"
   ]
  },
  {
   "cell_type": "code",
   "execution_count": 29,
   "id": "a1430896",
   "metadata": {},
   "outputs": [],
   "source": [
    "chi_squareds = np.ones(nalphas)\n",
    "for i in range(nalphas):\n",
    "    diff = xi_ls[1] - xi_fits[i]\n",
    "    chi_squared = np.dot(diff, np.linalg.solve(C, diff)) #***\n",
    "    chi_squareds[i] = chi_squared"
   ]
  },
  {
   "cell_type": "code",
   "execution_count": 30,
   "id": "111ed7f0",
   "metadata": {},
   "outputs": [
    {
     "data": {
      "text/plain": [
       "array([1.80404978e-04, 1.80516860e-04, 1.80578506e-04, 1.80602915e-04,\n",
       "       1.80605068e-04, 1.80600761e-04, 1.80601567e-04, 1.80605858e-04,\n",
       "       1.80588614e-04, 1.80490690e-04, 1.80219224e-04, 1.79653547e-04,\n",
       "       1.78643464e-04, 1.77015918e-04, 1.74607297e-04, 1.71283890e-04,\n",
       "       1.66957492e-04, 1.61609615e-04, 1.55329373e-04, 1.48284824e-04,\n",
       "       1.40648452e-04, 1.32629087e-04, 1.24509681e-04, 1.16619444e-04,\n",
       "       1.09204044e-04, 1.02433207e-04, 9.64106045e-05, 9.12264893e-05,\n",
       "       8.70043572e-05, 8.38293487e-05, 8.17142644e-05, 8.05934073e-05,\n",
       "       8.03346285e-05, 8.08167049e-05, 8.20072994e-05, 8.38891564e-05,\n",
       "       8.64221606e-05, 8.95361087e-05, 9.31338839e-05, 9.71254237e-05,\n",
       "       1.01480218e-04, 1.06170107e-04, 1.11141551e-04, 1.16319722e-04,\n",
       "       1.21613798e-04, 1.26926067e-04, 1.32179886e-04, 1.37327599e-04,\n",
       "       1.42326456e-04, 1.47121313e-04, 1.51649701e-04])"
      ]
     },
     "execution_count": 30,
     "metadata": {},
     "output_type": "execute_result"
    }
   ],
   "source": [
    "chi_squareds"
   ]
  },
  {
   "cell_type": "code",
   "execution_count": 31,
   "id": "4e9f45b0",
   "metadata": {},
   "outputs": [
    {
     "data": {
      "text/plain": [
       "Text(0.5, 1.0, 'Chi-squared, L750_n1e-4_z057_patchy_As2x, m=1, b=0.5, range of alphas')"
      ]
     },
     "execution_count": 31,
     "metadata": {},
     "output_type": "execute_result"
    },
    {
     "data": {
      "image/png": "[encoded data removed]",
      "text/plain": [
       "<Figure size 432x288 with 1 Axes>"
      ]
     },
     "metadata": {
      "needs_background": "light"
     },
     "output_type": "display_data"
    }
   ],
   "source": [
    "fig, ax = plt.subplots()\n",
    "\n",
    "plt.plot(alpha_grid, chi_squareds)\n",
    "\n",
    "ax.set_xlabel(r'$\\alpha$')\n",
    "ax.set_ylabel(r'$\\chi^2$')\n",
    "ax.set_title(f'Chi-squared, {cat_tag}, m={m}, b={b}, range of alphas')"
   ]
  },
  {
   "cell_type": "markdown",
   "id": "911fe0df",
   "metadata": {},
   "source": [
    "## checking results"
   ]
  },
  {
   "cell_type": "code",
   "execution_count": 32,
   "id": "ec51b015",
   "metadata": {},
   "outputs": [],
   "source": [
    "rlz = 4\n",
    "m = m\n",
    "b = b"
   ]
  },
  {
   "cell_type": "code",
   "execution_count": 33,
   "id": "aff5aa9f",
   "metadata": {},
   "outputs": [
    {
     "name": "stdout",
     "output_type": "stream",
     "text": [
      "(2, 22)\n"
     ]
    }
   ],
   "source": [
    "# Landy-Szalay\n",
    "xi_ls = np.load(os.path.join(data_dir, f'gradient/1D/ls/{cat_tag}/xi_ls_3x_{cat_tag}_rlz{rlz}_m-{m}.000-L_b-{b}00.npy'), allow_pickle=True)\n",
    "r_avg = xi_ls[0]\n",
    "ls_results = xi_ls[1]\n",
    "print(xi_ls.shape)"
   ]
  },
  {
   "cell_type": "code",
   "execution_count": 34,
   "id": "cec223d5",
   "metadata": {
    "scrolled": true
   },
   "outputs": [
    {
     "data": {
      "text/plain": [
       "(0.83,\n",
       " -0.3532593330797779,\n",
       " 166.28671324089552,\n",
       " -2.296761828353113,\n",
       " 0.007977731254291858,\n",
       " ())"
      ]
     },
     "execution_count": 34,
     "metadata": {},
     "output_type": "execute_result"
    }
   ],
   "source": [
    "# 4-parameter fit\n",
    "results = np.load(os.path.join(data_dir, f'bases/4-parameter_fit/identity/results_gradient_{cat_tag}/basis_gradient_{cat_tag}_rlz{rlz}_m-1.000-L_b-0.500.npy'), allow_pickle=True).item()\n",
    "B_sq = results['B_sq']\n",
    "a1 = results['a1']\n",
    "a2 = results['a2']\n",
    "a3 = results['a3']\n",
    "alpha = results['best_alpha']\n",
    "alpha, B_sq, a1, a2, a3, B_sq.shape"
   ]
  },
  {
   "cell_type": "code",
   "execution_count": 35,
   "id": "60413116",
   "metadata": {},
   "outputs": [
    {
     "data": {
      "text/plain": [
       "(1001,)"
      ]
     },
     "execution_count": 35,
     "metadata": {},
     "output_type": "execute_result"
    }
   ],
   "source": [
    "# plug recovered parameters back into xi equation\n",
    "ncont = 1000\n",
    "r_fine = np.linspace(rmin, rmax, ncont+1)\n",
    "xi_mod_fine = cf_model(alpha*r_fine, cosmo_base=None, redshift=0.57, bias=2.0)\n",
    "\n",
    "xi_fit = xi_bestfit(r_fine, xi_mod_fine, B_sq, a1, a2, a3)\n",
    "xi_fit.shape"
   ]
  },
  {
   "cell_type": "markdown",
   "id": "de521943",
   "metadata": {},
   "source": [
    "## comparing standard fit results to bao_iterative results"
   ]
  },
  {
   "cell_type": "code",
   "execution_count": 36,
   "id": "c705ba64",
   "metadata": {},
   "outputs": [],
   "source": [
    "# load in bao iterative\n",
    "bao_results = np.load(os.path.join(data_dir, f'bases/bao_iterative/results/results_gradient_{cat_tag}/converged/cf_baoiter_cosmoplanck15_test_trrnum_3x_{cat_tag}_m-{m}.000-L_b-{b}00_rlz{rlz}.npy'), allow_pickle=True)\n",
    "rcont, bao_basis, _, _, extra_dict = bao_results\n",
    "bao_alpha = extra_dict['alpha_model']\n"
   ]
  },
  {
   "cell_type": "code",
   "execution_count": 37,
   "id": "180f7243",
   "metadata": {
    "scrolled": false
   },
   "outputs": [
    {
     "data": {
      "text/plain": [
       "<matplotlib.legend.Legend at 0x15126b912820>"
      ]
     },
     "execution_count": 37,
     "metadata": {},
     "output_type": "execute_result"
    },
    {
     "data": {
      "image/png": "[encoded data removed]",
      "text/plain": [
       "<Figure size 864x648 with 1 Axes>"
      ]
     },
     "metadata": {
      "needs_background": "light"
     },
     "output_type": "display_data"
    }
   ],
   "source": [
    "fig, ax = plt.subplots(figsize=(12,9))\n",
    "\n",
    "plt.plot(r_avg, ls_results, marker='o', ls='None', alpha=0.8, label=f'L-S Results')\n",
    "\n",
    "plt.plot(r_fine, xi_fit, lw=2, alpha=0.8, label='standard 4-param (alpha={:.2f})'.format(alpha))\n",
    "\n",
    "plt.plot(rcont, bao_basis, lw=2, alpha=0.8, label='bao iterative (alpha={:.2f})'.format(bao_alpha))\n",
    "\n",
    "ax.set_xlim(20, 140)\n",
    "ax.set_ylim(-.01, 0.04)\n",
    "plt.axhline(0, color=\"k\", alpha=0.5, lw=1)\n",
    "ax.set_xlabel(r'separation $r$ ($h^{-1}\\,$Mpc)')\n",
    "ax.set_ylabel(r'correlation function $\\xi$(r)')\n",
    "ax.set_title(f'Gradient bases, {cat_tag} rlz{rlz}, m={m}, b={b}')\n",
    "plt.legend()"
   ]
  },
  {
   "cell_type": "code",
   "execution_count": 38,
   "id": "4653a962",
   "metadata": {},
   "outputs": [],
   "source": [
    "\n",
    "\n",
    "chi_squareds = np.ones(nalphas)\n",
    "for i in range(nalphas):\n",
    "    diff = xi_ls[1] - xi_fits[i]\n",
    "    chi_squared = np.dot(diff, np.linalg.solve(C, diff)) #***\n",
    "    chi_squareds[i] = chi_squared"
   ]
  },
  {
   "cell_type": "markdown",
   "id": "11422ec2",
   "metadata": {},
   "source": [
    "### average over all mocks"
   ]
  },
  {
   "cell_type": "code",
   "execution_count": 39,
   "id": "10b135aa",
   "metadata": {},
   "outputs": [],
   "source": [
    "nmocks = 401\n",
    "nbins = 22"
   ]
  },
  {
   "cell_type": "code",
   "execution_count": 40,
   "id": "55f7b14d",
   "metadata": {},
   "outputs": [],
   "source": [
    "# Landy-Szalay\n",
    "xi_lss = np.empty((nmocks, nbins))\n",
    "for rlz in range(nmocks):\n",
    "    xi_ls = np.load(os.path.join(data_dir, f'gradient/1D/ls/{cat_tag}/xi_ls_3x_{cat_tag}_rlz{rlz}_m-{m}.000-L_b-{b}00.npy'), allow_pickle=True)\n",
    "    r_avg = xi_ls[0]\n",
    "    xi_lss[rlz] = xi_ls[1]"
   ]
  },
  {
   "cell_type": "code",
   "execution_count": 42,
   "id": "05e72955",
   "metadata": {},
   "outputs": [],
   "source": [
    "# 4-parameter fit bases\n",
    "ncont = 1000\n",
    "r_fine = np.linspace(rmin, rmax, ncont+1)\n",
    "\n",
    "xi_fits = np.empty((nmocks, ncont+1))\n",
    "alpha_fits = np.ones(nmocks)\n",
    "for rlz in range(nmocks):\n",
    "    results = np.load(os.path.join(data_dir, f'bases/4-parameter_fit/identity/results_gradient_{cat_tag}/basis_gradient_{cat_tag}_rlz{rlz}_m-1.000-L_b-0.500.npy'), allow_pickle=True).item()\n",
    "    B_sq = results['B_sq']\n",
    "    a1 = results['a1']\n",
    "    a2 = results['a2']\n",
    "    a3 = results['a3']\n",
    "    alpha = results['best_alpha']\n",
    "    \n",
    "    xi_mod_fine = cf_model(alpha*r_fine, cosmo_base=None, redshift=0.57, bias=2.0)\n",
    "\n",
    "    xi_fit = xi_bestfit(r_fine, xi_mod_fine, B_sq, a1, a2, a3)\n",
    "    \n",
    "    xi_fits[rlz] = xi_fit\n",
    "    alpha_fits[rlz] = alpha"
   ]
  },
  {
   "cell_type": "code",
   "execution_count": 43,
   "id": "136decd9",
   "metadata": {},
   "outputs": [],
   "source": [
    "# bao iterative bases\n",
    "ncont = 2000\n",
    "\n",
    "xi_baoits = np.empty((nmocks, ncont))\n",
    "alphas_baoits = np.ones(nmocks)\n",
    "for rlz in range(nmocks):\n",
    "    bao_results = np.load(os.path.join(data_dir, f'bases/bao_iterative/results/results_gradient_{cat_tag}/converged/cf_baoiter_cosmoplanck15_test_trrnum_3x_{cat_tag}_m-{m}.000-L_b-{b}00_rlz{rlz}.npy'), allow_pickle=True)\n",
    "    rcont, bao_basis, _, _, extra_dict = bao_results\n",
    "    alpha = extra_dict['alpha_model']\n",
    "    \n",
    "    xi_baoits[rlz] = bao_basis\n",
    "    alphas_baoits[rlz] = alpha"
   ]
  },
  {
   "cell_type": "code",
   "execution_count": 44,
   "id": "b06f71d9",
   "metadata": {},
   "outputs": [
    {
     "name": "stdout",
     "output_type": "stream",
     "text": [
      "(22,)\n",
      "(1001,)\n",
      "(2000,)\n"
     ]
    }
   ],
   "source": [
    "# averages\n",
    "ls_avg = np.mean(xi_lss, axis=0)\n",
    "print(ls_avg.shape)\n",
    "fit_avg = np.mean(xi_fits, axis=0)\n",
    "print(fit_avg.shape)\n",
    "baoits_avg = np.mean(xi_baoits, axis=0)\n",
    "print(baoits_avg.shape)"
   ]
  },
  {
   "cell_type": "code",
   "execution_count": 45,
   "id": "85f72855",
   "metadata": {},
   "outputs": [
    {
     "data": {
      "text/plain": [
       "<matplotlib.legend.Legend at 0x15126ba02b80>"
      ]
     },
     "execution_count": 45,
     "metadata": {},
     "output_type": "execute_result"
    },
    {
     "data": {
      "image/png": "[encoded data removed]",
      "text/plain": [
       "<Figure size 864x648 with 1 Axes>"
      ]
     },
     "metadata": {
      "needs_background": "light"
     },
     "output_type": "display_data"
    }
   ],
   "source": [
    "# plot\n",
    "fig, ax = plt.subplots(figsize=(12,9))\n",
    "\n",
    "plt.plot(r_avg, ls_avg, marker='o', ls='None', alpha=0.8, label=f'L-S Results')\n",
    "\n",
    "plt.plot(r_fine, fit_avg, lw=1.5, alpha=0.8, label=f'standard 4-param')\n",
    "\n",
    "plt.plot(rcont, baoits_avg, lw=1.5, alpha=0.8, label='bao iterative'.format(bao_alpha))\n",
    "\n",
    "ax.set_xlim(20, 140)\n",
    "ax.set_ylim(-.005, 0.04)\n",
    "plt.axhline(0, color=\"k\", alpha=0.5, lw=1)\n",
    "ax.set_xlabel(r'separation $r$ ($h^{-1}\\,$Mpc)')\n",
    "ax.set_ylabel(r'correlation function $\\xi$(r)')\n",
    "ax.set_title(f'Average gradient bases, {cat_tag} 401 rlzs, m={m}, b={b}')\n",
    "plt.legend()"
   ]
  },
  {
   "cell_type": "markdown",
   "id": "3f94cfc8",
   "metadata": {},
   "source": [
    "## lognormal bases results"
   ]
  },
  {
   "cell_type": "markdown",
   "id": "74db1456",
   "metadata": {},
   "source": [
    "### average over all mocks"
   ]
  },
  {
   "cell_type": "code",
   "execution_count": 46,
   "id": "6445bdae",
   "metadata": {},
   "outputs": [],
   "source": [
    "nmocks = 401\n",
    "nbins = 22"
   ]
  },
  {
   "cell_type": "code",
   "execution_count": 47,
   "id": "13ee4056",
   "metadata": {},
   "outputs": [],
   "source": [
    "# Landy-Szalay\n",
    "xi_lss = np.empty((nmocks, nbins))\n",
    "for rlz in range(nmocks):\n",
    "    xi_ls = np.load(os.path.join(data_dir, f'lognormal/xi/ls/{cat_tag}/xi_ls_3x_{cat_tag}_rlz{rlz}_lognormal.npy'), allow_pickle=True)\n",
    "    r_avg = xi_ls[0]\n",
    "    xi_lss[rlz] = xi_ls[1]"
   ]
  },
  {
   "cell_type": "code",
   "execution_count": 48,
   "id": "ba5eb40b",
   "metadata": {},
   "outputs": [],
   "source": [
    "# 4-parameter fit bases\n",
    "ncont = 1000\n",
    "r_fine = np.linspace(rmin, rmax, ncont+1)\n",
    "\n",
    "xi_fits = np.empty((nmocks, ncont+1))\n",
    "alpha_fits = np.ones(nmocks)\n",
    "for rlz in range(nmocks):\n",
    "    results = np.load(os.path.join(data_dir, f'bases/4-parameter_fit/identity/results_lognormal_{cat_tag}/basis_lognormal_{cat_tag}_rlz{rlz}_lognormal.npy'), allow_pickle=True).item()\n",
    "    B_sq = results['B_sq']\n",
    "    a1 = results['a1']\n",
    "    a2 = results['a2']\n",
    "    a3 = results['a3']\n",
    "    alpha = results['best_alpha']\n",
    "    \n",
    "    xi_mod_fine = cf_model(alpha*r_fine, cosmo_base=None, redshift=0.57, bias=2.0)\n",
    "\n",
    "    xi_fit = xi_bestfit(r_fine, xi_mod_fine, B_sq, a1, a2, a3)\n",
    "    \n",
    "    xi_fits[rlz] = xi_fit\n",
    "    alpha_fits[rlz] = alpha"
   ]
  },
  {
   "cell_type": "code",
   "execution_count": 49,
   "id": "88b1743e",
   "metadata": {},
   "outputs": [
    {
     "ename": "FileNotFoundError",
     "evalue": "[Errno 2] No such file or directory: '/scratch/aew492/research-summer2020_output/bases/bao_iterative/results/results_lognormal_L750_n1e-4_z057_patchy_As2x/converged/cf_baoiter_cosmoplanck15_test_trrnum_3x_L750_n1e-4_z057_patchy_As2x_rlz0.npy'",
     "output_type": "error",
     "traceback": [
      "\u001b[0;31m---------------------------------------------------------------------------\u001b[0m",
      "\u001b[0;31mFileNotFoundError\u001b[0m                         Traceback (most recent call last)",
      "\u001b[0;32m<ipython-input-49-d4a137241c85>\u001b[0m in \u001b[0;36m<module>\u001b[0;34m\u001b[0m\n\u001b[1;32m      5\u001b[0m \u001b[0malphas_baoits\u001b[0m \u001b[0;34m=\u001b[0m \u001b[0mnp\u001b[0m\u001b[0;34m.\u001b[0m\u001b[0mones\u001b[0m\u001b[0;34m(\u001b[0m\u001b[0mnmocks\u001b[0m\u001b[0;34m)\u001b[0m\u001b[0;34m\u001b[0m\u001b[0;34m\u001b[0m\u001b[0m\n\u001b[1;32m      6\u001b[0m \u001b[0;32mfor\u001b[0m \u001b[0mrlz\u001b[0m \u001b[0;32min\u001b[0m \u001b[0mrange\u001b[0m\u001b[0;34m(\u001b[0m\u001b[0mnmocks\u001b[0m\u001b[0;34m)\u001b[0m\u001b[0;34m:\u001b[0m\u001b[0;34m\u001b[0m\u001b[0;34m\u001b[0m\u001b[0m\n\u001b[0;32m----> 7\u001b[0;31m     \u001b[0mbao_results\u001b[0m \u001b[0;34m=\u001b[0m \u001b[0mnp\u001b[0m\u001b[0;34m.\u001b[0m\u001b[0mload\u001b[0m\u001b[0;34m(\u001b[0m\u001b[0mos\u001b[0m\u001b[0;34m.\u001b[0m\u001b[0mpath\u001b[0m\u001b[0;34m.\u001b[0m\u001b[0mjoin\u001b[0m\u001b[0;34m(\u001b[0m\u001b[0mdata_dir\u001b[0m\u001b[0;34m,\u001b[0m \u001b[0;34mf'bases/bao_iterative/results/results_lognormal_{cat_tag}/converged/cf_baoiter_cosmoplanck15_test_trrnum_3x_{cat_tag}_rlz{rlz}.npy'\u001b[0m\u001b[0;34m)\u001b[0m\u001b[0;34m,\u001b[0m \u001b[0mallow_pickle\u001b[0m\u001b[0;34m=\u001b[0m\u001b[0;32mTrue\u001b[0m\u001b[0;34m)\u001b[0m\u001b[0;34m\u001b[0m\u001b[0;34m\u001b[0m\u001b[0m\n\u001b[0m\u001b[1;32m      8\u001b[0m     \u001b[0mrcont\u001b[0m\u001b[0;34m,\u001b[0m \u001b[0mbao_basis\u001b[0m\u001b[0;34m,\u001b[0m \u001b[0m_\u001b[0m\u001b[0;34m,\u001b[0m \u001b[0m_\u001b[0m\u001b[0;34m,\u001b[0m \u001b[0mextra_dict\u001b[0m \u001b[0;34m=\u001b[0m \u001b[0mbao_results\u001b[0m\u001b[0;34m\u001b[0m\u001b[0;34m\u001b[0m\u001b[0m\n\u001b[1;32m      9\u001b[0m     \u001b[0malpha\u001b[0m \u001b[0;34m=\u001b[0m \u001b[0mextra_dict\u001b[0m\u001b[0;34m[\u001b[0m\u001b[0;34m'alpha_model'\u001b[0m\u001b[0;34m]\u001b[0m\u001b[0;34m\u001b[0m\u001b[0;34m\u001b[0m\u001b[0m\n",
      "\u001b[0;32m/ext3/miniconda3/envs/suaveenv/lib/python3.9/site-packages/numpy/lib/npyio.py\u001b[0m in \u001b[0;36mload\u001b[0;34m(file, mmap_mode, allow_pickle, fix_imports, encoding)\u001b[0m\n\u001b[1;32m    415\u001b[0m             \u001b[0mown_fid\u001b[0m \u001b[0;34m=\u001b[0m \u001b[0;32mFalse\u001b[0m\u001b[0;34m\u001b[0m\u001b[0;34m\u001b[0m\u001b[0m\n\u001b[1;32m    416\u001b[0m         \u001b[0;32melse\u001b[0m\u001b[0;34m:\u001b[0m\u001b[0;34m\u001b[0m\u001b[0;34m\u001b[0m\u001b[0m\n\u001b[0;32m--> 417\u001b[0;31m             \u001b[0mfid\u001b[0m \u001b[0;34m=\u001b[0m \u001b[0mstack\u001b[0m\u001b[0;34m.\u001b[0m\u001b[0menter_context\u001b[0m\u001b[0;34m(\u001b[0m\u001b[0mopen\u001b[0m\u001b[0;34m(\u001b[0m\u001b[0mos_fspath\u001b[0m\u001b[0;34m(\u001b[0m\u001b[0mfile\u001b[0m\u001b[0;34m)\u001b[0m\u001b[0;34m,\u001b[0m \u001b[0;34m\"rb\"\u001b[0m\u001b[0;34m)\u001b[0m\u001b[0;34m)\u001b[0m\u001b[0;34m\u001b[0m\u001b[0;34m\u001b[0m\u001b[0m\n\u001b[0m\u001b[1;32m    418\u001b[0m             \u001b[0mown_fid\u001b[0m \u001b[0;34m=\u001b[0m \u001b[0;32mTrue\u001b[0m\u001b[0;34m\u001b[0m\u001b[0;34m\u001b[0m\u001b[0m\n\u001b[1;32m    419\u001b[0m \u001b[0;34m\u001b[0m\u001b[0m\n",
      "\u001b[0;31mFileNotFoundError\u001b[0m: [Errno 2] No such file or directory: '/scratch/aew492/research-summer2020_output/bases/bao_iterative/results/results_lognormal_L750_n1e-4_z057_patchy_As2x/converged/cf_baoiter_cosmoplanck15_test_trrnum_3x_L750_n1e-4_z057_patchy_As2x_rlz0.npy'"
     ]
    }
   ],
   "source": [
    "# bao iterative bases\n",
    "ncont = 2000\n",
    "\n",
    "xi_baoits = np.empty((nmocks, ncont))\n",
    "alphas_baoits = np.ones(nmocks)\n",
    "for rlz in range(nmocks):\n",
    "    bao_results = np.load(os.path.join(data_dir, f'bases/bao_iterative/results/results_lognormal_{cat_tag}/converged/cf_baoiter_cosmoplanck15_test_trrnum_3x_{cat_tag}_rlz{rlz}.npy'), allow_pickle=True)\n",
    "    rcont, bao_basis, _, _, extra_dict = bao_results\n",
    "    alpha = extra_dict['alpha_model']\n",
    "    \n",
    "    xi_baoits[rlz] = bao_basis\n",
    "    alphas_baoits[rlz] = alpha"
   ]
  },
  {
   "cell_type": "code",
   "execution_count": null,
   "id": "8b98f8b0",
   "metadata": {},
   "outputs": [],
   "source": [
    "# averages\n",
    "ls_avg = np.mean(xi_lss, axis=0)\n",
    "print(ls_avg.shape)\n",
    "fit_avg = np.mean(xi_fits, axis=0)\n",
    "print(fit_avg.shape)\n",
    "baoits_avg = np.mean(xi_baoits, axis=0)\n",
    "print(baoits_avg.shape)"
   ]
  },
  {
   "cell_type": "code",
   "execution_count": null,
   "id": "247c6992",
   "metadata": {},
   "outputs": [],
   "source": [
    "# plot\n",
    "fig, ax = plt.subplots(figsize=(12,9))\n",
    "\n",
    "plt.plot(r_avg, ls_avg, marker='o', ls='None', alpha=0.8, label=f'L-S Results')\n",
    "\n",
    "plt.plot(r_fine, fit_avg, lw=1.5, alpha=0.8, label=f'standard 4-param')\n",
    "\n",
    "plt.plot(rcont, baoits_avg, lw=1.5, alpha=0.8, label='bao iterative')\n",
    "\n",
    "ax.set_xlim(20, 140)\n",
    "ax.set_ylim(-.005, 0.04)\n",
    "plt.axhline(0, color=\"k\", alpha=0.5, lw=1)\n",
    "ax.set_xlabel(r'separation $r$ ($h^{-1}\\,$Mpc)')\n",
    "ax.set_ylabel(r'correlation function $\\xi$(r)')\n",
    "ax.set_title(f'Average lognormal bases, {cat_tag} 401 rlzs')\n",
    "plt.legend()"
   ]
  },
  {
   "cell_type": "markdown",
   "id": "a677ea90",
   "metadata": {},
   "source": [
    "### patchify results"
   ]
  },
  {
   "cell_type": "code",
   "execution_count": 50,
   "id": "18aebc1a",
   "metadata": {},
   "outputs": [],
   "source": [
    "n_patches = 8\n",
    "patch_results = np.load(os.path.join(data_dir, f'gradient/1D/patch_data/{cat_tag}/{n_patches}patches/{cat_tag}_rlz{rlz}_m-{m}.000-L_b-{b}00.npy'), allow_pickle=True).item()"
   ]
  },
  {
   "cell_type": "code",
   "execution_count": 51,
   "id": "b162b541",
   "metadata": {},
   "outputs": [
    {
     "data": {
      "text/plain": [
       "dict_keys(['n_patches', 'patch_centers', 'r_avg', 'xi_patches', 'xi_patch_avg', 'xi_full', 'theta', 'b_fit', 'm_fit', 'grad_recovered'])"
      ]
     },
     "execution_count": 51,
     "metadata": {},
     "output_type": "execute_result"
    }
   ],
   "source": [
    "patch_results.keys()"
   ]
  },
  {
   "cell_type": "code",
   "execution_count": 52,
   "id": "7c35a4eb",
   "metadata": {},
   "outputs": [
    {
     "data": {
      "text/plain": [
       "(3, 1)"
      ]
     },
     "execution_count": 52,
     "metadata": {},
     "output_type": "execute_result"
    }
   ],
   "source": [
    "patch_results['grad_recovered'].shape"
   ]
  },
  {
   "cell_type": "code",
   "execution_count": 53,
   "id": "ce058648",
   "metadata": {},
   "outputs": [
    {
     "data": {
      "text/plain": [
       "dict_keys(['grad_recovered', 'mean_sq_err', 'r_avg', 'amps', 'r_fine', 'xi_locs', 'proj_type', 'projfn', 'weight_type'])"
      ]
     },
     "execution_count": 53,
     "metadata": {},
     "output_type": "execute_result"
    }
   ],
   "source": [
    "cfe_results = np.load(os.path.join(data_dir, f'gradient/1D/suave_data/{cat_tag}/bao_iterative/{cat_tag}_rlz{rlz}_m-{m}.000-L_b-{b}00.npy'), allow_pickle=True).item()\n",
    "cfe_results.keys()"
   ]
  },
  {
   "cell_type": "code",
   "execution_count": 54,
   "id": "b306a710",
   "metadata": {},
   "outputs": [
    {
     "data": {
      "text/plain": [
       "array([2.73352098e-03, 2.64402674e-04, 5.57142103e-05])"
      ]
     },
     "execution_count": 54,
     "metadata": {},
     "output_type": "execute_result"
    }
   ],
   "source": [
    "cfe_results['grad_recovered']"
   ]
  },
  {
   "cell_type": "code",
   "execution_count": 55,
   "id": "22996ab9",
   "metadata": {},
   "outputs": [],
   "source": [
    "n_patches = 8\n",
    "rlzs = range(401)\n",
    "grads_rec = np.empty((len(rlzs), 3))\n",
    "for rlz in rlzs:\n",
    "    patch_results = np.load(os.path.join(data_dir, f'gradient/1D/patch_data/{cat_tag}/{n_patches}patches/{cat_tag}_rlz{rlz}_m-{m}.000-L_b-{b}00.npy'), allow_pickle=True).item()\n",
    "    grads_rec[rlz] = patch_results['grad_recovered'].flatten()"
   ]
  },
  {
   "cell_type": "code",
   "execution_count": 56,
   "id": "f0ce4acf",
   "metadata": {},
   "outputs": [
    {
     "name": "stdout",
     "output_type": "stream",
     "text": [
      "0.0026666666666666666\n"
     ]
    },
    {
     "data": {
      "text/plain": [
       "(401,)"
      ]
     },
     "execution_count": 56,
     "metadata": {},
     "output_type": "execute_result"
    }
   ],
   "source": [
    "grad_exp_x = m/(b*750)\n",
    "print(grad_exp_x)\n",
    "grads_rec_x = grads_rec[:,0]\n",
    "grads_rec_x.shape"
   ]
  },
  {
   "cell_type": "code",
   "execution_count": 57,
   "id": "af946b3d",
   "metadata": {},
   "outputs": [
    {
     "data": {
      "text/plain": [
       "<matplotlib.legend.Legend at 0x15126b75fb80>"
      ]
     },
     "execution_count": 57,
     "metadata": {},
     "output_type": "execute_result"
    },
    {
     "data": {
      "image/png": "[encoded data removed]",
      "text/plain": [
       "<Figure size 432x288 with 1 Axes>"
      ]
     },
     "metadata": {
      "needs_background": "light"
     },
     "output_type": "display_data"
    }
   ],
   "source": [
    "nbins = 20\n",
    "alpha_x = 0.7\n",
    "alpha_yz = 0.4\n",
    "_, bins, _ = plt.hist(grads_rec_x - grad_exp_x, bins=nbins, alpha=alpha_x, label='recovered grad, x')\n",
    "plt.hist(grads_rec[:,1], bins=bins, alpha=alpha_yz, label='recovered grad, y')\n",
    "plt.hist(grads_rec[:,2], bins=bins, alpha=alpha_yz, label='recovered grad, z')\n",
    "plt.xlabel('recovered gradient (Mpc h^-1)')\n",
    "plt.ylabel('# rlzs')\n",
    "plt.title(f'Distribution of alphas, 401 realizations: {cat_tag}, m={m}, b={b}')\n",
    "plt.legend()"
   ]
  },
  {
   "cell_type": "markdown",
   "id": "76ed16ac",
   "metadata": {},
   "source": [
    "## distribution of alphas"
   ]
  },
  {
   "cell_type": "code",
   "execution_count": 58,
   "id": "9b291092",
   "metadata": {},
   "outputs": [],
   "source": [
    "# load in alpha values\n",
    "rlzs = range(401)\n",
    "standard_alphas = np.ones(len(rlzs))\n",
    "bao_alphas = np.ones(len(rlzs))\n",
    "for rlz in rlzs:\n",
    "    standard_results = np.load(os.path.join(data_dir, f'bases/4-parameter_fit/identity/results_gradient_{cat_tag}/basis_gradient_{cat_tag}_rlz{rlz}_m-1.000-L_b-0.500.npy'), allow_pickle=True).item()\n",
    "    standard_alpha = standard_results['best_alpha']\n",
    "    standard_alphas[rlz] = standard_alpha\n",
    "    \n",
    "    bao_results = np.load(os.path.join(data_dir, f'bases/bao_iterative/results/results_gradient_{cat_tag}/converged/cf_baoiter_cosmoplanck15_test_trrnum_3x_{cat_tag}_m-{m}.000-L_b-{b}00_rlz{rlz}.npy'), allow_pickle=True)\n",
    "    _, _, _, _, extra_dict = bao_results\n",
    "    bao_alpha = extra_dict['alpha_model']\n",
    "    bao_alphas[rlz] = bao_alpha"
   ]
  },
  {
   "cell_type": "code",
   "execution_count": 59,
   "id": "1182623c",
   "metadata": {},
   "outputs": [
    {
     "data": {
      "text/plain": [
       "<matplotlib.legend.Legend at 0x15126b9392e0>"
      ]
     },
     "execution_count": 59,
     "metadata": {},
     "output_type": "execute_result"
    },
    {
     "data": {
      "image/png": "[encoded data removed]",
      "text/plain": [
       "<Figure size 432x288 with 1 Axes>"
      ]
     },
     "metadata": {
      "needs_background": "light"
     },
     "output_type": "display_data"
    }
   ],
   "source": [
    "nbins = 20\n",
    "alpha = .6\n",
    "_, bins, _ = plt.hist(bao_alphas, bins=nbins, alpha=alpha, label='bao_iterative')\n",
    "plt.hist(standard_alphas, bins=bins, alpha=alpha, label='4-param fit')\n",
    "plt.xlabel('alpha')\n",
    "plt.ylabel('# rlzs')\n",
    "plt.title(f'Distribution of alphas, 401 realizations: {cat_tag}, m={m}, b={b}')\n",
    "plt.legend()"
   ]
  },
  {
   "cell_type": "markdown",
   "id": "f5761f02",
   "metadata": {},
   "source": [
    "### distribution of chi-squareds"
   ]
  },
  {
   "cell_type": "code",
   "execution_count": 60,
   "id": "04a662cf",
   "metadata": {},
   "outputs": [],
   "source": [
    "# load in chi_squared values\n",
    "rlzs = range(401)\n",
    "standard_chi_squareds = np.ones(len(rlzs))\n",
    "bao_alphas = np.ones(len(rlzs))\n",
    "for rlz in rlzs:\n",
    "    standard_results = np.load(os.path.join(data_dir, f'bases/4-parameter_fit/identity/results_gradient_{cat_tag}/basis_gradient_{cat_tag}_rlz{rlz}_m-1.000-L_b-0.500.npy'), allow_pickle=True).item()\n",
    "    standard_chi_squared = standard_results['chi_squared']\n",
    "    standard_chi_squareds[rlz] = standard_chi_squared"
   ]
  },
  {
   "cell_type": "code",
   "execution_count": 61,
   "id": "6071c025",
   "metadata": {},
   "outputs": [
    {
     "data": {
      "text/plain": [
       "<matplotlib.legend.Legend at 0x15126b5d6fd0>"
      ]
     },
     "execution_count": 61,
     "metadata": {},
     "output_type": "execute_result"
    },
    {
     "data": {
      "image/png": "[encoded data removed]",
      "text/plain": [
       "<Figure size 432x288 with 1 Axes>"
      ]
     },
     "metadata": {
      "needs_background": "light"
     },
     "output_type": "display_data"
    }
   ],
   "source": [
    "bins = 20\n",
    "alpha = .7\n",
    "plt.hist(standard_chi_squareds, bins=bins, alpha=alpha, label='4-param fit')\n",
    "plt.xlabel(r'$\\chi^2$')\n",
    "plt.ylabel('# rlzs')\n",
    "plt.title(f'Distribution of chi_squareds, 401 realizations: {cat_tag}')\n",
    "plt.legend()"
   ]
  },
  {
   "cell_type": "code",
   "execution_count": null,
   "id": "9cd865bf",
   "metadata": {},
   "outputs": [],
   "source": []
  }
 ],
 "metadata": {
  "kernelspec": {
   "display_name": "Python 3",
   "language": "python",
   "name": "python3"
  },
  "language_info": {
   "codemirror_mode": {
    "name": "ipython",
    "version": 3
   },
   "file_extension": ".py",
   "mimetype": "text/x-python",
   "name": "python",
   "nbconvert_exporter": "python",
   "pygments_lexer": "ipython3",
   "version": "3.9.2"
  }
 },
 "nbformat": 4,
 "nbformat_minor": 5
}
