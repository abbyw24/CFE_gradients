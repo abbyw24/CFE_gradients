{
 "cells": [
  {
   "cell_type": "code",
   "execution_count": 25,
   "metadata": {},
   "outputs": [
    {
     "name": "stdout",
     "output_type": "stream",
     "text": [
      "The autoreload extension is already loaded. To reload it, use:\n",
      "  %reload_ext autoreload\n"
     ]
    }
   ],
   "source": [
    "%load_ext autoreload\n",
    "%autoreload 2"
   ]
  },
  {
   "cell_type": "code",
   "execution_count": 26,
   "metadata": {},
   "outputs": [],
   "source": [
    "import numpy as np\n",
    "import matplotlib.pyplot as plt\n",
    "import sys\n",
    "import os\n",
    "from matplotlib.patches import Ellipse"
   ]
  },
  {
   "cell_type": "code",
   "execution_count": 3,
   "metadata": {},
   "outputs": [],
   "source": [
    "sys.path.insert(0, '/home/aew492/CFE_gradients/code')\n",
    "import load_tools\n",
    "import globals\n",
    "globals.initialize_vals()\n",
    "data_dir = globals.data_dir"
   ]
  },
  {
   "cell_type": "code",
   "execution_count": 17,
   "metadata": {},
   "outputs": [],
   "source": [
    "def grad_input(grad_dim, cat_tag, rlz=0, m=1, b=0.5):\n",
    "    mock_dict = np.load(os.path.join(data_dir, f'catalogs/gradient/{grad_dim}D/{cat_tag}/{cat_tag}_rlz{rlz}_m-{m:.3f}-L_b-{b:.3f}.npy'), allow_pickle=True).item()\n",
    "    return mock_dict['grad_expected']"
   ]
  },
  {
   "cell_type": "markdown",
   "metadata": {},
   "source": [
    "# 1D"
   ]
  },
  {
   "cell_type": "code",
   "execution_count": 5,
   "metadata": {},
   "outputs": [],
   "source": [
    "# mock parameters\n",
    "Ls = [750, 1000, 1500]\n",
    "ms = [1]\n",
    "n = '1e-4'\n",
    "b = 0.5\n",
    "cat_tags = [f'L{L}_n{n}_z057_patchy_As2x' for L in Ls]"
   ]
  },
  {
   "cell_type": "code",
   "execution_count": 6,
   "metadata": {},
   "outputs": [
    {
     "ename": "FileNotFoundError",
     "evalue": "[Errno 2] No such file or directory: '/scratch/aew492/CFE_gradients_output/gradient/1D/suave/grad_amps/bao_fixed/L750_n1e-4_z057_patchy_As2x/L750_n1e-4_z057_patchy_As2x_rlz0_m-1.000-L_b-0.500.npy'",
     "output_type": "error",
     "traceback": [
      "\u001b[0;31m---------------------------------------------------------------------------\u001b[0m",
      "\u001b[0;31mFileNotFoundError\u001b[0m                         Traceback (most recent call last)",
      "\u001b[0;32m<ipython-input-6-6b5149248393>\u001b[0m in \u001b[0;36m<module>\u001b[0;34m\u001b[0m\n\u001b[1;32m      3\u001b[0m \u001b[0;32mfor\u001b[0m \u001b[0mi\u001b[0m\u001b[0;34m,\u001b[0m \u001b[0mm\u001b[0m \u001b[0;32min\u001b[0m \u001b[0menumerate\u001b[0m\u001b[0;34m(\u001b[0m\u001b[0mms\u001b[0m\u001b[0;34m)\u001b[0m\u001b[0;34m:\u001b[0m\u001b[0;34m\u001b[0m\u001b[0;34m\u001b[0m\u001b[0m\n\u001b[1;32m      4\u001b[0m     \u001b[0;32mfor\u001b[0m \u001b[0mj\u001b[0m\u001b[0;34m,\u001b[0m \u001b[0mL\u001b[0m \u001b[0;32min\u001b[0m \u001b[0menumerate\u001b[0m\u001b[0;34m(\u001b[0m\u001b[0mLs\u001b[0m\u001b[0;34m)\u001b[0m\u001b[0;34m:\u001b[0m\u001b[0;34m\u001b[0m\u001b[0;34m\u001b[0m\u001b[0m\n\u001b[0;32m----> 5\u001b[0;31m         \u001b[0mamps_1D\u001b[0m\u001b[0;34m[\u001b[0m\u001b[0mi\u001b[0m\u001b[0;34m,\u001b[0m\u001b[0mj\u001b[0m\u001b[0;34m]\u001b[0m \u001b[0;34m=\u001b[0m \u001b[0mload_tools\u001b[0m\u001b[0;34m.\u001b[0m\u001b[0mload_suave_amps\u001b[0m\u001b[0;34m(\u001b[0m\u001b[0mcat_tags\u001b[0m\u001b[0;34m[\u001b[0m\u001b[0mj\u001b[0m\u001b[0;34m]\u001b[0m\u001b[0;34m,\u001b[0m \u001b[0mm\u001b[0m\u001b[0;34m=\u001b[0m\u001b[0mm\u001b[0m\u001b[0;34m,\u001b[0m \u001b[0mgrad_dim\u001b[0m\u001b[0;34m=\u001b[0m\u001b[0;36m1\u001b[0m\u001b[0;34m,\u001b[0m \u001b[0mbasis\u001b[0m\u001b[0;34m=\u001b[0m\u001b[0;34m'bao_fixed'\u001b[0m\u001b[0;34m)\u001b[0m\u001b[0;34m\u001b[0m\u001b[0;34m\u001b[0m\u001b[0m\n\u001b[0m",
      "\u001b[0;32m~/CFE_gradients/code/load_tools.py\u001b[0m in \u001b[0;36mload_suave_amps\u001b[0;34m(cat_tag, grad_dim, m, b, nmocks, basis, data_dir)\u001b[0m\n\u001b[1;32m     10\u001b[0m     \u001b[0mamps\u001b[0m \u001b[0;34m=\u001b[0m \u001b[0mnp\u001b[0m\u001b[0;34m.\u001b[0m\u001b[0mempty\u001b[0m\u001b[0;34m(\u001b[0m\u001b[0;34m(\u001b[0m\u001b[0mnmocks\u001b[0m\u001b[0;34m,\u001b[0m\u001b[0;36m4\u001b[0m\u001b[0;34m)\u001b[0m\u001b[0;34m)\u001b[0m\u001b[0;34m\u001b[0m\u001b[0;34m\u001b[0m\u001b[0m\n\u001b[1;32m     11\u001b[0m     \u001b[0;32mfor\u001b[0m \u001b[0mrlz\u001b[0m \u001b[0;32min\u001b[0m \u001b[0mrange\u001b[0m\u001b[0;34m(\u001b[0m\u001b[0mnmocks\u001b[0m\u001b[0;34m)\u001b[0m\u001b[0;34m:\u001b[0m\u001b[0;34m\u001b[0m\u001b[0;34m\u001b[0m\u001b[0m\n\u001b[0;32m---> 12\u001b[0;31m         \u001b[0msuave_dict\u001b[0m \u001b[0;34m=\u001b[0m \u001b[0mnp\u001b[0m\u001b[0;34m.\u001b[0m\u001b[0mload\u001b[0m\u001b[0;34m(\u001b[0m\u001b[0mos\u001b[0m\u001b[0;34m.\u001b[0m\u001b[0mpath\u001b[0m\u001b[0;34m.\u001b[0m\u001b[0mjoin\u001b[0m\u001b[0;34m(\u001b[0m\u001b[0mdata_dir\u001b[0m\u001b[0;34m,\u001b[0m \u001b[0;34mf'gradient/{grad_dim}D/suave/grad_amps/{basis}/{cat_tag}/{cat_tag}_rlz{rlz}_m-{m:.3f}-L_b-{b:.3f}.npy'\u001b[0m\u001b[0;34m)\u001b[0m\u001b[0;34m,\u001b[0m \u001b[0mallow_pickle\u001b[0m\u001b[0;34m=\u001b[0m\u001b[0;32mTrue\u001b[0m\u001b[0;34m)\u001b[0m\u001b[0;34m.\u001b[0m\u001b[0mitem\u001b[0m\u001b[0;34m(\u001b[0m\u001b[0;34m)\u001b[0m\u001b[0;34m\u001b[0m\u001b[0;34m\u001b[0m\u001b[0m\n\u001b[0m\u001b[1;32m     13\u001b[0m         \u001b[0mamps\u001b[0m\u001b[0;34m[\u001b[0m\u001b[0mrlz\u001b[0m\u001b[0;34m]\u001b[0m \u001b[0;34m=\u001b[0m \u001b[0msuave_dict\u001b[0m\u001b[0;34m[\u001b[0m\u001b[0;34m'amps'\u001b[0m\u001b[0;34m]\u001b[0m\u001b[0;34m\u001b[0m\u001b[0;34m\u001b[0m\u001b[0m\n\u001b[1;32m     14\u001b[0m     \u001b[0;32mreturn\u001b[0m \u001b[0mamps\u001b[0m\u001b[0;34m\u001b[0m\u001b[0;34m\u001b[0m\u001b[0m\n",
      "\u001b[0;32m/share/apps/python/3.8.6/intel/lib/python3.8/site-packages/numpy-1.19.2-py3.8-linux-x86_64.egg/numpy/lib/npyio.py\u001b[0m in \u001b[0;36mload\u001b[0;34m(file, mmap_mode, allow_pickle, fix_imports, encoding)\u001b[0m\n\u001b[1;32m    414\u001b[0m             \u001b[0mown_fid\u001b[0m \u001b[0;34m=\u001b[0m \u001b[0;32mFalse\u001b[0m\u001b[0;34m\u001b[0m\u001b[0;34m\u001b[0m\u001b[0m\n\u001b[1;32m    415\u001b[0m         \u001b[0;32melse\u001b[0m\u001b[0;34m:\u001b[0m\u001b[0;34m\u001b[0m\u001b[0;34m\u001b[0m\u001b[0m\n\u001b[0;32m--> 416\u001b[0;31m             \u001b[0mfid\u001b[0m \u001b[0;34m=\u001b[0m \u001b[0mstack\u001b[0m\u001b[0;34m.\u001b[0m\u001b[0menter_context\u001b[0m\u001b[0;34m(\u001b[0m\u001b[0mopen\u001b[0m\u001b[0;34m(\u001b[0m\u001b[0mos_fspath\u001b[0m\u001b[0;34m(\u001b[0m\u001b[0mfile\u001b[0m\u001b[0;34m)\u001b[0m\u001b[0;34m,\u001b[0m \u001b[0;34m\"rb\"\u001b[0m\u001b[0;34m)\u001b[0m\u001b[0;34m)\u001b[0m\u001b[0;34m\u001b[0m\u001b[0;34m\u001b[0m\u001b[0m\n\u001b[0m\u001b[1;32m    417\u001b[0m             \u001b[0mown_fid\u001b[0m \u001b[0;34m=\u001b[0m \u001b[0;32mTrue\u001b[0m\u001b[0;34m\u001b[0m\u001b[0;34m\u001b[0m\u001b[0m\n\u001b[1;32m    418\u001b[0m \u001b[0;34m\u001b[0m\u001b[0m\n",
      "\u001b[0;31mFileNotFoundError\u001b[0m: [Errno 2] No such file or directory: '/scratch/aew492/CFE_gradients_output/gradient/1D/suave/grad_amps/bao_fixed/L750_n1e-4_z057_patchy_As2x/L750_n1e-4_z057_patchy_As2x_rlz0_m-1.000-L_b-0.500.npy'"
     ]
    }
   ],
   "source": [
    "# load in recovered amplitudes\n",
    "amps_1D = np.empty((len(ms), len(Ls), 401, 4))  # array to hold amplitudes for different strengths and boxsizes\n",
    "for i, m in enumerate(ms):\n",
    "    for j, L in enumerate(Ls):\n",
    "        amps_1D[i,j] = load_tools.load_suave_amps(cat_tags[j], m=m, grad_dim=1, basis='bao_fixed')"
   ]
  },
  {
   "cell_type": "code",
   "execution_count": null,
   "metadata": {},
   "outputs": [],
   "source": [
    "# divide spatial components by dimensionless a_0 to get our recovered gradient vector\n",
    "grads_rec_1D = (amps_1D[:,:,:,1:].T/amps_1D[:,:,:,0].T).T\n",
    "grads_rec_1D.shape"
   ]
  },
  {
   "cell_type": "code",
   "execution_count": null,
   "metadata": {},
   "outputs": [],
   "source": [
    "# median recovered gradient, to center ellipse\n",
    "grad_rec_1D_medians = np.median(grads_rec_1D, axis=2)\n",
    "grad_rec_1D_medians.shape"
   ]
  },
  {
   "cell_type": "code",
   "execution_count": null,
   "metadata": {},
   "outputs": [],
   "source": [
    "# standard deviations\n",
    "stds_1D = np.std(grads_rec_1D, axis=2)\n",
    "stds_1D.shape"
   ]
  },
  {
   "cell_type": "code",
   "execution_count": null,
   "metadata": {},
   "outputs": [],
   "source": [
    "stds_1D"
   ]
  },
  {
   "cell_type": "code",
   "execution_count": null,
   "metadata": {},
   "outputs": [],
   "source": [
    "# input/expected gradient\n",
    "grads_input_1D = np.empty(grad_rec_1D_medians.shape)\n",
    "for i, cat_tag in enumerate(cat_tags):\n",
    "    grads_input_1D[:,i,:] = grad_input(1, cat_tag, m=m, b=b)"
   ]
  },
  {
   "cell_type": "code",
   "execution_count": null,
   "metadata": {},
   "outputs": [],
   "source": [
    "fig, axs = plt.subplots(len(Ls), figsize=(10,16))\n",
    "for i, m in enumerate(ms):\n",
    "    for j, L in enumerate(Ls):\n",
    "        # plot individual realizations\n",
    "        axs[j].plot(grads_rec_1D[i,j,:,0], grads_rec_1D[i,j,:,1], marker='.', markersize=2, ls='None', alpha=0.7)\n",
    "        # input gradient arrow\n",
    "        axs[j].arrow(0,0,grads_input_1D[i,j,0], grads_input_1D[i,j,1], color='k', length_includes_head=True, width=0.00001, head_width=0.0001,label='input',zorder=100)\n",
    "        # ellipse: spread of recovered amplitudes, centered at the median recovered gradient\n",
    "        axs[j].scatter(grad_rec_1D_medians[i,j,0], grad_rec_1D_medians[i,j,1], color='navy', marker='.', label='median recovered')\n",
    "        for k in range(1,4):\n",
    "            ellipse = Ellipse(xy=(grad_rec_1D_medians[i,j,0], grad_rec_1D_medians[i,j,1]), width=k*2*stds_1D[i,j,0], height=k*2*stds_1D[i,j,1], color='navy', fill=True, alpha=0.4/k)\n",
    "            axs[j].add_patch(ellipse)\n",
    "\n",
    "        # limits\n",
    "        axs[j].set_aspect('equal')\n",
    "        axs[j].set_xlim((-5e-4,4e-3))\n",
    "        axs[j].set_ylim((-1.5e-3,1.5e-3))\n",
    "        axs[j].set_title(f'm = {m}, L = {L}')\n",
    "        axs[j].set_xlabel(r'$a_x / a_0$')\n",
    "        axs[j].set_ylabel(r'$a_y / a_0$')\n",
    "        axs[j].legend()\n",
    "\n",
    "fig.suptitle(f'Recovered Gradient Amplitudes in x-y')\n",
    "fig.tight_layout()"
   ]
  },
  {
   "cell_type": "markdown",
   "metadata": {},
   "source": [
    "Sort of two things going on here:\n",
    "* As $L$ increases, we recover the input gradient more precisely\n",
    "* As $L$ increases, the gradient becomes weaker, i.e. in the 1D case $a_x/a_0$ decreases"
   ]
  },
  {
   "cell_type": "markdown",
   "metadata": {},
   "source": [
    "#### keeping gradient strength $\\textit{constant}$ i.e. not proportional to boxsize"
   ]
  },
  {
   "cell_type": "code",
   "execution_count": 29,
   "metadata": {},
   "outputs": [],
   "source": [
    "ms = [1, 3]\n",
    "Ls = [500, 1500]\n",
    "n = '1e-4'\n",
    "cat_tags = [f'L{L}_n{n}_z057_patchy_As2x' for L in Ls]\n",
    "nmocks = 100"
   ]
  },
  {
   "cell_type": "code",
   "execution_count": 30,
   "metadata": {},
   "outputs": [],
   "source": [
    "# load in recovered amplitudes\n",
    "amps_L500_m1 = load_tools.load_suave_amps(cat_tags[0], m=1, grad_dim=1, basis='bao_fixed', nmocks=nmocks)\n",
    "amps_L1500_m3 = load_tools.load_suave_amps(cat_tags[1], m=3, grad_dim=1, basis='bao_fixed', nmocks=nmocks)"
   ]
  },
  {
   "cell_type": "code",
   "execution_count": 31,
   "metadata": {},
   "outputs": [],
   "source": [
    "# divide spatial components by dimensionless a_0 to get our recovered gradient vector\n",
    "grads_rec_L500_m1 = np.array([amps_L500_m1[i,1:]/amps_L500_m1[i,0] for i in range(nmocks)])\n",
    "grads_rec_L1500_m3 = np.array([amps_L1500_m3[i,1:]/amps_L1500_m3[i,0] for i in range(nmocks)])"
   ]
  },
  {
   "cell_type": "code",
   "execution_count": 32,
   "metadata": {},
   "outputs": [
    {
     "data": {
      "text/plain": [
       "(100, 3)"
      ]
     },
     "execution_count": 32,
     "metadata": {},
     "output_type": "execute_result"
    }
   ],
   "source": [
    "grads_rec_L500_m1.shape"
   ]
  },
  {
   "cell_type": "code",
   "execution_count": 33,
   "metadata": {},
   "outputs": [
    {
     "data": {
      "text/plain": [
       "(3,)"
      ]
     },
     "execution_count": 33,
     "metadata": {},
     "output_type": "execute_result"
    }
   ],
   "source": [
    "# median recovered gradient, to center ellipse\n",
    "grad_rec_L500_m1_medians = np.median(grads_rec_L500_m1, axis=0)\n",
    "grad_rec_L1500_m3_medians = np.median(grads_rec_L1500_m3, axis=0)\n",
    "grad_rec_L500_m1_medians.shape"
   ]
  },
  {
   "cell_type": "code",
   "execution_count": 37,
   "metadata": {},
   "outputs": [
    {
     "data": {
      "text/plain": [
       "array([1.93698225e-03, 1.31513660e-05, 1.21565265e-06])"
      ]
     },
     "execution_count": 37,
     "metadata": {},
     "output_type": "execute_result"
    }
   ],
   "source": [
    "grad_rec_L1500_m3_medians"
   ]
  },
  {
   "cell_type": "code",
   "execution_count": 34,
   "metadata": {},
   "outputs": [],
   "source": [
    "# standard deviations\n",
    "stds_L500_m1 = np.std(grads_rec_L500_m1)\n",
    "stds_L1500_m3 = np.std(grads_rec_L1500_m3)"
   ]
  },
  {
   "cell_type": "code",
   "execution_count": 35,
   "metadata": {},
   "outputs": [],
   "source": [
    "# input/expected gradient\n",
    "grad_input_L500_m1 = grad_input(1, 'L500_n1e-4_z057_patchy_As2x', m=1, b=0.5)\n",
    "grad_input_L1500_m3 = grad_input(1, 'L1500_n1e-4_z057_patchy_As2x', m=3, b=0.5)"
   ]
  },
  {
   "cell_type": "code",
   "execution_count": 43,
   "metadata": {},
   "outputs": [
    {
     "data": {
      "text/plain": [
       "(100, 3)"
      ]
     },
     "execution_count": 43,
     "metadata": {},
     "output_type": "execute_result"
    }
   ],
   "source": [
    "grads_rec_L500_m1.shape"
   ]
  },
  {
   "cell_type": "code",
   "execution_count": 47,
   "metadata": {},
   "outputs": [
    {
     "data": {
      "image/png": "[encoded data removed]",
      "text/plain": [
       "<Figure size 720x1152 with 2 Axes>"
      ]
     },
     "metadata": {
      "needs_background": "light"
     },
     "output_type": "display_data"
    }
   ],
   "source": [
    "fig, axs = plt.subplots(2, figsize=(10,16))\n",
    "\n",
    "# plot individual realizations\n",
    "axs[0].plot(grads_rec_L500_m1[:,0], grads_rec_L500_m1[:,1], marker='.', markersize=2, ls='None')\n",
    "axs[1].plot(grads_rec_L1500_m3[:,0], grads_rec_L1500_m3[:,1], marker='.', markersize=2, ls='None')\n",
    "# input gradient arrow\n",
    "axs[0].arrow(0,0,grad_input_L500_m1[0], grad_input_L500_m1[1], color='k', length_includes_head=True, width=0.00001, head_width=0.0001,label='input',zorder=100)\n",
    "axs[1].arrow(0,0,grad_input_L1500_m3[0], grad_input_L1500_m3[1], color='k', length_includes_head=True, width=0.00001, head_width=0.0001,label='input',zorder=100)\n",
    "\"\"\"\n",
    "# ellipse: spread of recovered amplitudes, centered at the median recovered gradient\n",
    "axs[0].scatter(grad_rec_L500_m1_medians[0], grad_rec_L500_m1_medians[1], color='navy', marker='.', label='median recovered')\n",
    "axs[1].scatter(grad_rec_L1500_m3_medians[0], grad_rec_L1500_m3_medians[1], color='navy', marker='.', label='median recovered')\n",
    "for k in range(1,4):\n",
    "    ellipse1 = Ellipse(xy=(grad_rec_L500_m1_medians[0], grad_rec_L500_m1_medians[1]), width=k*2*stds_L500_m1, height=k*2*stds_L500_m1, color='navy', fill=True, alpha=0.4/k)\n",
    "    ellipse2 = Ellipse(xy=(grad_rec_L1500_m3_medians[0], grad_rec_L1500_m3_medians[1]), width=k*2*stds_L1500_m3, height=k*2*stds_L1500_m3, color='navy', fill=True, alpha=0.4/k)\n",
    "    axs[0].add_patch(ellipse1)\n",
    "    axs[1].add_patch(ellipse2)\n",
    "\"\"\"\n",
    "\n",
    "for ax in axs:\n",
    "    # limits\n",
    "    ax.set_aspect('equal')\n",
    "    # ax.set_xlim((-5e-4,4e-3))\n",
    "    # ax.set_ylim((-1.5e-3,1.5e-3))\n",
    "    ax.set_title(f'm = , L = {L}')\n",
    "    ax.set_xlabel(r'$a_x / a_0$')\n",
    "    ax.set_ylabel(r'$a_y / a_0$')\n",
    "    ax.legend()\n",
    "\n",
    "fig.suptitle(f'Recovered Gradient Amplitudes in x-y')\n",
    "fig.tight_layout()"
   ]
  },
  {
   "cell_type": "markdown",
   "metadata": {},
   "source": [
    "### 2D"
   ]
  },
  {
   "cell_type": "code",
   "execution_count": null,
   "metadata": {},
   "outputs": [],
   "source": [
    "# mock parameters\n",
    "cat_tag = 'L1000_n2e-4_z057_patchy_As2x'\n",
    "m = 1\n",
    "b = 0.5\n",
    "\n",
    "amps_2D = load_tools.load_suave_amps(cat_tag, m=m, grad_dim=2, basis='bao_fixed')"
   ]
  },
  {
   "cell_type": "code",
   "execution_count": null,
   "metadata": {},
   "outputs": [],
   "source": [
    "# input gradient vector\n",
    "grad_input_2D = grad_input(2, cat_tag, m=m, b=b)"
   ]
  },
  {
   "cell_type": "code",
   "execution_count": null,
   "metadata": {},
   "outputs": [],
   "source": [
    "grad_input_2D"
   ]
  },
  {
   "cell_type": "code",
   "execution_count": null,
   "metadata": {},
   "outputs": [],
   "source": [
    "# recovered gradient vector: divide amplitudes (a_x, a_y, a_z)/a_0\n",
    "grads_rec_2D = (amps_2D[:,1:].T/amps_2D[:,0].T).T\n",
    "grads_rec_2D.shape"
   ]
  },
  {
   "cell_type": "code",
   "execution_count": null,
   "metadata": {},
   "outputs": [],
   "source": [
    "# median recovered gradient, to center ellipse\n",
    "grad_rec_2D_median = np.median(grads_rec_2D, axis=0)\n",
    "grad_rec_2D_median"
   ]
  },
  {
   "cell_type": "code",
   "execution_count": null,
   "metadata": {},
   "outputs": [],
   "source": [
    "# standard deviations\n",
    "stds_2D = np.std(grads_rec_2D, axis=0)\n",
    "stds_2D.shape"
   ]
  },
  {
   "cell_type": "code",
   "execution_count": null,
   "metadata": {},
   "outputs": [],
   "source": [
    "fig, ax = plt.subplots(figsize=(8,6))\n",
    "\n",
    "ax.plot(grads_rec_2D[:,0], grads_rec_2D[:,1], marker='.', markersize=2, ls='None', alpha=0.7)\n",
    "ax.arrow(0,0,grad_input_2D[0], grad_input_2D[1], color='k', length_includes_head=True, width=0.00001, head_width=0.0001, label='input', zorder=100)\n",
    "ax.scatter(grad_rec_2D_median[0], grad_rec_2D_median[1], color='navy', marker='.', label='median recovered')\n",
    "for i in range(1,4):\n",
    "    ellipse = Ellipse(xy=(grad_rec_2D_median[0], grad_rec_2D_median[1]), width=i*2*stds_2D[0], height=i*2*stds_2D[1], color='navy', fill=True, alpha=0.4/i)\n",
    "    ax.add_patch(ellipse)\n",
    "\n",
    "ax.set_aspect('equal')\n",
    "ax.set_xlabel(r'$a_x / a_0$')\n",
    "ax.set_ylabel(r'$a_y / a_0$')\n",
    "ax.set_title(f'Recovered Gradient Amplitudes in x-y: {cat_tag}')\n",
    "plt.legend()"
   ]
  },
  {
   "cell_type": "code",
   "execution_count": null,
   "metadata": {},
   "outputs": [],
   "source": []
  }
 ],
 "metadata": {
  "kernelspec": {
   "display_name": "Python 3",
   "language": "python",
   "name": "python3"
  },
  "language_info": {
   "codemirror_mode": {
    "name": "ipython",
    "version": 3
   },
   "file_extension": ".py",
   "mimetype": "text/x-python",
   "name": "python",
   "nbconvert_exporter": "python",
   "pygments_lexer": "ipython3",
   "version": "3.8.6"
  }
 },
 "nbformat": 4,
 "nbformat_minor": 4
}
