{
 "cells": [
  {
   "cell_type": "code",
   "execution_count": 37,
   "metadata": {},
   "outputs": [],
   "source": [
    "import read_lognormal"
   ]
  },
  {
   "cell_type": "code",
   "execution_count": 25,
   "metadata": {},
   "outputs": [],
   "source": [
    "Lx, Ly, Lz, N, data = read_lognormal.read('lognormal_mocks/cat_L750_n3e-4_lognormal_rlz0.bin')\n",
    "x, y, z, vx, vy, vz = data.T"
   ]
  },
  {
   "cell_type": "code",
   "execution_count": 26,
   "metadata": {},
   "outputs": [
    {
     "data": {
      "text/plain": [
       "750.0"
      ]
     },
     "execution_count": 26,
     "metadata": {},
     "output_type": "execute_result"
    }
   ],
   "source": [
    "Lx"
   ]
  },
  {
   "cell_type": "code",
   "execution_count": 27,
   "metadata": {},
   "outputs": [
    {
     "data": {
      "text/plain": [
       "750.0"
      ]
     },
     "execution_count": 27,
     "metadata": {},
     "output_type": "execute_result"
    }
   ],
   "source": [
    "Ly"
   ]
  },
  {
   "cell_type": "code",
   "execution_count": 28,
   "metadata": {},
   "outputs": [
    {
     "data": {
      "text/plain": [
       "750.0"
      ]
     },
     "execution_count": 28,
     "metadata": {},
     "output_type": "execute_result"
    }
   ],
   "source": [
    "Lz"
   ]
  },
  {
   "cell_type": "code",
   "execution_count": 29,
   "metadata": {},
   "outputs": [
    {
     "data": {
      "text/plain": [
       "125342"
      ]
     },
     "execution_count": 29,
     "metadata": {},
     "output_type": "execute_result"
    }
   ],
   "source": [
    "N"
   ]
  },
  {
   "cell_type": "code",
   "execution_count": 30,
   "metadata": {},
   "outputs": [
    {
     "data": {
      "text/plain": [
       "array([[ 1.13136184e+00,  7.93881798e+00,  1.90051804e+01,\n",
       "         4.30209167e+02,  6.77292099e+01,  5.21449524e+02],\n",
       "       [ 4.30035293e-01,  1.03867426e+01,  6.12314186e+01,\n",
       "        -2.44356522e+02,  1.67915802e+02, -3.50078156e+02],\n",
       "       [ 2.08324015e-01,  1.32198906e+01,  5.46779663e+02,\n",
       "         2.68192749e+02, -4.39827545e+02,  8.79677868e+00],\n",
       "       ...,\n",
       "       [ 7.49666077e+02,  7.45453125e+02,  5.34135010e+02,\n",
       "         6.04300171e+02, -1.32243665e+03,  1.93120132e+02],\n",
       "       [ 7.49922791e+02,  7.46243896e+02,  4.06699486e+01,\n",
       "         3.84808411e+02,  2.71097198e+02, -8.28572388e+01],\n",
       "       [ 7.49938477e+02,  7.48443909e+02,  1.38223709e+02,\n",
       "         8.26262360e+01,  2.47058182e+02, -3.08923859e+02]])"
      ]
     },
     "execution_count": 30,
     "metadata": {},
     "output_type": "execute_result"
    }
   ],
   "source": [
    "data"
   ]
  },
  {
   "cell_type": "code",
   "execution_count": 42,
   "metadata": {},
   "outputs": [
    {
     "data": {
      "text/plain": [
       "19.00518035888672"
      ]
     },
     "execution_count": 42,
     "metadata": {},
     "output_type": "execute_result"
    }
   ],
   "source": [
    "z[0]"
   ]
  },
  {
   "cell_type": "code",
   "execution_count": 32,
   "metadata": {},
   "outputs": [
    {
     "data": {
      "text/plain": [
       "array([  7.93881798,  10.38674259,  13.21989059, ..., 745.453125  ,\n",
       "       746.24389648, 748.44390869])"
      ]
     },
     "execution_count": 32,
     "metadata": {},
     "output_type": "execute_result"
    }
   ],
   "source": [
    "y"
   ]
  },
  {
   "cell_type": "code",
   "execution_count": 33,
   "metadata": {},
   "outputs": [
    {
     "data": {
      "text/plain": [
       "array([ 19.00518036,  61.23141861, 546.77966309, ..., 534.13500977,\n",
       "        40.66994858, 138.22370911])"
      ]
     },
     "execution_count": 33,
     "metadata": {},
     "output_type": "execute_result"
    }
   ],
   "source": [
    "z"
   ]
  },
  {
   "cell_type": "code",
   "execution_count": 34,
   "metadata": {},
   "outputs": [
    {
     "data": {
      "text/plain": [
       "array([ 430.20916748, -244.35652161,  268.19274902, ...,  604.3001709 ,\n",
       "        384.80841064,   82.62623596])"
      ]
     },
     "execution_count": 34,
     "metadata": {},
     "output_type": "execute_result"
    }
   ],
   "source": [
    "vx"
   ]
  },
  {
   "cell_type": "code",
   "execution_count": 35,
   "metadata": {},
   "outputs": [],
   "source": [
    "import matplotlib.pyplot as plt\n",
    "import numpy as np"
   ]
  },
  {
   "cell_type": "code",
   "execution_count": 39,
   "metadata": {},
   "outputs": [
    {
     "data": {
      "text/plain": [
       "[<matplotlib.lines.Line2D at 0x122c0e210>]"
      ]
     },
     "execution_count": 39,
     "metadata": {},
     "output_type": "execute_result"
    },
    {
     "data": {
      "image/png": "[encoded data removed]",
      "text/plain": [
       "<Figure size 432x288 with 1 Axes>"
      ]
     },
     "metadata": {
      "needs_background": "light"
     },
     "output_type": "display_data"
    }
   ],
   "source": [
    "plt.plot(x,y)"
   ]
  },
  {
   "cell_type": "code",
   "execution_count": 93,
   "metadata": {},
   "outputs": [],
   "source": [
    "z_max = 70\n",
    "xy_slice = data[z < z_max] # select rows where z < 20"
   ]
  },
  {
   "cell_type": "code",
   "execution_count": 94,
   "metadata": {},
   "outputs": [
    {
     "data": {
      "text/plain": [
       "array([[ 1.13136184e+00,  7.93881798e+00,  1.90051804e+01,\n",
       "         4.30209167e+02,  6.77292099e+01,  5.21449524e+02],\n",
       "       [ 4.30035293e-01,  1.03867426e+01,  6.12314186e+01,\n",
       "        -2.44356522e+02,  1.67915802e+02, -3.50078156e+02],\n",
       "       [ 9.03681219e-02,  1.16116898e+02,  4.93918839e+01,\n",
       "        -4.20019775e+02, -8.41289749e+01, -7.01745117e+02],\n",
       "       ...,\n",
       "       [ 7.49354614e+02,  7.30659363e+02,  3.13910618e+01,\n",
       "         5.06983124e+02,  3.19892944e+02,  4.56342194e+02],\n",
       "       [ 7.48590149e+02,  7.41254761e+02,  3.86917229e+01,\n",
       "         8.56686951e+02,  2.86214752e+02,  4.60454216e+01],\n",
       "       [ 7.49922791e+02,  7.46243896e+02,  4.06699486e+01,\n",
       "         3.84808411e+02,  2.71097198e+02, -8.28572388e+01]])"
      ]
     },
     "execution_count": 94,
     "metadata": {},
     "output_type": "execute_result"
    }
   ],
   "source": [
    "xy_slice"
   ]
  },
  {
   "cell_type": "code",
   "execution_count": 95,
   "metadata": {},
   "outputs": [
    {
     "data": {
      "text/plain": [
       "11406"
      ]
     },
     "execution_count": 95,
     "metadata": {},
     "output_type": "execute_result"
    }
   ],
   "source": [
    "len(xy_slice)"
   ]
  },
  {
   "cell_type": "code",
   "execution_count": 96,
   "metadata": {},
   "outputs": [
    {
     "data": {
      "text/plain": [
       "Text(0, 0.5, 'y (Mpc/h)')"
      ]
     },
     "execution_count": 96,
     "metadata": {},
     "output_type": "execute_result"
    },
    {
     "data": {
      "image/png": "[encoded data removed]",
      "text/plain": [
       "<Figure size 432x288 with 1 Axes>"
      ]
     },
     "metadata": {
      "needs_background": "light"
     },
     "output_type": "display_data"
    }
   ],
   "source": [
    "plt.plot(xy_slice[:,0],xy_slice[:,1],',')\n",
    "plt.xlabel(\"x (Mpc/h)\")\n",
    "plt.ylabel(\"y (Mpc/h)\")"
   ]
  },
  {
   "cell_type": "code",
   "execution_count": 98,
   "metadata": {},
   "outputs": [],
   "source": [
    "# slice of sky for 0 < z < 70 Mpc/h"
   ]
  },
  {
   "cell_type": "code",
   "execution_count": null,
   "metadata": {},
   "outputs": [],
   "source": []
  }
 ],
 "metadata": {
  "kernelspec": {
   "display_name": "Python 3",
   "language": "python",
   "name": "python3"
  },
  "language_info": {
   "codemirror_mode": {
    "name": "ipython",
    "version": 3
   },
   "file_extension": ".py",
   "mimetype": "text/x-python",
   "name": "python",
   "nbconvert_exporter": "python",
   "pygments_lexer": "ipython3",
   "version": "3.7.4"
  }
 },
 "nbformat": 4,
 "nbformat_minor": 2
}
