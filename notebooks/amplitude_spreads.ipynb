{
 "cells": [
  {
   "cell_type": "code",
   "execution_count": 1,
   "metadata": {},
   "outputs": [],
   "source": [
    "import numpy as np\n",
    "import matplotlib\n",
    "import matplotlib.pyplot as plt\n",
    "import sys\n",
    "import os"
   ]
  },
  {
   "cell_type": "code",
   "execution_count": 2,
   "metadata": {},
   "outputs": [],
   "source": [
    "data_dir = '/scratch/aew492/research-summer2020_output'"
   ]
  },
  {
   "cell_type": "code",
   "execution_count": 3,
   "metadata": {},
   "outputs": [],
   "source": [
    "def load_suave_amps(cat_tag, rlzs=401, m=1.0, b=0.5, basis='bao_fixed', grad_dir=os.path.join(data_dir, 'gradient/1D')):\n",
    "    amps = np.empty((rlzs,4))\n",
    "    for rlz in range(rlzs):\n",
    "        suave_dict = np.load(os.path.join(grad_dir, f'suave_data/{cat_tag}/{basis}/{cat_tag}_rlz{rlz}_m-{m}00-L_b-{b}00.npy'), allow_pickle=True).item()\n",
    "        amps[rlz] = suave_dict['amps']\n",
    "    return amps"
   ]
  },
  {
   "cell_type": "code",
   "execution_count": 4,
   "metadata": {},
   "outputs": [],
   "source": [
    "def std_grad(V, n, P):\n",
    "    std = P * (V**(-.5) * (1 + (n*P)**(-1))) * (V**(-1/3))  # last factor is from position dependence across box\n",
    "    return std"
   ]
  },
  {
   "cell_type": "code",
   "execution_count": 5,
   "metadata": {},
   "outputs": [],
   "source": [
    "def std_cf(V, n, P):\n",
    "    std = P * (V**(-.5) * (1 + (n*P)**(-1)))\n",
    "    return std"
   ]
  },
  {
   "cell_type": "code",
   "execution_count": 6,
   "metadata": {},
   "outputs": [],
   "source": [
    "def get_cfarr_vals(cf_arr):\n",
    "    arr_len = len(cf_arr[0])\n",
    "    cfs_mean = np.zeros(arr_len)\n",
    "    stds = np.zeros(arr_len)\n",
    "    error_regions = np.empty((arr_len, 2))\n",
    "    for i in range(arr_len):\n",
    "        mean, std = np.mean(cf_arr[:,i]), np.std(cf_arr[:,i])\n",
    "        cfs_mean[i] = mean\n",
    "        stds[i] = std\n",
    "        error_regions[i] = [mean-std, mean+std]\n",
    "    return cfs_mean, stds, error_regions"
   ]
  },
  {
   "cell_type": "markdown",
   "metadata": {},
   "source": [
    "### load in input power spectrum"
   ]
  },
  {
   "cell_type": "code",
   "execution_count": 7,
   "metadata": {},
   "outputs": [],
   "source": [
    "kG, PkG = np.loadtxt(f'/scratch/ksf293/mocks/lognormal/inputs/cat_L750_n1e-4_z057_patchy_As2x_pkG.dat').T"
   ]
  },
  {
   "cell_type": "code",
   "execution_count": 8,
   "metadata": {},
   "outputs": [
    {
     "data": {
      "text/plain": [
       "(0.02511886432, array([76730.64364]))"
      ]
     },
     "execution_count": 8,
     "metadata": {},
     "output_type": "execute_result"
    }
   ],
   "source": [
    "# let's naively take the value of xi at r=40\n",
    "r_rep = 40\n",
    "k_rep = 1/r_rep\n",
    "k_rep = min(kG, key=lambda x:abs(x-k_rep))  # closest r value to 40\n",
    "P_rep = PkG[np.where(kG==k_rep)]\n",
    "k_rep, P_rep"
   ]
  },
  {
   "cell_type": "markdown",
   "metadata": {},
   "source": [
    "### spread of $a_0$ from CFE"
   ]
  },
  {
   "cell_type": "code",
   "execution_count": 9,
   "metadata": {},
   "outputs": [],
   "source": [
    "Ls = ['500', '750', '1000']\n",
    "ns = ['1e-4', '2e-4']"
   ]
  },
  {
   "cell_type": "code",
   "execution_count": 10,
   "metadata": {},
   "outputs": [],
   "source": [
    "amp_data = []\n",
    "\n",
    "for L in Ls:\n",
    "    for i, n in enumerate(ns):\n",
    "        cat_tag = f'L{L}_n{n}_z057_patchy_As2x'\n",
    "        amps = load_suave_amps(cat_tag)\n",
    "        a0s = amps[:,0]\n",
    "        std = np.std(a0s)\n",
    "        amp_dict = {\n",
    "            'L' : L,\n",
    "            'n' : n,\n",
    "            'cat_tag' : cat_tag,\n",
    "            'amps' : amps,\n",
    "            'a0s' : a0s,\n",
    "            'std' : std\n",
    "        }\n",
    "        amp_data.append(amp_dict)"
   ]
  },
  {
   "cell_type": "code",
   "execution_count": 11,
   "metadata": {},
   "outputs": [],
   "source": [
    "spread_a0_n1 = []\n",
    "spread_a0_n2 = []\n",
    "for data in amp_data:\n",
    "    if data['n'] == '1e-4':\n",
    "        spread_a0_n1.append(data['std'])\n",
    "    elif data['n'] == '2e-4':\n",
    "        spread_a0_n2.append(data['std'])"
   ]
  },
  {
   "cell_type": "code",
   "execution_count": 12,
   "metadata": {},
   "outputs": [
    {
     "data": {
      "text/plain": [
       "<matplotlib.legend.Legend at 0x14f3137335e0>"
      ]
     },
     "execution_count": 12,
     "metadata": {},
     "output_type": "execute_result"
    },
    {
     "data": {
      "image/png": "[encoded data removed]",
      "text/plain": [
       "<Figure size 576x432 with 1 Axes>"
      ]
     },
     "metadata": {
      "needs_background": "light"
     },
     "output_type": "display_data"
    }
   ],
   "source": [
    "fig, ax = plt.subplots(figsize=(8,6))\n",
    "\n",
    "Ls = [float(L) for L in Ls]\n",
    "\n",
    "ax.plot(Ls, spread_a0_n1, label='n1e-4')\n",
    "ax.plot(Ls, spread_a0_n2, label='n2e-4')\n",
    "\n",
    "ax.set_xscale('log')\n",
    "ax.set_yscale('log')\n",
    "ax.set_xlabel('Boxsize ($h^{-1}$Mpc)')\n",
    "ax.set_ylabel('$\\sigma$')\n",
    "ax.set_title('Spread of $a_0$ vs. Boxsize')\n",
    "ax.legend()"
   ]
  },
  {
   "cell_type": "markdown",
   "metadata": {},
   "source": [
    "### plot suave for many mocks"
   ]
  },
  {
   "cell_type": "code",
   "execution_count": 13,
   "metadata": {},
   "outputs": [
    {
     "data": {
      "text/plain": [
       "'L1000_n2e-4_z057_patchy_As2x'"
      ]
     },
     "execution_count": 13,
     "metadata": {},
     "output_type": "execute_result"
    }
   ],
   "source": [
    "cat_tag"
   ]
  },
  {
   "cell_type": "code",
   "execution_count": 14,
   "metadata": {},
   "outputs": [],
   "source": [
    "basis = 'bao_fixed'\n",
    "m = 1.0\n",
    "b = 0.5\n",
    "rlz = 0"
   ]
  },
  {
   "cell_type": "code",
   "execution_count": 15,
   "metadata": {},
   "outputs": [
    {
     "data": {
      "text/plain": [
       "dict_keys(['grad_recovered', 'mean_sq_err', 'r_avg', 'amps', 'r_fine', 'xi_locs', 'proj_type', 'projfn', 'weight_type'])"
      ]
     },
     "execution_count": 15,
     "metadata": {},
     "output_type": "execute_result"
    }
   ],
   "source": [
    "suave_info = np.load(os.path.join(data_dir, f'gradient/1D/suave_data/{cat_tag}/{basis}/{cat_tag}_rlz{rlz}_m-{m:.3f}-L_b-{b:.3f}.npy'), allow_pickle=True).item()\n",
    "suave_info.keys()"
   ]
  },
  {
   "cell_type": "code",
   "execution_count": 16,
   "metadata": {},
   "outputs": [],
   "source": [
    "def plot_suave_cf(rlzs, cat_tag, basis='bao_fixed', m=1.0, b=0.5, grad_dir=os.path.join(data_dir, 'gradient/1D'), color=None, ymin=None, ymax=None, label=None):\n",
    "    mock_info = np.load(os.path.join(grad_dir, f'mock_data/{cat_tag}/{cat_tag}_rlz{rlzs[0]}_m-{m:.3f}-L_b-{b:.3f}.npy'), allow_pickle=True).item()\n",
    "    L = mock_info['boxsize']\n",
    "    \n",
    "    fig, ax = plt.subplots(figsize=(8,8))\n",
    "    \n",
    "    for i, rlz in enumerate(rlzs):\n",
    "        label = None if i else label\n",
    "        suave_info = np.load(os.path.join(grad_dir, f'suave_data/{cat_tag}/{basis}/{cat_tag}_rlz{rlz}_m-{m:.3f}-L_b-{b:.3f}.npy'), allow_pickle=True).item()\n",
    "        r_fine = suave_info[\"r_fine\"]\n",
    "        xi_locs = suave_info[\"xi_locs\"]\n",
    "\n",
    "        ax.plot(r_fine, xi_locs[len(xi_locs)//2], color=color)\n",
    "        ax.fill_between(r_fine, xi_locs[0], xi_locs[len(xi_locs)-1], color=color, alpha=0.1, label=label)\n",
    "    \n",
    "    ax.axhline(0, color='grey', lw=0.5)\n",
    "    ax.set_ylim((ymin, ymax))\n",
    "    ax.set_xlabel(r'separation $r$ ($h^{-1}\\,$Mpc)')\n",
    "    ax.set_ylabel(r'correlation function $\\xi(r)$')\n",
    "    \n",
    "    return fig, ax"
   ]
  },
  {
   "cell_type": "code",
   "execution_count": 17,
   "metadata": {},
   "outputs": [],
   "source": [
    "cat_tag = 'L750_n2e-4_z057_patchy_As2x'\n",
    "nmocks = 401\n",
    "rlzs = range(nmocks)"
   ]
  },
  {
   "cell_type": "code",
   "execution_count": 18,
   "metadata": {},
   "outputs": [],
   "source": [
    "a0s = np.zeros(nmocks)\n",
    "for rlz in range(nmocks):\n",
    "    suave_info = np.load(os.path.join(data_dir, f'gradient/1D/suave_data/{cat_tag}/bao_fixed/{cat_tag}_rlz{rlz}_m-{m:.3f}-L_b-{b:.3f}.npy'), allow_pickle=True).item()\n",
    "    a0s[rlz] = suave_info['amps'][0]"
   ]
  },
  {
   "cell_type": "code",
   "execution_count": 19,
   "metadata": {},
   "outputs": [
    {
     "data": {
      "text/plain": [
       "(2000,)"
      ]
     },
     "execution_count": 19,
     "metadata": {},
     "output_type": "execute_result"
    }
   ],
   "source": [
    "# fixed basis\n",
    "r_basis, basis = np.loadtxt(os.path.join(data_dir, 'bases/bao_fixed/cosmo_basis.dat')).T\n",
    "basis.shape"
   ]
  },
  {
   "cell_type": "code",
   "execution_count": 20,
   "metadata": {},
   "outputs": [
    {
     "data": {
      "text/plain": [
       "<matplotlib.legend.Legend at 0x14f312633e50>"
      ]
     },
     "execution_count": 20,
     "metadata": {},
     "output_type": "execute_result"
    },
    {
     "data": {
      "image/png": "[encoded data removed]",
      "text/plain": [
       "<Figure size 576x576 with 1 Axes>"
      ]
     },
     "metadata": {
      "needs_background": "light"
     },
     "output_type": "display_data"
    }
   ],
   "source": [
    "fig, ax = plot_suave_cf(rlzs, cat_tag, m=1, color='C0', ymax=0.3, ymin=-0.02, label='CFE gradient results (fixed basis)')\n",
    "\n",
    "cf_fids = np.empty((len(a0s), len(basis)))\n",
    "for i, a0 in enumerate(a0s):\n",
    "    cf_fid = a0*basis\n",
    "    label = None if i else '$a_0$ * fixed basis'\n",
    "    ax.plot(r_basis, cf_fid, color='navy', alpha=0.6, label=label)\n",
    "    cf_fids[i] = cf_fid\n",
    "ax.set_title(f'Spread of CFE amplitudes, {cat_tag}, {nmocks} realizations, m={m:.1f}, b={b:.1f}')\n",
    "ax.legend()"
   ]
  },
  {
   "cell_type": "code",
   "execution_count": 21,
   "metadata": {},
   "outputs": [
    {
     "data": {
      "text/plain": [
       "(2000,)"
      ]
     },
     "execution_count": 21,
     "metadata": {},
     "output_type": "execute_result"
    }
   ],
   "source": [
    "mean_cfecf = np.mean(cf_fids, axis=0)\n",
    "stds_cfecf = np.std(cf_fids, axis=0)\n",
    "stds_cfecf.shape"
   ]
  },
  {
   "cell_type": "code",
   "execution_count": 22,
   "metadata": {},
   "outputs": [],
   "source": [
    "nbins = 22\n",
    "cf_arr = np.empty((nmocks,nbins))\n",
    "for i in range(nmocks):\n",
    "    r_ls, xi_ls = np.load(os.path.join(data_dir, f'gradient/1D/ls/{cat_tag}/xi_ls_3x_{cat_tag}_rlz{i}_m-{m:.3f}-L_b-{b:.3f}.npy'), allow_pickle=True)\n",
    "    cf_arr[i] = xi_ls"
   ]
  },
  {
   "cell_type": "code",
   "execution_count": 23,
   "metadata": {},
   "outputs": [],
   "source": [
    "cfs_mean_ls, stds_ls, error_regions_ls = get_cfarr_vals(cf_arr)"
   ]
  },
  {
   "cell_type": "code",
   "execution_count": 24,
   "metadata": {},
   "outputs": [
    {
     "data": {
      "text/plain": [
       "Text(0, 0.5, '$\\\\xi$(r)')"
      ]
     },
     "execution_count": 24,
     "metadata": {},
     "output_type": "execute_result"
    },
    {
     "data": {
      "image/png": "[encoded data removed]",
      "text/plain": [
       "<Figure size 576x576 with 1 Axes>"
      ]
     },
     "metadata": {
      "needs_background": "light"
     },
     "output_type": "display_data"
    }
   ],
   "source": [
    "fig, ax = plt.subplots(figsize=(8,8))\n",
    "\n",
    "ax.errorbar(r_ls, cfs_mean_ls, yerr=stds_ls, color='k', alpha=0.8, fmt='o', markersize=4, capsize=2, label=f'L-S lognormal')\n",
    "\n",
    "ax.plot(r_basis, mean_cfecf, color='C0', lw=1)\n",
    "ax.fill_between(r_basis, mean_cfecf-stds_cfecf, mean_cfecf+stds_cfecf, color='C1', alpha=0.3)\n",
    "\n",
    "ax.set_ylim((-0.005,0.1))\n",
    "ax.axhline(0, color=\"k\", alpha=0.2, lw=1)\n",
    "ax.set_xlabel(r'$r$ ($h^{-1}\\,$Mpc)')\n",
    "ax.set_ylabel(r'$\\xi$(r)')"
   ]
  },
  {
   "cell_type": "code",
   "execution_count": 25,
   "metadata": {},
   "outputs": [],
   "source": [
    "r_rep = 50\n",
    "r_rep_cfe = min(r_basis, key=lambda x:abs(x-r_rep))\n",
    "r_rep_ls = min(r_ls, key=lambda x:abs(x-r_rep))"
   ]
  },
  {
   "cell_type": "code",
   "execution_count": 26,
   "metadata": {},
   "outputs": [],
   "source": [
    "std_ls_rep = stds_ls[np.where(r_ls==r_rep_ls)]\n",
    "std_cfe_rep = stds_cfecf[np.where(r_basis==r_rep_cfe)]"
   ]
  },
  {
   "cell_type": "code",
   "execution_count": 27,
   "metadata": {},
   "outputs": [
    {
     "name": "stdout",
     "output_type": "stream",
     "text": [
      "0.003495, 0.001277\n"
     ]
    }
   ],
   "source": [
    "print(f'{std_ls_rep[0]:.6f}, {std_cfe_rep[0]:.6f}')"
   ]
  },
  {
   "cell_type": "code",
   "execution_count": 28,
   "metadata": {},
   "outputs": [],
   "source": [
    "mean_std_ls = np.mean(stds_ls)\n",
    "mean_std_cfe = np.mean(stds_cfecf)"
   ]
  },
  {
   "cell_type": "code",
   "execution_count": 29,
   "metadata": {},
   "outputs": [
    {
     "name": "stdout",
     "output_type": "stream",
     "text": [
      "0.003011, 0.001570\n"
     ]
    }
   ],
   "source": [
    "print(f'{mean_std_ls:.6f}, {mean_std_cfe:.6f}')"
   ]
  },
  {
   "cell_type": "code",
   "execution_count": 30,
   "metadata": {},
   "outputs": [
    {
     "data": {
      "text/plain": [
       "(0.00209500532625122, 0.0002664907155841039)"
      ]
     },
     "execution_count": 30,
     "metadata": {},
     "output_type": "execute_result"
    }
   ],
   "source": [
    "median_std_ls = np.median(stds_ls)\n",
    "median_std_cfe = np.median(stds_cfecf)\n",
    "median_std_ls, median_std_cfe"
   ]
  },
  {
   "cell_type": "code",
   "execution_count": 31,
   "metadata": {},
   "outputs": [
    {
     "name": "stdout",
     "output_type": "stream",
     "text": [
      "0.002095, 0.000266\n"
     ]
    }
   ],
   "source": [
    "print(f'{median_std_ls:.6f}, {median_std_cfe:.6f}')"
   ]
  },
  {
   "cell_type": "code",
   "execution_count": 32,
   "metadata": {},
   "outputs": [],
   "source": [
    "# let's compare, for a gradient mock, the stdev of L-S vs. the stdev of the full gradient suave estimate\n",
    "# (the latter is just the sum of the coefficients times their respective components (eq.21 of our paper))"
   ]
  },
  {
   "cell_type": "code",
   "execution_count": 33,
   "metadata": {},
   "outputs": [
    {
     "data": {
      "text/plain": [
       "6"
      ]
     },
     "execution_count": 33,
     "metadata": {},
     "output_type": "execute_result"
    }
   ],
   "source": [
    "len(amp_data)"
   ]
  },
  {
   "cell_type": "code",
   "execution_count": 34,
   "metadata": {},
   "outputs": [],
   "source": [
    "amp_dict = amp_data[3]"
   ]
  },
  {
   "cell_type": "code",
   "execution_count": 35,
   "metadata": {},
   "outputs": [
    {
     "data": {
      "text/plain": [
       "dict_keys(['L', 'n', 'cat_tag', 'amps', 'a0s', 'std'])"
      ]
     },
     "execution_count": 35,
     "metadata": {},
     "output_type": "execute_result"
    }
   ],
   "source": [
    "amp_dict.keys()"
   ]
  },
  {
   "cell_type": "code",
   "execution_count": 36,
   "metadata": {},
   "outputs": [],
   "source": [
    "amps = amp_dict['amps']"
   ]
  },
  {
   "cell_type": "code",
   "execution_count": 37,
   "metadata": {},
   "outputs": [],
   "source": [
    "a0s = amp_dict['a0s']"
   ]
  },
  {
   "cell_type": "code",
   "execution_count": 38,
   "metadata": {},
   "outputs": [
    {
     "data": {
      "text/plain": [
       "array([6.04320086e-01, 1.51909490e-03, 2.49760241e-04, 1.34018307e-04])"
      ]
     },
     "execution_count": 38,
     "metadata": {},
     "output_type": "execute_result"
    }
   ],
   "source": [
    "amps[0]"
   ]
  },
  {
   "cell_type": "code",
   "execution_count": 39,
   "metadata": {},
   "outputs": [
    {
     "data": {
      "text/plain": [
       "0.6043200859163379"
      ]
     },
     "execution_count": 39,
     "metadata": {},
     "output_type": "execute_result"
    }
   ],
   "source": [
    "a0s[0]"
   ]
  },
  {
   "cell_type": "code",
   "execution_count": 40,
   "metadata": {},
   "outputs": [
    {
     "data": {
      "text/plain": [
       "(array([ 0.20940522,  0.20801715,  0.20664107, ..., -0.00067763,\n",
       "        -0.00067703, -0.00067642]),\n",
       " (2000,))"
      ]
     },
     "execution_count": 40,
     "metadata": {},
     "output_type": "execute_result"
    }
   ],
   "source": [
    "basis, basis.shape"
   ]
  },
  {
   "cell_type": "markdown",
   "metadata": {},
   "source": [
    "### on a lognormal mock: stdev of L-S vs. stdev of full suave (fixed basis)"
   ]
  },
  {
   "cell_type": "code",
   "execution_count": 41,
   "metadata": {},
   "outputs": [],
   "source": [
    "cat_tag = 'L750_n2e-4_z057_patchy_As2x'\n",
    "nmocks = 401"
   ]
  },
  {
   "cell_type": "code",
   "execution_count": 42,
   "metadata": {},
   "outputs": [],
   "source": [
    "# Landy-Szalay\n",
    "xis_ls = np.empty((nmocks,2,22))\n",
    "for i in range(nmocks):\n",
    "    xis_ls[i] = np.load(os.path.join(data_dir, f'lognormal/xi/ls/{cat_tag}/xi_ls_3x_{cat_tag}_rlz{i}_lognormal.npy'), allow_pickle=True)"
   ]
  },
  {
   "cell_type": "code",
   "execution_count": 43,
   "metadata": {},
   "outputs": [],
   "source": [
    "cfs_mean_ls, stds_ls, error_regions_ls = get_cfarr_vals(xis_ls[:,1,:])"
   ]
  },
  {
   "cell_type": "code",
   "execution_count": 44,
   "metadata": {},
   "outputs": [],
   "source": [
    "# CFE, fixed basis\n",
    "xis_cfe = np.empty((nmocks,2,1000))\n",
    "for i in range(nmocks):\n",
    "    xis_cfe[i] = np.load(os.path.join(data_dir, f'lognormal/xi/bao_fixed/{cat_tag}/xi_{cat_tag}_rlz{i}_lognormal.npy'), allow_pickle=True).T"
   ]
  },
  {
   "cell_type": "code",
   "execution_count": 45,
   "metadata": {},
   "outputs": [],
   "source": [
    "cfs_mean_cfe, stds_cfe, error_regions_cfe = get_cfarr_vals(xis_cfe[:,1,:])"
   ]
  },
  {
   "cell_type": "code",
   "execution_count": 46,
   "metadata": {},
   "outputs": [
    {
     "data": {
      "text/plain": [
       "(22,)"
      ]
     },
     "execution_count": 46,
     "metadata": {},
     "output_type": "execute_result"
    }
   ],
   "source": [
    "xis_ls[0,0].shape"
   ]
  },
  {
   "cell_type": "code",
   "execution_count": 48,
   "metadata": {},
   "outputs": [
    {
     "data": {
      "text/plain": [
       "<matplotlib.legend.Legend at 0x14f31206e9a0>"
      ]
     },
     "execution_count": 48,
     "metadata": {},
     "output_type": "execute_result"
    },
    {
     "data": {
      "image/png": "[encoded data removed]",
      "text/plain": [
       "<Figure size 576x432 with 1 Axes>"
      ]
     },
     "metadata": {
      "needs_background": "light"
     },
     "output_type": "display_data"
    }
   ],
   "source": [
    "fig, ax = plt.subplots(figsize=(8,6))\n",
    "\n",
    "ax.errorbar(xis_ls[0,0], cfs_mean_ls, yerr=stds_ls, color='k', alpha=0.8, fmt='o', markersize=4, capsize=2, label=f'L-S')\n",
    "\n",
    "ax.plot(xis_cfe[0,0], cfs_mean_cfe, lw=1, label='CFE')\n",
    "ax.fill_between(xis_cfe[0,0], cfs_mean_cfe-stds_cfe, cfs_mean_cfe+stds_cfe, alpha=0.3)\n",
    "\n",
    "ax.set_ylim((-0.005,0.1))\n",
    "ax.axhline(0, color=\"k\", alpha=0.2, lw=1)\n",
    "ax.set_xlabel(r'$r$ ($h^{-1}\\,$Mpc)')\n",
    "ax.set_ylabel(r'$\\xi$(r)')\n",
    "ax.set_title(f'Cf. estimator results, mean of {nmocks} lognormal mocks ({cat_tag})')\n",
    "\n",
    "plt.legend()"
   ]
  },
  {
   "cell_type": "code",
   "execution_count": null,
   "metadata": {},
   "outputs": [],
   "source": []
  }
 ],
 "metadata": {
  "kernelspec": {
   "display_name": "Python 3",
   "language": "python",
   "name": "python3"
  },
  "language_info": {
   "codemirror_mode": {
    "name": "ipython",
    "version": 3
   },
   "file_extension": ".py",
   "mimetype": "text/x-python",
   "name": "python",
   "nbconvert_exporter": "python",
   "pygments_lexer": "ipython3",
   "version": "3.8.6"
  }
 },
 "nbformat": 4,
 "nbformat_minor": 4
}
