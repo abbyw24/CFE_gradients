{
 "cells": [
  {
   "cell_type": "code",
   "execution_count": 1,
   "id": "aa83603a",
   "metadata": {},
   "outputs": [],
   "source": [
    "import numpy as np\n",
    "import matplotlib.pyplot as plt\n",
    "import matplotlib\n",
    "import sys\n",
    "import os\n",
    "\n",
    "sys.path.insert(0, \"/home/aew492/research-summer2020/code\")\n",
    "import globals\n",
    "globals.initialize_vals()\n",
    "import recover_amps\n",
    "import generate_mock_list\n",
    "mock_file_name_list = generate_mock_list.generate_mock_list()"
   ]
  },
  {
   "cell_type": "code",
   "execution_count": 2,
   "id": "ef619433",
   "metadata": {},
   "outputs": [],
   "source": [
    "data_dir = \"/scratch/aew492/research-summer2020_output/gradient/1D/\""
   ]
  },
  {
   "cell_type": "code",
   "execution_count": 3,
   "id": "50bfb860",
   "metadata": {},
   "outputs": [
    {
     "ename": "FileNotFoundError",
     "evalue": "[Errno 2] No such file or directory: '/scratch/aew492/research-summer2020_output/gradient/1D/patches_vs_suave_data/1rlz_per_m/401mocks/stats_8patches_vs_suave_L500_n2e-4_x.npy'",
     "output_type": "error",
     "traceback": [
      "\u001b[0;31m---------------------------------------------------------------------------\u001b[0m",
      "\u001b[0;31mFileNotFoundError\u001b[0m                         Traceback (most recent call last)",
      "\u001b[0;32m<ipython-input-3-94f598d5d721>\u001b[0m in \u001b[0;36m<module>\u001b[0;34m\u001b[0m\n\u001b[0;32m----> 1\u001b[0;31m \u001b[0mL500_n2\u001b[0m \u001b[0;34m=\u001b[0m \u001b[0mnp\u001b[0m\u001b[0;34m.\u001b[0m\u001b[0mload\u001b[0m\u001b[0;34m(\u001b[0m\u001b[0mos\u001b[0m\u001b[0;34m.\u001b[0m\u001b[0mpath\u001b[0m\u001b[0;34m.\u001b[0m\u001b[0mjoin\u001b[0m\u001b[0;34m(\u001b[0m\u001b[0mdata_dir\u001b[0m\u001b[0;34m,\u001b[0m \u001b[0;34m\"patches_vs_suave_data/1rlz_per_m/401mocks/stats_8patches_vs_suave_L500_n2e-4_x.npy\"\u001b[0m\u001b[0;34m)\u001b[0m\u001b[0;34m,\u001b[0m \u001b[0mallow_pickle\u001b[0m\u001b[0;34m=\u001b[0m\u001b[0;32mTrue\u001b[0m\u001b[0;34m)\u001b[0m\u001b[0;34m.\u001b[0m\u001b[0mitem\u001b[0m\u001b[0;34m(\u001b[0m\u001b[0;34m)\u001b[0m\u001b[0;34m\u001b[0m\u001b[0;34m\u001b[0m\u001b[0m\n\u001b[0m",
      "\u001b[0;32m/ext3/miniconda3/envs/suaveenv/lib/python3.9/site-packages/numpy/lib/npyio.py\u001b[0m in \u001b[0;36mload\u001b[0;34m(file, mmap_mode, allow_pickle, fix_imports, encoding)\u001b[0m\n\u001b[1;32m    415\u001b[0m             \u001b[0mown_fid\u001b[0m \u001b[0;34m=\u001b[0m \u001b[0;32mFalse\u001b[0m\u001b[0;34m\u001b[0m\u001b[0;34m\u001b[0m\u001b[0m\n\u001b[1;32m    416\u001b[0m         \u001b[0;32melse\u001b[0m\u001b[0;34m:\u001b[0m\u001b[0;34m\u001b[0m\u001b[0;34m\u001b[0m\u001b[0m\n\u001b[0;32m--> 417\u001b[0;31m             \u001b[0mfid\u001b[0m \u001b[0;34m=\u001b[0m \u001b[0mstack\u001b[0m\u001b[0;34m.\u001b[0m\u001b[0menter_context\u001b[0m\u001b[0;34m(\u001b[0m\u001b[0mopen\u001b[0m\u001b[0;34m(\u001b[0m\u001b[0mos_fspath\u001b[0m\u001b[0;34m(\u001b[0m\u001b[0mfile\u001b[0m\u001b[0;34m)\u001b[0m\u001b[0;34m,\u001b[0m \u001b[0;34m\"rb\"\u001b[0m\u001b[0;34m)\u001b[0m\u001b[0;34m)\u001b[0m\u001b[0;34m\u001b[0m\u001b[0;34m\u001b[0m\u001b[0m\n\u001b[0m\u001b[1;32m    418\u001b[0m             \u001b[0mown_fid\u001b[0m \u001b[0;34m=\u001b[0m \u001b[0;32mTrue\u001b[0m\u001b[0;34m\u001b[0m\u001b[0;34m\u001b[0m\u001b[0m\n\u001b[1;32m    419\u001b[0m \u001b[0;34m\u001b[0m\u001b[0m\n",
      "\u001b[0;31mFileNotFoundError\u001b[0m: [Errno 2] No such file or directory: '/scratch/aew492/research-summer2020_output/gradient/1D/patches_vs_suave_data/1rlz_per_m/401mocks/stats_8patches_vs_suave_L500_n2e-4_x.npy'"
     ]
    }
   ],
   "source": [
    "L500_n2 = np.load(os.path.join(data_dir, \"patches_vs_suave_data/1rlz_per_m/401mocks/stats_8patches_vs_suave_L500_n2e-4_x.npy\"), allow_pickle=True).item()"
   ]
  },
  {
   "cell_type": "code",
   "execution_count": null,
   "id": "b2270300",
   "metadata": {},
   "outputs": [],
   "source": [
    "L750_n2 = np.load(os.path.join(data_dir, \"patches_vs_suave_data/1rlz_per_m/401mocks/stats_8patches_vs_suave_L750_n2e-4_x.npy\"), allow_pickle=True).item()"
   ]
  },
  {
   "cell_type": "code",
   "execution_count": null,
   "id": "45abea29",
   "metadata": {},
   "outputs": [],
   "source": [
    "L1000_n2 = np.load(os.path.join(data_dir, \"patches_vs_suave_data/1rlz_per_m/401mocks/stats_8patches_vs_suave_L1000_n2e-4_x.npy\"), allow_pickle=True).item()"
   ]
  },
  {
   "cell_type": "code",
   "execution_count": null,
   "id": "20f43e54",
   "metadata": {
    "scrolled": true
   },
   "outputs": [],
   "source": [
    "L750_n1 = np.load(os.path.join(data_dir, \"patches_vs_suave_data/1rlz_per_m/401mocks/stats_8patches_vs_suave_L750_n1e-4_x.npy\"), allow_pickle=True).item()"
   ]
  },
  {
   "cell_type": "code",
   "execution_count": null,
   "id": "8c12070b",
   "metadata": {},
   "outputs": [],
   "source": [
    "L750_n4 = np.load(os.path.join(data_dir, \"patches_vs_suave_data/1rlz_per_m/401mocks/stats_8patches_vs_suave_L750_n4e-4_x.npy\"), allow_pickle=True).item()"
   ]
  },
  {
   "cell_type": "code",
   "execution_count": null,
   "id": "2bc5801c",
   "metadata": {},
   "outputs": [],
   "source": [
    "L500_n1 = np.load(os.path.join(data_dir, \"patches_vs_suave_data/1rlz_per_m/401mocks/stats_8patches_vs_suave_L500_n1e-4_x.npy\"), allow_pickle=True).item()"
   ]
  },
  {
   "cell_type": "code",
   "execution_count": null,
   "id": "a0423310",
   "metadata": {},
   "outputs": [],
   "source": [
    "L500_n4 = np.load(os.path.join(data_dir, \"patches_vs_suave_data/1rlz_per_m/401mocks/stats_8patches_vs_suave_L500_n4e-4_x.npy\"), allow_pickle=True).item()"
   ]
  },
  {
   "cell_type": "code",
   "execution_count": null,
   "id": "0e3c7473",
   "metadata": {},
   "outputs": [],
   "source": [
    "L1000_n1 = np.load(os.path.join(data_dir, \"patches_vs_suave_data/1rlz_per_m/401mocks/stats_8patches_vs_suave_L1000_n1e-4_x.npy\"), allow_pickle=True).item()"
   ]
  },
  {
   "cell_type": "code",
   "execution_count": null,
   "id": "97eb4a98",
   "metadata": {},
   "outputs": [],
   "source": [
    "L1000_n4 = np.load(os.path.join(data_dir, \"patches_vs_suave_data/1rlz_per_m/401mocks/stats_8patches_vs_suave_L1000_n4e-4_x.npy\"), allow_pickle=True).item()"
   ]
  },
  {
   "cell_type": "markdown",
   "id": "beb48444",
   "metadata": {},
   "source": [
    "### suave: boxsize vs. precision"
   ]
  },
  {
   "cell_type": "code",
   "execution_count": null,
   "id": "05b117b9",
   "metadata": {},
   "outputs": [],
   "source": [
    "# hold number density constant at 2e-4\n",
    "std_L500_n2 = L500_n2[\"std_suave\"]\n",
    "std_L750_n2 = L750_n2[\"std_suave\"]\n",
    "std_L1000_n2 = L1000_n2[\"std_suave\"]\n",
    "stds_n2 = [std_L500_n2, std_L750_n2, std_L1000_n2]\n",
    "\n",
    "# hold number density constant at 4e-4\n",
    "std_L500_n4 = L500_n4[\"std_suave\"]\n",
    "std_L750_n4 = L750_n4[\"std_suave\"]\n",
    "std_L1000_n4 = L1000_n4[\"std_suave\"]\n",
    "stds_n4 = [std_L500_n4, std_L750_n4, std_L1000_n4]\n",
    "\n",
    "# hold number density constant at 1e-4\n",
    "std_L500_n1 = L500_n1[\"std_suave\"]\n",
    "std_L750_n1 = L750_n1[\"std_suave\"]\n",
    "std_L1000_n1 = L1000_n1[\"std_suave\"]\n",
    "stds_n1 = [std_L500_n1, std_L750_n1, std_L1000_n1]"
   ]
  },
  {
   "cell_type": "code",
   "execution_count": null,
   "id": "89c1f318",
   "metadata": {},
   "outputs": [],
   "source": [
    "Ls = [500, 750, 1000]"
   ]
  },
  {
   "cell_type": "code",
   "execution_count": null,
   "id": "c252e759",
   "metadata": {},
   "outputs": [],
   "source": [
    "fig, ax = plt.subplots()\n",
    "\n",
    "plt.loglog(Ls, stds_n2, \"ko-\", alpha=0.9, label=\"n2e-4\")\n",
    "plt.loglog(Ls, stds_n4, \"ko-\", alpha=0.6, label=\"n4e-4\")\n",
    "plt.loglog(Ls, stds_n1, \"ko-\", alpha=0.3, label=\"n1e-4\")\n",
    "\n",
    "power = -1\n",
    "exp = 1.5e-3*(np.array(Ls)/Ls[1])**(power)\n",
    "plt.loglog(Ls, exp, \"k--\", label=f\"slope {power}\")\n",
    "\n",
    "ax.set_ylim((0.001, 0.0026))\n",
    "ax.set_xlabel(\"log( Boxsize )\")  #($h^{-1}\\,$Mpc)\n",
    "ax.set_ylabel(\"log( std. )\")\n",
    "ax.set_title(\"Boxsize vs. Std, Suave\")\n",
    "plt.legend()\n",
    "\n",
    "a = [ stds_n1[1]/stds_n1[0], stds_n2[1]/stds_n2[0], stds_n4[1]/stds_n4[0] ]\n",
    "b = Ls[0]/Ls[1]"
   ]
  },
  {
   "cell_type": "markdown",
   "id": "b42a15f9",
   "metadata": {},
   "source": [
    "### suave: number density vs. precision"
   ]
  },
  {
   "cell_type": "code",
   "execution_count": null,
   "id": "d902a858",
   "metadata": {},
   "outputs": [],
   "source": [
    "# hold boxsize constant at 750\n",
    "std_L750_n1 = L750_n1[\"std_suave\"]\n",
    "std_L750_n2 = L750_n2[\"std_suave\"]\n",
    "std_L750_n4 = L750_n4[\"std_suave\"]\n",
    "stds_L750 = [std_L750_n1, std_L750_n2, std_L750_n4]\n",
    "\n",
    "# hold boxsize constant at 500\n",
    "std_L500_n1 = L500_n1[\"std_suave\"]\n",
    "std_L500_n2 = L500_n2[\"std_suave\"]\n",
    "std_L500_n4 = L500_n4[\"std_suave\"]\n",
    "stds_L500 = [std_L500_n1, std_L500_n2, std_L500_n4]\n",
    "\n",
    "# hold boxsize constant at 1000\n",
    "std_L1000_n1 = L1000_n1[\"std_suave\"]\n",
    "std_L1000_n2 = L1000_n2[\"std_suave\"]\n",
    "std_L1000_n4 = L1000_n4[\"std_suave\"]\n",
    "stds_L1000 = [std_L1000_n1, std_L1000_n2, std_L1000_n4]"
   ]
  },
  {
   "cell_type": "code",
   "execution_count": null,
   "id": "99b249a9",
   "metadata": {},
   "outputs": [],
   "source": [
    "ns = [1, 2, 4]"
   ]
  },
  {
   "cell_type": "code",
   "execution_count": null,
   "id": "ea1ff14e",
   "metadata": {},
   "outputs": [],
   "source": [
    "fig, ax = plt.subplots()\n",
    "\n",
    "plt.loglog(ns, stds_L500, \"ko-\", alpha=0.3, label=\"L500\")\n",
    "plt.loglog(ns, stds_L750, \"ko-\", alpha=0.6, label=\"L750\")\n",
    "plt.loglog(ns, stds_L1000, \"ko-\", alpha=0.9, label=\"L1000\")\n",
    "\n",
    "power = 0\n",
    "exp = np.array(ns)**(power)-.998\n",
    "print(exp, stds_L500)\n",
    "plt.loglog(ns, exp, \"k--\", label=f\"slope {power}\")\n",
    "\n",
    "ax.set_ylim((0.001, 0.0026))\n",
    "ax.set_xlabel(\"log( Number Density )\")  #($h\\,Mpc^{-1}$)\n",
    "ax.set_ylabel(\"log( std. )\")\n",
    "ax.set_title(\"Number Density vs. Std, Suave\")\n",
    "plt.legend()"
   ]
  },
  {
   "cell_type": "markdown",
   "id": "62517b41",
   "metadata": {},
   "source": [
    "### patches: boxsize vs. precision"
   ]
  },
  {
   "cell_type": "code",
   "execution_count": null,
   "id": "a22de316",
   "metadata": {},
   "outputs": [],
   "source": [
    "# hold number density constant at 2e-4\n",
    "std_L500_n2 = L500_n2[\"std_suave\"]\n",
    "std_L750_n2 = L750_n2[\"std_suave\"]\n",
    "std_L1000_n2 = L1000_n2[\"std_suave\"]\n",
    "stds_n2 = [std_L500_n2, std_L750_n2, std_L1000_n2]\n",
    "\n",
    "# hold number density constant at 4e-4\n",
    "std_L500_n4 = L500_n4[\"std_patches\"]\n",
    "std_L750_n4 = L750_n4[\"std_patches\"]\n",
    "std_L1000_n4 = L1000_n4[\"std_patches\"]\n",
    "stds_n4 = [std_L500_n4, std_L750_n4, std_L1000_n4]\n",
    "\n",
    "# hold number density constant at 1e-4\n",
    "std_L500_n1 = L500_n1[\"std_patches\"]\n",
    "std_L750_n1 = L750_n1[\"std_patches\"]\n",
    "std_L1000_n1 = L1000_n1[\"std_patches\"]\n",
    "stds_n1 = [std_L500_n1, std_L750_n1, std_L1000_n1]"
   ]
  },
  {
   "cell_type": "code",
   "execution_count": null,
   "id": "6bc29377",
   "metadata": {},
   "outputs": [],
   "source": [
    "fig, ax = plt.subplots()\n",
    "\n",
    "plt.loglog(Ls, stds_n1, \"ko-\", alpha=0.3, label=\"n1e-4\")\n",
    "plt.loglog(Ls, stds_n2, \"ko-\", alpha=0.6, label=\"n2e-4\")\n",
    "plt.loglog(Ls, stds_n4, \"ko-\", alpha=0.9, label=\"n4e-4\")\n",
    "\n",
    "power = -1\n",
    "exp = 1.5e-3*(np.array(Ls)/Ls[1])**(power)\n",
    "plt.loglog(Ls, exp, \"k--\", label=f\"slope {power}\")\n",
    "\n",
    "#ax.set_ylim((0.001, 0.0026))\n",
    "ax.set_xlabel(\"log( Boxsize )\")  #($h^{-1}\\,$Mpc)\n",
    "ax.set_ylabel(\"log( std. )\")\n",
    "ax.set_title(\"Boxsize vs. Std, Patches\")\n",
    "plt.legend()"
   ]
  },
  {
   "cell_type": "markdown",
   "id": "5b94bbf8",
   "metadata": {},
   "source": [
    "### patches: number density vs. precision"
   ]
  },
  {
   "cell_type": "code",
   "execution_count": null,
   "id": "a44090c2",
   "metadata": {},
   "outputs": [],
   "source": [
    "# hold boxsize constant at 750\n",
    "std_L750_n1 = L750_n1[\"std_patches\"]\n",
    "std_L750_n2 = L750_n2[\"std_patches\"]\n",
    "std_L750_n4 = L750_n4[\"std_patches\"]\n",
    "stds_L750 = [std_L750_n1, std_L750_n2, std_L750_n4]\n",
    "\n",
    "# hold boxsize constant at 500\n",
    "std_L500_n1 = L500_n1[\"std_patches\"]\n",
    "std_L500_n2 = L500_n2[\"std_patches\"]\n",
    "std_L500_n4 = L500_n4[\"std_patches\"]\n",
    "stds_L500 = [std_L500_n1, std_L500_n2, std_L500_n4]\n",
    "\n",
    "# hold boxsize constant at 1000\n",
    "std_L1000_n1 = L1000_n1[\"std_patches\"]\n",
    "std_L1000_n2 = L1000_n2[\"std_patches\"]\n",
    "std_L1000_n4 = L1000_n4[\"std_patches\"]\n",
    "stds_L1000 = [std_L1000_n1, std_L1000_n2, std_L1000_n4]"
   ]
  },
  {
   "cell_type": "code",
   "execution_count": null,
   "id": "91e28018",
   "metadata": {},
   "outputs": [],
   "source": [
    "fig, ax = plt.subplots()\n",
    "\n",
    "plt.loglog(ns, stds_L500, \"ko-\", alpha=0.3, label=\"L500\")\n",
    "plt.loglog(ns, stds_L750, \"ko-\", alpha=0.6, label=\"L750\")\n",
    "plt.loglog(ns, stds_L1000, \"ko-\", alpha=0.9, label=\"L1000\")\n",
    "\n",
    "power = 0\n",
    "exp = np.array(ns)**(power)-.998\n",
    "print(exp, stds_L500)\n",
    "plt.loglog(ns, exp, \"k--\", label=f\"slope {power}\")\n",
    "\n",
    "#ax.set_ylim((0.001, 0.0026))\n",
    "ax.set_xlabel(\"log( Number Density )\")  #($h\\,Mpc^{-1}$)\n",
    "ax.set_ylabel(\"log( std. )\")\n",
    "ax.set_title(\"Number Density vs. Std, Patches\")\n",
    "plt.legend()"
   ]
  },
  {
   "cell_type": "markdown",
   "id": "1d65c688",
   "metadata": {},
   "source": [
    "### check number density limit"
   ]
  },
  {
   "cell_type": "code",
   "execution_count": null,
   "id": "a5c21571",
   "metadata": {},
   "outputs": [],
   "source": [
    "# load in mocks\n",
    "mock_path = os.path.join(data_dir, \"patches_vs_suave_data/1rlz_per_m/41mocks\")\n",
    "# 401 mocks, L500; suave\n",
    "mock_L500_1e6 = np.load(os.path.join(mock_path, \"stats_8patches_vs_suave_L500_n1e-6_x.npy\"), allow_pickle=True).item()\n",
    "mock_L500_1e5 = np.load(os.path.join(mock_path, \"stats_8patches_vs_suave_L500_n1e-5_x.npy\"), allow_pickle=True).item()\n",
    "mock_L500_1e4 = np.load(os.path.join(mock_path, \"stats_8patches_vs_suave_L500_n1e-4_x.npy\"), allow_pickle=True).item()\n",
    "mock_L500_2e4 = np.load(os.path.join(mock_path, \"stats_8patches_vs_suave_L500_n2e-4_x.npy\"), allow_pickle=True).item()\n",
    "mock_L500_4e4 = np.load(os.path.join(mock_path, \"stats_8patches_vs_suave_L500_n4e-4_x.npy\"), allow_pickle=True).item()\n",
    "\n",
    "# 401 mocks, L1500; suave\n",
    "mock_L1500_1e6 = np.load(os.path.join(mock_path, \"stats_8patches_vs_suave_L1500_n1e-6_x.npy\"), allow_pickle=True).item()\n",
    "mock_L1500_1e5 = np.load(os.path.join(mock_path, \"stats_8patches_vs_suave_L1500_n1e-5_x.npy\"), allow_pickle=True).item()\n",
    "mock_L1500_1e4 = np.load(os.path.join(mock_path, \"stats_8patches_vs_suave_L1500_n1e-4_x.npy\"), allow_pickle=True).item()"
   ]
  },
  {
   "cell_type": "code",
   "execution_count": null,
   "id": "9e0a1c62",
   "metadata": {},
   "outputs": [],
   "source": [
    "stds_L500 = [\n",
    "    mock_L500_1e6[\"std_suave\"],\n",
    "    mock_L500_1e5[\"std_suave\"],\n",
    "    mock_L500_1e4[\"std_suave\"],\n",
    "    mock_L500_2e4[\"std_suave\"],\n",
    "    mock_L500_4e4[\"std_suave\"]\n",
    "]\n",
    "stds_L1500 = [\n",
    "    mock_L1500_1e6[\"std_suave\"],\n",
    "    mock_L1500_1e5[\"std_suave\"],\n",
    "    mock_L1500_1e4[\"std_suave\"]\n",
    "]\n",
    "ns = [1e-6, 1e-5, 1e-4, 2e-4, 4e-4]"
   ]
  },
  {
   "cell_type": "code",
   "execution_count": null,
   "id": "ec4abae1",
   "metadata": {},
   "outputs": [],
   "source": [
    "fig, ax = plt.subplots()\n",
    "\n",
    "plt.loglog(ns, stds_L500, \"ko-\", alpha=0.5, label=\"L500\")\n",
    "plt.loglog(ns[:3], stds_L1500, \"ko-\", alpha=0.9, label=\"L1500\")\n",
    "\n",
    "#ax.set_ylim((0.001, 0.0026))\n",
    "ax.set_xlabel(\"log( Number Density )\")  #($h\\,Mpc^{-1}$)\n",
    "ax.set_ylabel(\"log( std. )\")\n",
    "ax.set_title(\"Number Density vs. Std, Suave, 41 mocks\")\n",
    "plt.legend()"
   ]
  },
  {
   "cell_type": "code",
   "execution_count": null,
   "id": "3b9121ca",
   "metadata": {},
   "outputs": [],
   "source": []
  }
 ],
 "metadata": {
  "kernelspec": {
   "display_name": "Python 3",
   "language": "python",
   "name": "python3"
  },
  "language_info": {
   "codemirror_mode": {
    "name": "ipython",
    "version": 3
   },
   "file_extension": ".py",
   "mimetype": "text/x-python",
   "name": "python",
   "nbconvert_exporter": "python",
   "pygments_lexer": "ipython3",
   "version": "3.9.2"
  }
 },
 "nbformat": 4,
 "nbformat_minor": 5
}
