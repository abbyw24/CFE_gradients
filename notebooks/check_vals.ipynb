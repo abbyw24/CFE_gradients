{
 "cells": [
  {
   "cell_type": "code",
   "execution_count": 5,
   "id": "f6fcf5d4",
   "metadata": {},
   "outputs": [],
   "source": [
    "import numpy as np\n",
    "import matplotlib.pyplot as plt\n",
    "import matplotlib\n",
    "import sys\n",
    "import os"
   ]
  },
  {
   "cell_type": "code",
   "execution_count": 6,
   "id": "6d291696",
   "metadata": {},
   "outputs": [],
   "source": [
    "abs_path = \"/scratch/aew492/research-summer2020_output/1D/\""
   ]
  },
  {
   "cell_type": "code",
   "execution_count": 10,
   "id": "0aea10c2",
   "metadata": {},
   "outputs": [],
   "source": [
    "def load_info(abs_path, file):\n",
    "    info = np.load(os.path.join(abs_path, file), allow_pickle=True).item()\n",
    "    return info\n",
    "\n",
    "def mock_file(n, L, nx, rlz, m, b):\n",
    "    if nx == 2:\n",
    "        As_str = '_As2x'\n",
    "    elif nx == 1:\n",
    "        As_str = ''\n",
    "        \n",
    "    file = \"mock_data/{}/cat_L{}_n{}_z057_patchy{}_lognormal_rlz{}_m-{:.3f}-L_b-{:.3f}.npy\".format(n, L, n, As_str, rlz, m, b)\n",
    "    return file"
   ]
  },
  {
   "cell_type": "code",
   "execution_count": 23,
   "id": "c368bad5",
   "metadata": {},
   "outputs": [],
   "source": [
    "n = '1e-4'\n",
    "L = 750\n",
    "\n",
    "rlz = 0\n",
    "m = 0\n",
    "b = 0.5\n",
    "mock2 = load_info(abs_path, mock_file(n, L, 2, rlz, m, b))\n",
    "mock1 = load_info(abs_path, mock_file(n, L, 1, rlz, m, b))"
   ]
  },
  {
   "cell_type": "code",
   "execution_count": 24,
   "id": "036a59a9",
   "metadata": {},
   "outputs": [
    {
     "data": {
      "text/plain": [
       "dict_keys(['mock_file_name', 'mock_name', 'lognorm_rlz', 'm', 'b', 'lognorm_density', 'boxsize', 'w_hat', 'grad_expected', 'lognorm_set', 'velocities', 'rand_set', 'clust_set', 'unclust_set', 'grad_set'])"
      ]
     },
     "execution_count": 24,
     "metadata": {},
     "output_type": "execute_result"
    }
   ],
   "source": [
    "mock2.keys()"
   ]
  },
  {
   "cell_type": "code",
   "execution_count": 25,
   "id": "53d1eb68",
   "metadata": {},
   "outputs": [
    {
     "data": {
      "text/plain": [
       "(3, 43212)"
      ]
     },
     "execution_count": 25,
     "metadata": {},
     "output_type": "execute_result"
    }
   ],
   "source": [
    "mock2[\"lognorm_set\"].shape"
   ]
  },
  {
   "cell_type": "code",
   "execution_count": 26,
   "id": "6e16d9ce",
   "metadata": {},
   "outputs": [
    {
     "data": {
      "text/plain": [
       "(3, 42876)"
      ]
     },
     "execution_count": 26,
     "metadata": {},
     "output_type": "execute_result"
    }
   ],
   "source": [
    "mock1[\"lognorm_set\"].shape"
   ]
  },
  {
   "cell_type": "code",
   "execution_count": 22,
   "id": "6c4ebd26",
   "metadata": {},
   "outputs": [
    {
     "data": {
      "text/plain": [
       "42187.5"
      ]
     },
     "execution_count": 22,
     "metadata": {},
     "output_type": "execute_result"
    }
   ],
   "source": [
    "# [n] = # / vol. = # / (length**3)\n",
    "# [L] = length\n",
    "# [#] = #\n",
    "# [n] * [L**3] == (# / (length**3)) * (length**3) == #\n",
    "float(n) * L**3"
   ]
  },
  {
   "cell_type": "code",
   "execution_count": null,
   "id": "5d9d25f8",
   "metadata": {},
   "outputs": [],
   "source": []
  }
 ],
 "metadata": {
  "kernelspec": {
   "display_name": "Python 3",
   "language": "python",
   "name": "python3"
  },
  "language_info": {
   "codemirror_mode": {
    "name": "ipython",
    "version": 3
   },
   "file_extension": ".py",
   "mimetype": "text/x-python",
   "name": "python",
   "nbconvert_exporter": "python",
   "pygments_lexer": "ipython3",
   "version": "3.9.2"
  }
 },
 "nbformat": 4,
 "nbformat_minor": 5
}
