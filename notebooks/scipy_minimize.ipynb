{
 "cells": [
  {
   "cell_type": "code",
   "execution_count": 1,
   "id": "9e6c90c6",
   "metadata": {},
   "outputs": [],
   "source": [
    "import numpy as np\n",
    "import matplotlib.pyplot as plt\n",
    "import scipy\n",
    "import os\n",
    "import sys\n",
    "\n",
    "sys.path.insert(0, '/home/aew492/research-summer2020/code')\n",
    "from suave import cf_model"
   ]
  },
  {
   "cell_type": "code",
   "execution_count": 2,
   "id": "2cde7619",
   "metadata": {},
   "outputs": [],
   "source": [
    "# scipy.optimize.minimize(function, x0, method=None, jac=None, bounds=None): (other optional args; see docs.)\n",
    "#   takes in a function to minimize: we will pass chi-squared\n",
    "#   takes the jacobian as an optional arg: see below\n",
    "#   ALSO importantly takes parameter bounds as an optional arg: we will constrain B_sq > 0\n",
    "#   we'll use method='L-BFGS-B'\n",
    "\n",
    "# x = params = [ B_sq, a1, a2, a3]   shape (4,1)\n",
    "# y = L-S results   shape (22,)\n",
    "# A = feature matrix (including xi_mod)   shape (22,4)\n",
    "# C = covariance matrix   shape (22,22)\n",
    "\n",
    "# resid = y - A@x = (22,) - (22,4)(4,1) = (22,)\n",
    "# resid @ (Cinv@resid) = (22,) @ (22,22)(22,) = (22,)(22,) ?? ==> (1,22)(22,) = (1,)\n",
    "\n",
    "# resid = (22,)\n",
    "# -2*A.T @ (Cinv@resid) = (4,22) @ (22,22)(22,) = (4,22)(22,) = (4,)\n",
    "\n",
    "#   def chisq(x, A, y, Cinv)\n",
    "#     resid = y-A@x\n",
    "#     return resid @ (Cinv @ resid)\n",
    "\n",
    "# Jacobian\n",
    "#   def jacobian(x, A, y, Cinv)\n",
    "#     resid = y-A@x\n",
    "#     return -2*A.T@(Cinv @ resid)"
   ]
  },
  {
   "cell_type": "code",
   "execution_count": 3,
   "id": "7abf9fa0",
   "metadata": {},
   "outputs": [],
   "source": [
    "def chisq(x, A, y, Cinv):\n",
    "    resid = y - A@x\n",
    "    return resid @ (Cinv @ resid)"
   ]
  },
  {
   "cell_type": "code",
   "execution_count": 4,
   "id": "2c020925",
   "metadata": {},
   "outputs": [],
   "source": [
    "def jacobian(x, A, y, Cinv):\n",
    "    resid = y - A@x\n",
    "    return -2*A.T @ (Cinv @ resid)  # essentially returns the derivative of chi-squared"
   ]
  },
  {
   "cell_type": "markdown",
   "id": "ef262d9d",
   "metadata": {},
   "source": [
    "### test: lognormal"
   ]
  },
  {
   "cell_type": "code",
   "execution_count": 5,
   "id": "0cb512da",
   "metadata": {},
   "outputs": [],
   "source": [
    "rlz = 0\n",
    "cat_tag = 'L750_n1e-4_z057_patchy_As2x'\n",
    "alpha = 1.0"
   ]
  },
  {
   "cell_type": "code",
   "execution_count": 6,
   "id": "b8d8ef9f",
   "metadata": {},
   "outputs": [],
   "source": [
    "# other parameters\n",
    "cosmo_base = None\n",
    "redshift = 0.57\n",
    "bias = 2.0"
   ]
  },
  {
   "cell_type": "code",
   "execution_count": 7,
   "id": "c571cba9",
   "metadata": {},
   "outputs": [],
   "source": [
    "# load in values\n",
    "data_dir = '/scratch/aew492/research-summer2020_output/'\n",
    "\n",
    "# y = L-S results\n",
    "xi_ls = np.load(os.path.join(data_dir, f'lognormal/xi/ls/{cat_tag}/xi_ls_3x_{cat_tag}_rlz{rlz}_lognormal.npy'))\n",
    "r_avg = xi_ls[0]\n",
    "y = xi_ls[1]\n",
    "nbins = len(r_avg)"
   ]
  },
  {
   "cell_type": "code",
   "execution_count": 8,
   "id": "27d0fc93",
   "metadata": {},
   "outputs": [
    {
     "data": {
      "text/plain": [
       "(22, 4)"
      ]
     },
     "execution_count": 8,
     "metadata": {},
     "output_type": "execute_result"
    }
   ],
   "source": [
    "# A = feature matrix\n",
    "xi_mod = cf_model(alpha*r_avg, cosmo_base=cosmo_base, redshift=redshift, bias=bias)\n",
    "A = np.array([xi_mod, 1/r_avg**2, 1/r_avg, np.ones(nbins)]).T\n",
    "A.shape"
   ]
  },
  {
   "cell_type": "code",
   "execution_count": 9,
   "id": "2d8ef704",
   "metadata": {},
   "outputs": [],
   "source": [
    "# covariance matrix\n",
    "nmocks = 401\n",
    "xi_lss = np.empty((nmocks, nbins))\n",
    "\n",
    "for rlz in range(nmocks):\n",
    "    xi_ls = np.load(os.path.join(data_dir, f'lognormal/xi/ls/{cat_tag}/xi_ls_3x_{cat_tag}_rlz{rlz}_lognormal.npy'), allow_pickle=True)\n",
    "    xi_lss[rlz] = xi_ls[1]\n",
    "    \n",
    "cov_full = np.cov(xi_lss.T)\n",
    "Cinv = np.linalg.inv(cov_full)   # !!! change this! so that we don't have to use Cinv; this function is too unstable"
   ]
  },
  {
   "cell_type": "code",
   "execution_count": 10,
   "id": "96d8dc8b",
   "metadata": {},
   "outputs": [],
   "source": [
    "# other parameters for minimize function\n",
    "x0 = np.ones(4)   #[2,0,0,0]   # initial parameters guess\n",
    "\n",
    "bnds = ((0, None), (None, None), (None, None), (None, None))   # bounds for parameters (B_sq > 0)"
   ]
  },
  {
   "cell_type": "markdown",
   "id": "ae3db393",
   "metadata": {},
   "source": [
    "### scipy.optimize.minimize"
   ]
  },
  {
   "cell_type": "code",
   "execution_count": 11,
   "id": "3db3d66e",
   "metadata": {
    "scrolled": true
   },
   "outputs": [],
   "source": [
    "# we don't actually calculate chi-squared or the jacobian ourselves; instead, we pass these functions to scipy.minimize\n",
    "minimize = scipy.optimize.minimize(chisq, x0, args=(A,y,Cinv), method='L-BFGS-B', jac=jacobian, bounds=bnds)"
   ]
  },
  {
   "cell_type": "code",
   "execution_count": 12,
   "id": "425f36ce",
   "metadata": {},
   "outputs": [
    {
     "data": {
      "text/plain": [
       "      fun: 23.623668700485844\n",
       " hess_inv: <4x4 LbfgsInvHessProduct with dtype=float64>\n",
       "      jac: array([1.51274411e-04, 1.52516153e-06, 3.94408164e-05, 4.99866194e-03])\n",
       "  message: 'CONVERGENCE: REL_REDUCTION_OF_F_<=_FACTR*EPSMCH'\n",
       "     nfev: 57\n",
       "      nit: 48\n",
       "     njev: 57\n",
       "   status: 0\n",
       "  success: True\n",
       "        x: array([ 2.27476994e+00, -4.71953282e+01,  7.25191400e-01, -2.31699545e-03])"
      ]
     },
     "execution_count": 12,
     "metadata": {},
     "output_type": "execute_result"
    }
   ],
   "source": [
    "minimize"
   ]
  },
  {
   "cell_type": "markdown",
   "id": "0b72374d",
   "metadata": {},
   "source": [
    "## function it"
   ]
  },
  {
   "cell_type": "code",
   "execution_count": 13,
   "id": "e157d663",
   "metadata": {},
   "outputs": [],
   "source": [
    "def minimize_chisq(rlz, cov, extra_info=False, cat_tag='L750_n1e-4_z057_patchy_As2x', data_dir='/scratch/aew492/research-summer2020_output/',\n",
    "                   alpha=1.0, cosmo_base=None, redshift=0.57, bias=2.0):\n",
    "    # y = L-S results\n",
    "    xi_ls = np.load(os.path.join(data_dir, f'lognormal/xi/ls/{cat_tag}/xi_ls_3x_{cat_tag}_rlz{rlz}_lognormal.npy'))\n",
    "    r_avg = xi_ls[0]\n",
    "    y = xi_ls[1]\n",
    "    nbins = len(r_avg)\n",
    "    \n",
    "    # A = feature matrix\n",
    "    xi_mod = cf_model(alpha*r_avg, cosmo_base=cosmo_base, redshift=redshift, bias=bias)\n",
    "    A = np.array([xi_mod, 1/r_avg**2, 1/r_avg, np.ones(nbins)]).T\n",
    "    \n",
    "    # covariance\n",
    "    Cinv = np.linalg.inv(cov)\n",
    "    \n",
    "    # other parameters for minimize function\n",
    "    x0 = np.ones(4)   # initial parameters guess\n",
    "    jacob = jacobian(x0, A, y, Cinv)   # jacobian matrix\n",
    "    bnds = ((0, None), (None, None), (None, None), (None, None))   # bounds for parameters (B_sq > 0)\n",
    "    \n",
    "    params = scipy.optimize.minimize(chisq, x0, args=(A,y,Cinv), method='L-BFGS-B', jac=jacobian, bounds=bnds)\n",
    "    \n",
    "    return params if extra_info else params['x']"
   ]
  },
  {
   "cell_type": "code",
   "execution_count": 14,
   "id": "6859d531",
   "metadata": {},
   "outputs": [],
   "source": [
    "nmocks = 401\n",
    "params = np.empty((nmocks,4))\n",
    "for rlz in range(nmocks):\n",
    "    x = minimize_chisq(rlz, cov_full)\n",
    "    params[rlz] = x"
   ]
  },
  {
   "cell_type": "code",
   "execution_count": 15,
   "id": "53d6aafe",
   "metadata": {},
   "outputs": [
    {
     "data": {
      "text/plain": [
       "Text(0, 0.5, '# mocks')"
      ]
     },
     "execution_count": 15,
     "metadata": {},
     "output_type": "execute_result"
    },
    {
     "data": {
      "image/png": "[encoded data removed]",
      "text/plain": [
       "<Figure size 432x288 with 1 Axes>"
      ]
     },
     "metadata": {
      "needs_background": "light"
     },
     "output_type": "display_data"
    }
   ],
   "source": [
    "plt.hist(params[:,0])\n",
    "plt.xlabel(r'$B^2$')\n",
    "plt.ylabel('# mocks')"
   ]
  },
  {
   "cell_type": "code",
   "execution_count": 16,
   "id": "d3ecf500",
   "metadata": {},
   "outputs": [
    {
     "data": {
      "text/plain": [
       "Text(0.5, 0.98, 'Distribution of parameters, 401 lognormal mocks, L750_n1e-4_z057_patchy_As2x: $\\\\alpha = 1.0$')"
      ]
     },
     "execution_count": 16,
     "metadata": {},
     "output_type": "execute_result"
    },
    {
     "data": {
      "image/png": "[encoded data removed]",
      "text/plain": [
       "<Figure size 864x576 with 4 Axes>"
      ]
     },
     "metadata": {
      "needs_background": "light"
     },
     "output_type": "display_data"
    }
   ],
   "source": [
    "fig, axs = plt.subplots(2,2,figsize=(12,8))\n",
    "axs[0,0].hist(params[:,0])\n",
    "axs[0,0].set_xlabel(r'$B^2$')\n",
    "axs[0,0].set_ylabel('# mocks')\n",
    "axs[0,1].hist(params[:,1])\n",
    "axs[0,1].set_xlabel('a1')\n",
    "\n",
    "axs[1,0].hist(params[:,2])\n",
    "axs[1,0].set_xlabel('a2')\n",
    "axs[1,0].set_ylabel('# mocks')\n",
    "axs[1,1].hist(params[:,3])\n",
    "axs[1,1].set_xlabel('a3')\n",
    "\n",
    "fig.suptitle(fr'Distribution of parameters, 401 lognormal mocks, {cat_tag}: $\\alpha = 1.0$')"
   ]
  },
  {
   "cell_type": "markdown",
   "id": "60bc5198",
   "metadata": {},
   "source": [
    "## loaded data"
   ]
  },
  {
   "cell_type": "code",
   "execution_count": 24,
   "id": "6b6d870c",
   "metadata": {},
   "outputs": [],
   "source": [
    "nmocks = 401\n",
    "params = np.empty((nmocks,4))\n",
    "for rlz in range(nmocks):\n",
    "    data = np.load(os.path.join(data_dir, f'bases/4-parameter_fit/scipy/results_lognormal_{cat_tag}/basis_lognormal_{cat_tag}_rlz{rlz}_lognormal.npy'), allow_pickle=True).item()\n",
    "    params[rlz] = data['B_sq'], data['a1'], data['a2'], data['a3']"
   ]
  },
  {
   "cell_type": "code",
   "execution_count": 27,
   "id": "4f4438a5",
   "metadata": {},
   "outputs": [
    {
     "data": {
      "text/plain": [
       "Text(0.5, 0.98, 'Distribution of parameters, 401 lognormal mocks, L750_n1e-4_z057_patchy_As2x')"
      ]
     },
     "execution_count": 27,
     "metadata": {},
     "output_type": "execute_result"
    },
    {
     "data": {
      "image/png": "[encoded data removed]",
      "text/plain": [
       "<Figure size 864x576 with 4 Axes>"
      ]
     },
     "metadata": {
      "needs_background": "light"
     },
     "output_type": "display_data"
    }
   ],
   "source": [
    "fig, axs = plt.subplots(2,2,figsize=(12,8))\n",
    "axs[0,0].hist(params[:,0])\n",
    "axs[0,0].set_xlabel(r'$B^2$')\n",
    "axs[0,0].set_ylabel('# mocks')\n",
    "axs[0,1].hist(params[:,1])\n",
    "axs[0,1].set_xlabel('a1')\n",
    "\n",
    "axs[1,0].hist(params[:,2])\n",
    "axs[1,0].set_xlabel('a2')\n",
    "axs[1,0].set_ylabel('# mocks')\n",
    "axs[1,1].hist(params[:,3])\n",
    "axs[1,1].set_xlabel('a3')\n",
    "\n",
    "fig.suptitle(fr'Distribution of parameters, 401 lognormal mocks, {cat_tag}')"
   ]
  },
  {
   "cell_type": "markdown",
   "id": "04ce9ad1",
   "metadata": {},
   "source": [
    "### distribution of alphas"
   ]
  },
  {
   "cell_type": "code",
   "execution_count": 29,
   "id": "ad41d69d",
   "metadata": {},
   "outputs": [],
   "source": [
    "old_fit_alphas = np.ones(nmocks)\n",
    "bao_alphas = np.ones(nmocks)\n",
    "new_fit_alphas = np.ones(nmocks)\n",
    "\n",
    "for rlz in range(nmocks):\n",
    "    # old 4-parameter fit results, with full covariance matrix\n",
    "    fit_results = np.load(os.path.join(data_dir, f'bases/4-parameter_fit/full/results_lognormal_{cat_tag}/basis_lognormal_{cat_tag}_rlz{rlz}_lognormal.npy'), allow_pickle=True).item()\n",
    "    B_sq_old = fit_results['B_sq']\n",
    "    a1_old = fit_results['a1']\n",
    "    a2_old = fit_results['a2']\n",
    "    a3_old = fit_results['a3']\n",
    "    old_fit_alpha = fit_results['best_alpha']\n",
    "    \n",
    "    # bao iterative results\n",
    "    bao_results = np.load(os.path.join(data_dir, f'bases/bao_iterative/results/results_lognormal_{cat_tag}/converged/cf_baoiter_cosmoplanck15_test_trrnum_3x_{cat_tag}_rlz{rlz}_lognormal.npy'), allow_pickle=True)\n",
    "    rcont, bao_basis, _, _, extra_dict = bao_results\n",
    "    bao_alpha = extra_dict['alpha_model']\n",
    "    \n",
    "    # new scipy fit\n",
    "    scipy_results = np.load(os.path.join(data_dir, f'bases/4-parameter_fit/scipy/results_lognormal_{cat_tag}/basis_lognormal_{cat_tag}_rlz{rlz}_lognormal.npy'), allow_pickle=True).item()\n",
    "    B_sq_new = scipy_results['B_sq']\n",
    "    a1_new = scipy_results['a1']\n",
    "    a2_new = scipy_results['a2']\n",
    "    a3_new = scipy_results['a3']\n",
    "    new_fit_alpha = scipy_results['best_alpha']\n",
    "    \n",
    "    old_fit_alphas[rlz] = old_fit_alpha\n",
    "    bao_alphas[rlz] = bao_alpha\n",
    "    new_fit_alphas[rlz] = new_fit_alpha"
   ]
  },
  {
   "cell_type": "code",
   "execution_count": 33,
   "id": "3376b585",
   "metadata": {},
   "outputs": [
    {
     "data": {
      "text/plain": [
       "<matplotlib.legend.Legend at 0x14ada828b130>"
      ]
     },
     "execution_count": 33,
     "metadata": {},
     "output_type": "execute_result"
    },
    {
     "data": {
      "image/png": "[encoded data removed]",
      "text/plain": [
       "<Figure size 432x288 with 1 Axes>"
      ]
     },
     "metadata": {
      "needs_background": "light"
     },
     "output_type": "display_data"
    }
   ],
   "source": [
    "alpha = 0.5\n",
    "\n",
    "fig, ax = plt.subplots()\n",
    "\n",
    "_, bins, _ = ax.hist(old_fit_alphas, bins=nbins, alpha=alpha, label='old 4-param fit')\n",
    "ax.hist(bao_alphas, bins=bins, alpha=alpha, label='bao_iterative')\n",
    "ax.hist(new_fit_alphas, bins=bins, alpha=alpha, color='darkgreen', label=f'new (scipy) fit ($B^2 > 0$)')\n",
    "ax.set_title(f'alpha distribution, {cat_tag} lognormal, 401 mocks')\n",
    "ax.set_xlabel('alpha')\n",
    "ax.set_ylabel('# rlzs')\n",
    "plt.legend()"
   ]
  },
  {
   "cell_type": "code",
   "execution_count": null,
   "id": "b51b429d",
   "metadata": {},
   "outputs": [],
   "source": []
  }
 ],
 "metadata": {
  "kernelspec": {
   "display_name": "Python 3",
   "language": "python",
   "name": "python3"
  },
  "language_info": {
   "codemirror_mode": {
    "name": "ipython",
    "version": 3
   },
   "file_extension": ".py",
   "mimetype": "text/x-python",
   "name": "python",
   "nbconvert_exporter": "python",
   "pygments_lexer": "ipython3",
   "version": "3.9.2"
  }
 },
 "nbformat": 4,
 "nbformat_minor": 5
}
