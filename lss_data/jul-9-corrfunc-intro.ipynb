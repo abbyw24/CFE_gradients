{
 "cells": [
  {
   "cell_type": "code",
   "execution_count": 11,
   "metadata": {},
   "outputs": [],
   "source": [
    "import numpy as np\n",
    "import Corrfunc"
   ]
  },
  {
   "cell_type": "code",
   "execution_count": 12,
   "metadata": {},
   "outputs": [],
   "source": [
    "# read in default Corrfunc galaxies, ~ 1 million in a 420 Mpc/h cube\n",
    "x, y, z = read_catalog()"
   ]
  },
  {
   "cell_type": "code",
   "execution_count": 13,
   "metadata": {},
   "outputs": [],
   "source": [
    "# specify boxsize for xyz arrays\n",
    "boxsize = 420.0"
   ]
  },
  {
   "cell_type": "code",
   "execution_count": 14,
   "metadata": {},
   "outputs": [],
   "source": [
    "# number of threads to use\n",
    "nthreads = 2"
   ]
  },
  {
   "cell_type": "code",
   "execution_count": 15,
   "metadata": {},
   "outputs": [],
   "source": [
    "# create the bins array\n",
    "rmin = 0.1\n",
    "rmax = 20.0\n",
    "nbins = 20\n",
    "rbins = np.logspace(np.log10(rmin), np.log10(rmax), nbins + 1)"
   ]
  },
  {
   "cell_type": "code",
   "execution_count": 16,
   "metadata": {},
   "outputs": [],
   "source": [
    "# specify the distance to integrate along line of sight\n",
    "pimax = 40.0"
   ]
  },
  {
   "cell_type": "code",
   "execution_count": 17,
   "metadata": {},
   "outputs": [],
   "source": [
    "# specify the max of the cosine of the angle to the LOS for DD(s, mu)\n",
    "mu_max = 1.0"
   ]
  },
  {
   "cell_type": "code",
   "execution_count": 18,
   "metadata": {},
   "outputs": [],
   "source": [
    "# specify the number of linear bins in'mu'\n",
    "nmu_bins = 20"
   ]
  },
  {
   "cell_type": "code",
   "execution_count": 19,
   "metadata": {},
   "outputs": [],
   "source": [
    "# specify that an autocorrelation is wanted\n",
    "autocorr = 1"
   ]
  },
  {
   "cell_type": "code",
   "execution_count": 22,
   "metadata": {},
   "outputs": [
    {
     "data": {
      "text/plain": [
       "array([4.19945496e+02, 4.19882721e+02, 3.28799993e-01, ...,\n",
       "       4.14860992e+02, 4.18727905e+02, 4.19772095e+02])"
      ]
     },
     "execution_count": 22,
     "metadata": {},
     "output_type": "execute_result"
    }
   ],
   "source": [
    "x"
   ]
  },
  {
   "cell_type": "markdown",
   "metadata": {},
   "source": [
    "### Calculating 2-D projected auto-correlation"
   ]
  },
  {
   "cell_type": "code",
   "execution_count": 21,
   "metadata": {},
   "outputs": [],
   "source": [
    "results_wp = Corrfunc.theory.wp(boxsize, pimax, nthreads, rbins, x, y, z)"
   ]
  },
  {
   "cell_type": "code",
   "execution_count": 23,
   "metadata": {},
   "outputs": [
    {
     "data": {
      "text/plain": [
       "array([( 0.1       ,  0.13033213, 0., 484.21683219,    255314, 0.),\n",
       "       ( 0.13033213,  0.16986465, 0., 390.33830265,    361528, 0.),\n",
       "       ( 0.16986465,  0.22138822, 0., 314.39875202,    514956, 0.),\n",
       "       ( 0.22138822,  0.28853998, 0., 249.41041196,    730592, 0.),\n",
       "       ( 0.28853998,  0.37606031, 0., 198.54721121,   1049396, 0.),\n",
       "       ( 0.37606031,  0.49012742, 0., 157.7002259 ,   1521154, 0.),\n",
       "       ( 0.49012742,  0.63879351, 0., 123.55374047,   2212716, 0.),\n",
       "       ( 0.63879351,  0.83255321, 0.,  95.00654984,   3231498, 0.),\n",
       "       ( 0.83255321,  1.08508435, 0.,  73.17874333,   4804532, 0.),\n",
       "       ( 1.08508435,  1.41421356, 0.,  56.73124508,   7284896, 0.),\n",
       "       ( 1.41421356,  1.84317469, 0.,  44.69482813,  11285142, 0.),\n",
       "       ( 1.84317469,  2.40224887, 0.,  35.8265183 ,  17806132, 0.),\n",
       "       ( 2.40224887,  3.13090217, 0.,  29.49451736,  28592818, 0.),\n",
       "       ( 3.13090217,  4.08057155, 0.,  24.58707988,  46392270, 0.),\n",
       "       ( 4.08057155,  5.3182959 , 0.,  20.40711795,  75654556, 0.),\n",
       "       ( 5.3182959 ,  6.93144843, 0.,  16.67556152, 123734352, 0.),\n",
       "       ( 6.93144843,  9.03390452, 0.,  13.3121399 , 202868554, 0.),\n",
       "       ( 9.03390452, 11.77408037, 0.,  10.37992784, 333773286, 0.),\n",
       "       (11.77408037, 15.34540998, 0.,   7.51087892, 548964966, 0.),\n",
       "       (15.34540998, 20.        , 0.,   5.25059708, 908412314, 0.)],\n",
       "      dtype=[('rmin', '<f8'), ('rmax', '<f8'), ('rpavg', '<f8'), ('wp', '<f8'), ('npairs', '<u8'), ('weightavg', '<f8')])"
      ]
     },
     "execution_count": 23,
     "metadata": {},
     "output_type": "execute_result"
    }
   ],
   "source": [
    "results_wp"
   ]
  },
  {
   "cell_type": "code",
   "execution_count": null,
   "metadata": {},
   "outputs": [],
   "source": []
  }
 ],
 "metadata": {
  "kernelspec": {
   "display_name": "Python 3",
   "language": "python",
   "name": "python3"
  },
  "language_info": {
   "codemirror_mode": {
    "name": "ipython",
    "version": 3
   },
   "file_extension": ".py",
   "mimetype": "text/x-python",
   "name": "python",
   "nbconvert_exporter": "python",
   "pygments_lexer": "ipython3",
   "version": "3.7.4"
  }
 },
 "nbformat": 4,
 "nbformat_minor": 2
}
