{
 "cells": [
  {
   "cell_type": "code",
   "execution_count": 1,
   "id": "cbb0ac82",
   "metadata": {},
   "outputs": [],
   "source": [
    "import numpy as np\n",
    "import matplotlib.pyplot as plt\n",
    "import scipy\n",
    "import os\n",
    "import sys\n",
    "\n",
    "sys.path.insert(0, '/home/aew492/research-summer2020/code')\n",
    "from suave import cf_model"
   ]
  },
  {
   "cell_type": "code",
   "execution_count": 2,
   "id": "0b7b3957",
   "metadata": {},
   "outputs": [],
   "source": [
    "# scipy.optimize.minimize(function, x0, method=None, jac=None, bounds=None): (other optional args; see docs.)\n",
    "#   takes in a function to minimize: we will pass chi-squared\n",
    "#   takes the jacobian as an optional arg: see below\n",
    "#   ALSO importantly takes parameter bounds as an optional arg: we will constrain B_sq > 0\n",
    "#   we'll use method='L-BFGS-B'\n",
    "\n",
    "# x = params = [ B_sq, a1, a2, a3]   shape (4,1)\n",
    "# y = L-S results   shape (22,)\n",
    "# A = feature matrix (including xi_mod)   shape (22,4)\n",
    "# C = covariance matrix   shape (22,22)\n",
    "\n",
    "# resid = y - A@x = (22,) - (22,4)(4,1) = (22,)\n",
    "# resid @ (Cinv@resid) = (22,) @ (22,22)(22,) = (22,)(22,) ?? ==> (1,22)(22,) = (1,)\n",
    "\n",
    "# resid = (22,)\n",
    "# -2*A.T @ (Cinv@resid) = (4,22) @ (22,22)(22,) = (4,22)(22,) = (4,)\n",
    "\n",
    "#   def chisq(x, A, y, Cinv)\n",
    "#     resid = y-A@x\n",
    "#     return resid @ (Cinv @ resid)\n",
    "\n",
    "# Jacobian\n",
    "#   def jacobian(x, A, y, Cinv)\n",
    "#     resid = y-A@x\n",
    "#     return -2*A.T@(Cinv @ resid)"
   ]
  },
  {
   "cell_type": "code",
   "execution_count": 3,
   "id": "b5933c14",
   "metadata": {},
   "outputs": [],
   "source": [
    "def chisq(x, A, y, Cinv):\n",
    "    resid = y - A@x\n",
    "    return resid @ (Cinv @ resid)"
   ]
  },
  {
   "cell_type": "code",
   "execution_count": 4,
   "id": "d1b8ab21",
   "metadata": {},
   "outputs": [],
   "source": [
    "def jacobian(x, A, y, Cinv):\n",
    "    resid = y - A@x\n",
    "    return -2*A.T @ (Cinv @ resid)  # essentially returns the derivative of chi-squared"
   ]
  },
  {
   "cell_type": "markdown",
   "id": "4a01be32",
   "metadata": {},
   "source": [
    "### test: lognormal"
   ]
  },
  {
   "cell_type": "code",
   "execution_count": 5,
   "id": "74f92f66",
   "metadata": {},
   "outputs": [],
   "source": [
    "rlz = 0\n",
    "cat_tag = 'L750_n1e-4_z057_patchy_As2x'\n",
    "alpha = 1.0"
   ]
  },
  {
   "cell_type": "code",
   "execution_count": 6,
   "id": "92aee3fd",
   "metadata": {},
   "outputs": [],
   "source": [
    "# other parameters\n",
    "cosmo_base = None\n",
    "redshift = 0.57\n",
    "bias = 2.0"
   ]
  },
  {
   "cell_type": "code",
   "execution_count": 7,
   "id": "761e9bd6",
   "metadata": {},
   "outputs": [],
   "source": [
    "# load in values\n",
    "data_dir = '/scratch/aew492/research-summer2020_output/'\n",
    "\n",
    "# y = L-S results\n",
    "xi_ls = np.load(os.path.join(data_dir, f'lognormal/xi/ls/{cat_tag}/xi_ls_3x_{cat_tag}_rlz{rlz}_lognormal.npy'))\n",
    "r_avg = xi_ls[0]\n",
    "y = xi_ls[1]\n",
    "nbins = len(r_avg)"
   ]
  },
  {
   "cell_type": "code",
   "execution_count": 8,
   "id": "f5f1b984",
   "metadata": {},
   "outputs": [
    {
     "data": {
      "text/plain": [
       "(22, 4)"
      ]
     },
     "execution_count": 8,
     "metadata": {},
     "output_type": "execute_result"
    }
   ],
   "source": [
    "# A = feature matrix\n",
    "xi_mod = cf_model(alpha*r_avg, cosmo_base=cosmo_base, redshift=redshift, bias=bias)\n",
    "A = np.array([xi_mod, 1/r_avg**2, 1/r_avg, np.ones(nbins)]).T\n",
    "A.shape"
   ]
  },
  {
   "cell_type": "code",
   "execution_count": 9,
   "id": "ff836779",
   "metadata": {},
   "outputs": [],
   "source": [
    "# covariance matrix\n",
    "nmocks = 401\n",
    "xi_lss = np.empty((nmocks, nbins))\n",
    "\n",
    "for rlz in range(nmocks):\n",
    "    xi_ls = np.load(os.path.join(data_dir, f'lognormal/xi/ls/{cat_tag}/xi_ls_3x_{cat_tag}_rlz{rlz}_lognormal.npy'), allow_pickle=True)\n",
    "    xi_lss[rlz] = xi_ls[1]\n",
    "    \n",
    "cov_full = np.cov(xi_lss.T)\n",
    "Cinv = np.linalg.inv(cov_full)   # !!! change this! so that we don't have to use Cinv; this function is too unstable"
   ]
  },
  {
   "cell_type": "code",
   "execution_count": 10,
   "id": "b11933d4",
   "metadata": {},
   "outputs": [],
   "source": [
    "# other parameters for minimize function\n",
    "x0 = np.ones(4)   #[2,0,0,0]   # initial parameters guess\n",
    "\n",
    "bnds = ((0, None), (None, None), (None, None), (None, None))   # bounds for parameters (B_sq > 0)"
   ]
  },
  {
   "cell_type": "markdown",
   "id": "5f20cf66",
   "metadata": {},
   "source": [
    "### scipy.optimize.minimize"
   ]
  },
  {
   "cell_type": "code",
   "execution_count": 11,
   "id": "f2b08e22",
   "metadata": {
    "scrolled": true
   },
   "outputs": [],
   "source": [
    "# we don't actually calculate chi-squared or the jacobian ourselves; instead, we pass these functions to scipy.minimize\n",
    "minimize = scipy.optimize.minimize(chisq, x0, args=(A,y,Cinv), method='L-BFGS-B', jac=jacobian, bounds=bnds)"
   ]
  },
  {
   "cell_type": "code",
   "execution_count": 12,
   "id": "f3ce4db1",
   "metadata": {},
   "outputs": [
    {
     "data": {
      "text/plain": [
       "      fun: 23.623668700485844\n",
       " hess_inv: <4x4 LbfgsInvHessProduct with dtype=float64>\n",
       "      jac: array([1.51274411e-04, 1.52516153e-06, 3.94408164e-05, 4.99866194e-03])\n",
       "  message: 'CONVERGENCE: REL_REDUCTION_OF_F_<=_FACTR*EPSMCH'\n",
       "     nfev: 57\n",
       "      nit: 48\n",
       "     njev: 57\n",
       "   status: 0\n",
       "  success: True\n",
       "        x: array([ 2.27476994e+00, -4.71953282e+01,  7.25191400e-01, -2.31699545e-03])"
      ]
     },
     "execution_count": 12,
     "metadata": {},
     "output_type": "execute_result"
    }
   ],
   "source": [
    "minimize"
   ]
  },
  {
   "cell_type": "markdown",
   "id": "2bfb5c39",
   "metadata": {},
   "source": [
    "## function it"
   ]
  },
  {
   "cell_type": "code",
   "execution_count": 13,
   "id": "90c51fd6",
   "metadata": {},
   "outputs": [],
   "source": [
    "def minimize_chisq(rlz, cov, extra_info=False, cat_tag='L750_n1e-4_z057_patchy_As2x', data_dir='/scratch/aew492/research-summer2020_output/',\n",
    "                   alpha=1.0, cosmo_base=None, redshift=0.57, bias=2.0):\n",
    "    # y = L-S results\n",
    "    xi_ls = np.load(os.path.join(data_dir, f'lognormal/xi/ls/{cat_tag}/xi_ls_3x_{cat_tag}_rlz{rlz}_lognormal.npy'))\n",
    "    r_avg = xi_ls[0]\n",
    "    y = xi_ls[1]\n",
    "    nbins = len(r_avg)\n",
    "    \n",
    "    # A = feature matrix\n",
    "    xi_mod = cf_model(alpha*r_avg, cosmo_base=cosmo_base, redshift=redshift, bias=bias)\n",
    "    A = np.array([xi_mod, 1/r_avg**2, 1/r_avg, np.ones(nbins)]).T\n",
    "    \n",
    "    # covariance\n",
    "    Cinv = np.linalg.inv(cov)\n",
    "    \n",
    "    # other parameters for minimize function\n",
    "    x0 = np.ones(4)   # initial parameters guess\n",
    "    jacob = jacobian(x0, A, y, Cinv)   # jacobian matrix\n",
    "    bnds = ((0, None), (None, None), (None, None), (None, None))   # bounds for parameters (B_sq > 0)\n",
    "    \n",
    "    params = scipy.optimize.minimize(chisq, x0, args=(A,y,Cinv), method='L-BFGS-B', jac=jacobian, bounds=bnds)\n",
    "    \n",
    "    return params if extra_info else params['x']"
   ]
  },
  {
   "cell_type": "code",
   "execution_count": 14,
   "id": "3aa30cae",
   "metadata": {},
   "outputs": [],
   "source": [
    "nmocks = 401\n",
    "params = np.empty((nmocks,4))\n",
    "for rlz in range(nmocks):\n",
    "    x = minimize_chisq(rlz, cov_full)\n",
    "    params[rlz] = x"
   ]
  },
  {
   "cell_type": "code",
   "execution_count": 15,
   "id": "a4aa5718",
   "metadata": {},
   "outputs": [
    {
     "data": {
      "text/plain": [
       "Text(0, 0.5, '# mocks')"
      ]
     },
     "execution_count": 15,
     "metadata": {},
     "output_type": "execute_result"
    },
    {
     "data": {
      "image/png": "[encoded data removed]",
      "text/plain": [
       "<Figure size 432x288 with 1 Axes>"
      ]
     },
     "metadata": {
      "needs_background": "light"
     },
     "output_type": "display_data"
    }
   ],
   "source": [
    "plt.hist(params[:,0])\n",
    "plt.xlabel(r'$B^2$')\n",
    "plt.ylabel('# mocks')"
   ]
  },
  {
   "cell_type": "code",
   "execution_count": 16,
   "id": "ce5fa111",
   "metadata": {},
   "outputs": [
    {
     "data": {
      "text/plain": [
       "Text(0.5, 0.98, 'Distribution of parameters, 401 lognormal mocks, L750_n1e-4_z057_patchy_As2x: $\\\\alpha = 1.0$')"
      ]
     },
     "execution_count": 16,
     "metadata": {},
     "output_type": "execute_result"
    },
    {
     "data": {
      "image/png": "[encoded data removed]",
      "text/plain": [
       "<Figure size 864x576 with 4 Axes>"
      ]
     },
     "metadata": {
      "needs_background": "light"
     },
     "output_type": "display_data"
    }
   ],
   "source": [
    "fig, axs = plt.subplots(2,2,figsize=(12,8))\n",
    "axs[0,0].hist(params[:,0])\n",
    "axs[0,0].set_xlabel(r'$B^2$')\n",
    "axs[0,0].set_ylabel('# mocks')\n",
    "axs[0,1].hist(params[:,1])\n",
    "axs[0,1].set_xlabel('a1')\n",
    "\n",
    "axs[1,0].hist(params[:,2])\n",
    "axs[1,0].set_xlabel('a2')\n",
    "axs[1,0].set_ylabel('# mocks')\n",
    "axs[1,1].hist(params[:,3])\n",
    "axs[1,1].set_xlabel('a3')\n",
    "\n",
    "fig.suptitle(fr'Distribution of parameters, 401 lognormal mocks, {cat_tag}: $\\alpha = 1.0$')"
   ]
  },
  {
   "cell_type": "markdown",
   "id": "89bb9c96",
   "metadata": {},
   "source": [
    "## loaded data"
   ]
  },
  {
   "cell_type": "code",
   "execution_count": 24,
   "id": "c654fc57",
   "metadata": {},
   "outputs": [],
   "source": [
    "nmocks = 401\n",
    "params = np.empty((nmocks,4))\n",
    "for rlz in range(nmocks):\n",
    "    data = np.load(os.path.join(data_dir, f'bases/4-parameter_fit/scipy/results_lognormal_{cat_tag}/basis_lognormal_{cat_tag}_rlz{rlz}_lognormal.npy'), allow_pickle=True).item()\n",
    "    params[rlz] = data['B_sq'], data['a1'], data['a2'], data['a3']"
   ]
  },
  {
   "cell_type": "code",
   "execution_count": 27,
   "id": "22e55e94",
   "metadata": {},
   "outputs": [
    {
     "data": {
      "text/plain": [
       "Text(0.5, 0.98, 'Distribution of parameters, 401 lognormal mocks, L750_n1e-4_z057_patchy_As2x')"
      ]
     },
     "execution_count": 27,
     "metadata": {},
     "output_type": "execute_result"
    },
    {
     "data": {
      "image/png": "[encoded data removed]",
      "text/plain": [
       "<Figure size 864x576 with 4 Axes>"
      ]
     },
     "metadata": {
      "needs_background": "light"
     },
     "output_type": "display_data"
    }
   ],
   "source": [
    "fig, axs = plt.subplots(2,2,figsize=(12,8))\n",
    "axs[0,0].hist(params[:,0])\n",
    "axs[0,0].set_xlabel(r'$B^2$')\n",
    "axs[0,0].set_ylabel('# mocks')\n",
    "axs[0,1].hist(params[:,1])\n",
    "axs[0,1].set_xlabel('a1')\n",
    "\n",
    "axs[1,0].hist(params[:,2])\n",
    "axs[1,0].set_xlabel('a2')\n",
    "axs[1,0].set_ylabel('# mocks')\n",
    "axs[1,1].hist(params[:,3])\n",
    "axs[1,1].set_xlabel('a3')\n",
    "\n",
    "fig.suptitle(fr'Distribution of parameters, 401 lognormal mocks, {cat_tag}')"
   ]
  },
  {
   "cell_type": "code",
   "execution_count": null,
   "id": "7a2e902e",
   "metadata": {},
   "outputs": [],
   "source": []
  }
 ],
 "metadata": {
  "kernelspec": {
   "display_name": "Python 3",
   "language": "python",
   "name": "python3"
  },
  "language_info": {
   "codemirror_mode": {
    "name": "ipython",
    "version": 3
   },
   "file_extension": ".py",
   "mimetype": "text/x-python",
   "name": "python",
   "nbconvert_exporter": "python",
   "pygments_lexer": "ipython3",
   "version": "3.9.2"
  }
 },
 "nbformat": 4,
 "nbformat_minor": 5
}
