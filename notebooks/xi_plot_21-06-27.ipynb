{
 "cells": [
  {
   "cell_type": "code",
   "execution_count": 1,
   "metadata": {},
   "outputs": [],
   "source": [
    "import numpy as np\n",
    "import matplotlib.pyplot as plt\n",
    "import matplotlib\n",
    "import sys\n",
    "import os\n",
    "\n",
    "sys.path.insert(0, \"/home/aew492/research-summer2020/code\")\n",
    "from suave import cf_model, cosmo_bases\n",
    "import recover_amps\n",
    "import generate_mock_list\n",
    "import globals\n",
    "globals.initialize_vals()\n",
    "cat_tag = globals.cat_tag"
   ]
  },
  {
   "cell_type": "code",
   "execution_count": 2,
   "metadata": {},
   "outputs": [],
   "source": [
    "bias = 2.0\n",
    "# import 'true' cf\n",
    "r_t, cf_t = np.loadtxt(\"/scratch/ksf293/mocks/lognormal/inputs/cat_L750_n2e-4_z057_patchy_As2x_Rh_xi.txt\", unpack=True)\n",
    "cf_t_2 = cf_t * bias**2"
   ]
  },
  {
   "cell_type": "code",
   "execution_count": 3,
   "metadata": {},
   "outputs": [
    {
     "name": "stdout",
     "output_type": "stream",
     "text": [
      "750 1e-4 2 401 1m\n"
     ]
    }
   ],
   "source": [
    "# make sure current global values match 'true' cf\n",
    "print(globals.boxsize, globals.lognormal_density, globals.As, globals.n_mocks, globals.mock_type)"
   ]
  },
  {
   "cell_type": "markdown",
   "metadata": {},
   "source": [
    "### get basis functions"
   ]
  },
  {
   "cell_type": "code",
   "execution_count": 4,
   "metadata": {},
   "outputs": [
    {
     "name": "stdout",
     "output_type": "stream",
     "text": [
      "cosmo_base not provided, defaulting to Planck 2015 cosmology ('planck15')\n"
     ]
    },
    {
     "data": {
      "text/plain": [
       "0.2094052219144891"
      ]
     },
     "execution_count": 4,
     "metadata": {},
     "output_type": "execute_result"
    }
   ],
   "source": [
    "# base_vals: redshift 0.57, bias 2.0\n",
    "projfn = 'cosmo_basis.dat'\n",
    "\n",
    "bases = cosmo_bases(globals.rmin, globals.rmax, projfn, redshift=0.57, bias=2.0)\n",
    "ncomponents = 4*(bases.shape[1]-1)\n",
    "r_base = bases[:,0]\n",
    "base_vals = bases[:,1]\n",
    "base_vals.shape\n",
    "base_vals[0]"
   ]
  },
  {
   "cell_type": "code",
   "execution_count": 5,
   "metadata": {},
   "outputs": [
    {
     "name": "stdout",
     "output_type": "stream",
     "text": [
      "cosmo_base not provided, defaulting to Planck 2015 cosmology ('planck15')\n"
     ]
    },
    {
     "data": {
      "text/plain": [
       "0.09453997058328575"
      ]
     },
     "execution_count": 5,
     "metadata": {},
     "output_type": "execute_result"
    }
   ],
   "source": [
    "# base_vals_0: redshift 0.0, bias 1.0\n",
    "bases_0 = cosmo_bases(globals.rmin, globals.rmax, projfn, redshift=0.0, bias=1.0)\n",
    "ncomponents = 4*(bases.shape[1]-1)\n",
    "r_base = bases_0[:,0]\n",
    "base_vals_0 = bases_0[:,1]\n",
    "base_vals_0.shape\n",
    "base_vals_0[0]"
   ]
  },
  {
   "cell_type": "code",
   "execution_count": 6,
   "metadata": {},
   "outputs": [
    {
     "name": "stdout",
     "output_type": "stream",
     "text": [
      "cosmo_base not provided, defaulting to Planck 2015 cosmology ('planck15')\n"
     ]
    },
    {
     "data": {
      "text/plain": [
       "0.378159882333143"
      ]
     },
     "execution_count": 6,
     "metadata": {},
     "output_type": "execute_result"
    }
   ],
   "source": [
    "# base_vals_2: redshift 0.0, bias 2.0\n",
    "bases_2 = cosmo_bases(globals.rmin, globals.rmax, projfn, redshift=0.0, bias=2.0)\n",
    "ncomponents = 4*(bases.shape[1]-1)\n",
    "r_base = bases_2[:,0]\n",
    "base_vals_2 = bases_2[:,1]\n",
    "base_vals_2.shape\n",
    "base_vals_2[0]"
   ]
  },
  {
   "cell_type": "code",
   "execution_count": 7,
   "metadata": {},
   "outputs": [
    {
     "name": "stdout",
     "output_type": "stream",
     "text": [
      "cosmo_base not provided, defaulting to Planck 2015 cosmology ('planck15')\n"
     ]
    }
   ],
   "source": [
    "# base_vals_2: redshift 0.57, bias 1.0\n",
    "bases_3 = cosmo_bases(globals.rmin, globals.rmax, projfn, redshift=0.57, bias=1.0)\n",
    "ncomponents = 4*(bases.shape[1]-1)\n",
    "r_base = bases_3[:,0]\n",
    "base_vals_3 = bases_3[:,1]"
   ]
  },
  {
   "cell_type": "markdown",
   "metadata": {},
   "source": [
    "### function: mean xi in each bin + error regions"
   ]
  },
  {
   "cell_type": "code",
   "execution_count": 8,
   "metadata": {},
   "outputs": [],
   "source": [
    "def get_cfarr_vals(cf_arr):\n",
    "    arr_len = len(cf_arr[0])\n",
    "    cfs_mean = []\n",
    "    stds = []\n",
    "    error_regions = np.empty((arr_len, 2))\n",
    "    for i in range(arr_len):\n",
    "        mean, std = np.mean(cf_arr[:,i]), np.std(cf_arr[:,i])\n",
    "        cfs_mean.append(mean)\n",
    "        stds.append(std)\n",
    "        error_regions[i] = [mean-std, mean+std]\n",
    "    return cfs_mean, stds, error_regions"
   ]
  },
  {
   "cell_type": "markdown",
   "metadata": {},
   "source": [
    "### recover amps"
   ]
  },
  {
   "cell_type": "code",
   "execution_count": 9,
   "metadata": {},
   "outputs": [],
   "source": [
    "# double amplitudes\n",
    "mock_file_name_list = generate_mock_list.generate_mock_list(As=2)\n",
    "amps_suave = recover_amps.recover_amps(mock_file_name_list, cat_tag, basis='bao_fixed', method=\"suave\")\n",
    "# amps_patches, xi_patches = recover_amps.recover_amps(mock_file_name_list, cat_tag, method=\"patches\", n_patches=8)\n",
    "a_0s_s = amps_suave[:,0]"
   ]
  },
  {
   "cell_type": "markdown",
   "metadata": {},
   "source": [
    "### suave"
   ]
  },
  {
   "cell_type": "code",
   "execution_count": 10,
   "metadata": {},
   "outputs": [],
   "source": [
    "cf_arr_s = np.empty((len(a_0s_s), len(base_vals)))\n",
    "for i in range(len(a_0s_s)):\n",
    "    cf_arr_s[i] = a_0s_s[i] * base_vals\n",
    "        \n",
    "cfs_mean_s, _, error_regions_s = get_cfarr_vals(cf_arr_s)"
   ]
  },
  {
   "cell_type": "markdown",
   "metadata": {},
   "source": [
    "### patches"
   ]
  },
  {
   "cell_type": "code",
   "execution_count": 11,
   "metadata": {},
   "outputs": [
    {
     "ename": "NameError",
     "evalue": "name 'xi_patches' is not defined",
     "output_type": "error",
     "traceback": [
      "\u001b[0;31m---------------------------------------------------------------------------\u001b[0m",
      "\u001b[0;31mNameError\u001b[0m                                 Traceback (most recent call last)",
      "\u001b[0;32m<ipython-input-11-8e26b67f6317>\u001b[0m in \u001b[0;36m<module>\u001b[0;34m\u001b[0m\n\u001b[1;32m      2\u001b[0m \u001b[0mr_avg\u001b[0m \u001b[0;34m=\u001b[0m \u001b[0;36m0.5\u001b[0m\u001b[0;34m*\u001b[0m\u001b[0;34m(\u001b[0m\u001b[0mr_edges\u001b[0m\u001b[0;34m[\u001b[0m\u001b[0;36m1\u001b[0m\u001b[0;34m:\u001b[0m\u001b[0;34m]\u001b[0m\u001b[0;34m+\u001b[0m\u001b[0mr_edges\u001b[0m\u001b[0;34m[\u001b[0m\u001b[0;34m:\u001b[0m\u001b[0;34m-\u001b[0m\u001b[0;36m1\u001b[0m\u001b[0;34m]\u001b[0m\u001b[0;34m)\u001b[0m\u001b[0;34m\u001b[0m\u001b[0;34m\u001b[0m\u001b[0m\n\u001b[1;32m      3\u001b[0m \u001b[0;34m\u001b[0m\u001b[0m\n\u001b[0;32m----> 4\u001b[0;31m \u001b[0mxi_patches\u001b[0m \u001b[0;34m=\u001b[0m \u001b[0mnp\u001b[0m\u001b[0;34m.\u001b[0m\u001b[0marray\u001b[0m\u001b[0;34m(\u001b[0m\u001b[0mxi_patches\u001b[0m\u001b[0;34m)\u001b[0m\u001b[0;34m\u001b[0m\u001b[0;34m\u001b[0m\u001b[0m\n\u001b[0m\u001b[1;32m      5\u001b[0m \u001b[0;34m\u001b[0m\u001b[0m\n\u001b[1;32m      6\u001b[0m \u001b[0mcfs_mean_p\u001b[0m\u001b[0;34m,\u001b[0m \u001b[0mstds_p\u001b[0m\u001b[0;34m,\u001b[0m \u001b[0m_\u001b[0m \u001b[0;34m=\u001b[0m \u001b[0mget_cfarr_vals\u001b[0m\u001b[0;34m(\u001b[0m\u001b[0mxi_patches\u001b[0m\u001b[0;34m)\u001b[0m\u001b[0;34m\u001b[0m\u001b[0;34m\u001b[0m\u001b[0m\n",
      "\u001b[0;31mNameError\u001b[0m: name 'xi_patches' is not defined"
     ]
    }
   ],
   "source": [
    "r_edges = np.linspace(globals.rmin, globals.rmax, globals.nbins+1)\n",
    "r_avg = 0.5*(r_edges[1:]+r_edges[:-1])\n",
    "\n",
    "xi_patches = np.array(xi_patches)\n",
    "\n",
    "cfs_mean_p, stds_p, _ = get_cfarr_vals(xi_patches)"
   ]
  },
  {
   "cell_type": "markdown",
   "metadata": {},
   "source": [
    "### clustered mocks, NO gradient"
   ]
  },
  {
   "cell_type": "code",
   "execution_count": 12,
   "metadata": {},
   "outputs": [],
   "source": [
    "# results for clustered mocks, NO gradient, single amplitudes\n",
    "mock_vals = generate_mock_list.generate_mock_list(As=1, extra=True)\n",
    "mock_file_list = mock_vals['lognorm_file_list']\n",
    "xi_arr_nograd = np.empty((len(mock_file_list), globals.nbins)) \n",
    "for i in range(len(mock_file_list)):\n",
    "    r_avg, xi = np.load(f'/scratch/aew492/research-summer2020_output/lognormal/xi/ls/{cat_tag}/xi_{mock_file_list[i]}.npy')\n",
    "    xi_arr_nograd[i] = xi\n",
    "\n",
    "cfs_mean_nograd, stds_nograd, _ = get_cfarr_vals(xi_arr_nograd)\n",
    "\n",
    "mock_vals_2x = generate_mock_list.generate_mock_list(As=2, extra=True)\n",
    "mock_file_list_2x = mock_vals_2x['lognorm_file_list']\n",
    "xi_arr_nograd_2x = np.empty((len(mock_file_list_2x), globals.nbins)) \n",
    "for i in range(len(mock_file_list_2x)):\n",
    "    r_avg, xi = np.load(f'/scratch/aew492/research-summer2020_output/lognormal/xi/ls/{cat_tag}/xi_{mock_file_list_2x[i]}.npy')\n",
    "    xi_arr_nograd_2x[i] = xi\n",
    "\n",
    "cfs_mean_nograd_2x, stds_nograd_2x, _ = get_cfarr_vals(xi_arr_nograd_2x)"
   ]
  },
  {
   "cell_type": "code",
   "execution_count": 13,
   "metadata": {},
   "outputs": [
    {
     "data": {
      "text/plain": [
       "<matplotlib.legend.Legend at 0x154b831961f0>"
      ]
     },
     "execution_count": 13,
     "metadata": {},
     "output_type": "execute_result"
    },
    {
     "data": {
      "image/png": "[encoded data removed]",
      "text/plain": [
       "<Figure size 864x648 with 1 Axes>"
      ]
     },
     "metadata": {
      "needs_background": "light"
     },
     "output_type": "display_data"
    }
   ],
   "source": [
    "fig, ax = plt.subplots(figsize=(12,9))\n",
    "\n",
    "ax.plot(r_t, cf_t, color='k', label='2.0**2 * true CF', ls='-', lw=1, zorder=1000)\n",
    "\n",
    "ax.plot(r_base, base_vals, color='k', alpha=0.9, ls='--', label='redshift 0.57, bias 2')\n",
    "#ax.plot(r_base, base_vals_0, color='k', alpha=0.6, ls='--', label='redshift 0, bias 1')\n",
    "#ax.plot(r_base, base_vals_2, color='k', alpha=0.3, ls='--', label=\"redshift 0, bias 2\")\n",
    "\n",
    "ax.plot(r_base, cfs_mean_s, color='g', label=f'suave: $a_0 * $ BAO base')\n",
    "ax.fill_between(r_base, error_regions_s[:,0], error_regions_s[:,1], color='green', alpha=0.2)\n",
    "\n",
    "# ax.errorbar(r_avg, cfs_mean_p, yerr=stds_p, color='b', alpha=0.8, fmt='o', capsize=3, label=f'patches: recovered xi')\n",
    "\n",
    "#ax.errorbar(r_avg, cfs_mean_nograd, yerr=stds_nograd, color='r', alpha=0.6, fmt='o', capsize=3, label=f'no grad: recovered xi')\n",
    "#ax.errorbar(r_avg, cfs_mean_nograd_2x, yerr=stds_nograd_2x, color='orange', alpha=0.6, fmt='o', capsize=3, label=f'no grad: recovered xi 2x')\n",
    "\n",
    "ax.set_xlim(20, 140)\n",
    "ax.set_ylim(-.005, 0.03)\n",
    "plt.axhline(0, color=\"k\", alpha=0.5, lw=1)\n",
    "ax.set_xlabel(r'separation $r$ ($h^{-1}\\,$Mpc)')\n",
    "ax.set_ylabel(r'correlation function $\\xi$(r)')\n",
    "ax.set_title(f'Recovered Correlation Functions \\n L{globals.boxsize}, n{globals.lognormal_density}, As{globals.As}x, {globals.n_mocks} mocks')\n",
    "plt.legend()"
   ]
  },
  {
   "cell_type": "code",
   "execution_count": null,
   "metadata": {},
   "outputs": [],
   "source": [
    "fig, ax = plt.subplots(figsize=(12,9))\n",
    "\n",
    "ax.plot(r_t, cf_t, color='k', label='true CF', ls='-', lw=1, zorder=1000)\n",
    "ax.plot(r_t, 4*cf_t, color='g', label='4*true CF', ls='-', lw=1, zorder=1000)\n",
    "\n",
    "ax.plot(r_base, base_vals, color='k', alpha=0.9, ls='--', label='redshift 0.57, bias 2')\n",
    "ax.plot(r_base, base_vals_0, color='k', alpha=0.6, ls='--', label='redshift 0, bias 1')\n",
    "ax.plot(r_base, base_vals_2, color='k', alpha=0.3, ls='--', label=\"redshift 0, bias 2\")\n",
    "ax.plot(r_base, base_vals_3, color='b', alpha=0.3, ls='--', label=\"redshift 0.57, bias 1\")\n",
    "\n",
    "#ax.errorbar(r_avg, cfs_mean_nograd, yerr=stds_nograd, color='r', alpha=0.6, fmt='o', capsize=3, label=f'no grad: recovered xi')\n",
    "#ax.errorbar(r_avg, cfs_mean_nograd_2x, yerr=stds_nograd_2x, color='orange', alpha=0.6, fmt='o', capsize=3, label=f'no grad: recovered xi 2x')\n",
    "\n",
    "ax.set_xlim(20, 140)\n",
    "ax.set_ylim(-.005, 0.03)\n",
    "plt.axhline(0, color=\"k\", alpha=0.5, lw=1)\n",
    "ax.set_xlabel(r'separation $r$ ($h^{-1}\\,$Mpc)')\n",
    "ax.set_ylabel(r'correlation function $\\xi$(r)')\n",
    "ax.set_title(f'Recovered Correlation Functions \\n L{globals.boxsize}, n{num_den}, As{globals.As}x, {globals.n_mocks} mocks')\n",
    "plt.legend()"
   ]
  },
  {
   "cell_type": "code",
   "execution_count": null,
   "metadata": {},
   "outputs": [],
   "source": []
  }
 ],
 "metadata": {
  "kernelspec": {
   "display_name": "Python 3",
   "language": "python",
   "name": "python3"
  },
  "language_info": {
   "codemirror_mode": {
    "name": "ipython",
    "version": 3
   },
   "file_extension": ".py",
   "mimetype": "text/x-python",
   "name": "python",
   "nbconvert_exporter": "python",
   "pygments_lexer": "ipython3",
   "version": "3.8.6"
  }
 },
 "nbformat": 4,
 "nbformat_minor": 5
}
