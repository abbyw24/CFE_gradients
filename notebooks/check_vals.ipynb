{
 "cells": [
  {
   "cell_type": "code",
   "execution_count": 1,
   "metadata": {},
   "outputs": [],
   "source": [
    "%load_ext autoreload\n",
    "%autoreload 2"
   ]
  },
  {
   "cell_type": "code",
   "execution_count": 2,
   "metadata": {},
   "outputs": [],
   "source": [
    "import numpy as np\n",
    "import matplotlib.pyplot as plt\n",
    "import matplotlib\n",
    "import sys\n",
    "import os\n",
    "\n",
    "sys.path.insert(0, '/home/aew492/CFE_gradients/code')\n",
    "import load_tools\n",
    "import globals\n",
    "globals.initialize_vals()"
   ]
  },
  {
   "cell_type": "code",
   "execution_count": 3,
   "metadata": {},
   "outputs": [],
   "source": [
    "# Ls = [500, 750, 1000, 1500]\n",
    "L = 750\n",
    "ns = ['1e-4']\n",
    "grad_dim = 2\n",
    "m = 1"
   ]
  },
  {
   "cell_type": "code",
   "execution_count": 4,
   "metadata": {},
   "outputs": [
    {
     "name": "stdout",
     "output_type": "stream",
     "text": [
      "density 1e-4:\n"
     ]
    },
    {
     "data": {
      "image/png": "[encoded data removed]",
      "text/plain": [
       "<Figure size 432x288 with 1 Axes>"
      ]
     },
     "metadata": {
      "needs_background": "light"
     },
     "output_type": "display_data"
    }
   ],
   "source": [
    "i = 0\n",
    "while i < len(ns):\n",
    "    print(f\"density {ns[i]}:\")\n",
    "    try:\n",
    "        load_tools.check_grad_amps(L, ns[i], grad_dim, m, title=f'L{L} n{ns[i]} m{m} {grad_dim}D')\n",
    "    except FileNotFoundError:\n",
    "        print(f\"not found, moving to the next.\")\n",
    "    finally:\n",
    "        if i==len(ns):\n",
    "            break\n",
    "        i += 1"
   ]
  },
  {
   "cell_type": "code",
   "execution_count": 5,
   "metadata": {},
   "outputs": [],
   "source": [
    "cat_tag = 'L750_n1e-4_z057_patchy_As2x'\n",
    "mock_dict = np.load(os.path.join(globals.data_dir, f'catalogs/gradient/2D/{cat_tag}/{cat_tag}_rlz0_m-1.000-L_b-0.500.npy'), allow_pickle=True).item()"
   ]
  },
  {
   "cell_type": "code",
   "execution_count": 7,
   "metadata": {},
   "outputs": [
    {
     "data": {
      "text/plain": [
       "(array([0.00163299, 0.00094281, 0.        ]),\n",
       " array([0.8660254, 0.5      , 0.       ]),\n",
       " array([0.00163299, 0.00094281, 0.        ]))"
      ]
     },
     "execution_count": 7,
     "metadata": {},
     "output_type": "execute_result"
    }
   ],
   "source": [
    "mock_dict['grad_input'], mock_dict['w_hat'], mock_dict['grad_expected']"
   ]
  },
  {
   "cell_type": "code",
   "execution_count": null,
   "metadata": {},
   "outputs": [],
   "source": []
  }
 ],
 "metadata": {
  "kernelspec": {
   "display_name": "Python 3",
   "language": "python",
   "name": "python3"
  },
  "language_info": {
   "codemirror_mode": {
    "name": "ipython",
    "version": 3
   },
   "file_extension": ".py",
   "mimetype": "text/x-python",
   "name": "python",
   "nbconvert_exporter": "python",
   "pygments_lexer": "ipython3",
   "version": "3.8.6"
  }
 },
 "nbformat": 4,
 "nbformat_minor": 5
}
